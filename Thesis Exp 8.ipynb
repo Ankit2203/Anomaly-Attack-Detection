{
 "cells": [
  {
   "cell_type": "code",
   "execution_count": 1,
   "id": "8b20bd2e",
   "metadata": {},
   "outputs": [],
   "source": [
    "import pandas as pd"
   ]
  },
  {
   "cell_type": "code",
   "execution_count": null,
   "id": "3b9e5153",
   "metadata": {},
   "outputs": [],
   "source": [
    "# read the data"
   ]
  },
  {
   "cell_type": "code",
   "execution_count": 2,
   "id": "303db149",
   "metadata": {},
   "outputs": [],
   "source": [
    "train_ddos1=pd.read_csv(\"E:/Ankit files/IoT23_thesis/Preprocess_BinaryFiles/CROSS DATASET/cse_cic_ids_2018_encoded_train.csv\")"
   ]
  },
  {
   "cell_type": "code",
   "execution_count": 3,
   "id": "2597f25c",
   "metadata": {},
   "outputs": [],
   "source": [
    "test_ddos=pd.read_csv(\"E:/Ankit files/IoT23_thesis/Preprocess_BinaryFiles/CROSS DATASET/IoT23_DDoS_Portscan_Benign_Binary.csv\")"
   ]
  },
  {
   "cell_type": "code",
   "execution_count": 4,
   "id": "8acf4008",
   "metadata": {},
   "outputs": [
    {
     "data": {
      "text/plain": [
       "(244103, 60)"
      ]
     },
     "execution_count": 4,
     "metadata": {},
     "output_type": "execute_result"
    }
   ],
   "source": [
    "train_ddos1.shape"
   ]
  },
  {
   "cell_type": "code",
   "execution_count": 5,
   "id": "27de7a58",
   "metadata": {},
   "outputs": [
    {
     "data": {
      "text/plain": [
       "(141514, 60)"
      ]
     },
     "execution_count": 5,
     "metadata": {},
     "output_type": "execute_result"
    }
   ],
   "source": [
    "test_ddos.shape"
   ]
  },
  {
   "cell_type": "code",
   "execution_count": 6,
   "id": "786bc6e4",
   "metadata": {},
   "outputs": [
    {
     "name": "stdout",
     "output_type": "stream",
     "text": [
      "<class 'pandas.core.frame.DataFrame'>\n",
      "RangeIndex: 244103 entries, 0 to 244102\n",
      "Data columns (total 60 columns):\n",
      " #   Column                      Non-Null Count   Dtype  \n",
      "---  ------                      --------------   -----  \n",
      " 0   Flow Duration               244103 non-null  int64  \n",
      " 1   Total Fwd Packet            244103 non-null  int64  \n",
      " 2   Total Bwd packets           244103 non-null  int64  \n",
      " 3   Total Length of Fwd Packet  244103 non-null  int64  \n",
      " 4   Total Length of Bwd Packet  244103 non-null  int64  \n",
      " 5   Fwd Packet Length Max       244103 non-null  int64  \n",
      " 6   Fwd Packet Length Min       244103 non-null  int64  \n",
      " 7   Fwd Packet Length Mean      244103 non-null  float64\n",
      " 8   Fwd Packet Length Std       244103 non-null  float64\n",
      " 9   Bwd Packet Length Max       244103 non-null  int64  \n",
      " 10  Bwd Packet Length Min       244103 non-null  int64  \n",
      " 11  Bwd Packet Length Mean      244103 non-null  float64\n",
      " 12  Bwd Packet Length Std       244103 non-null  float64\n",
      " 13  Flow Bytes/s                244103 non-null  float64\n",
      " 14  Flow Packets/s              244103 non-null  float64\n",
      " 15  Flow IAT Mean               244103 non-null  float64\n",
      " 16  Flow IAT Std                244103 non-null  float64\n",
      " 17  Flow IAT Max                244103 non-null  int64  \n",
      " 18  Flow IAT Min                244103 non-null  int64  \n",
      " 19  Fwd IAT Total               244103 non-null  int64  \n",
      " 20  Fwd IAT Mean                244103 non-null  float64\n",
      " 21  Fwd IAT Std                 244103 non-null  float64\n",
      " 22  Fwd IAT Max                 244103 non-null  int64  \n",
      " 23  Fwd IAT Min                 244103 non-null  int64  \n",
      " 24  Bwd IAT Total               244103 non-null  int64  \n",
      " 25  Bwd IAT Mean                244103 non-null  float64\n",
      " 26  Bwd IAT Std                 244103 non-null  float64\n",
      " 27  Bwd IAT Max                 244103 non-null  int64  \n",
      " 28  Bwd IAT Min                 244103 non-null  int64  \n",
      " 29  Fwd Header Length           244103 non-null  int64  \n",
      " 30  Bwd Header Length           244103 non-null  int64  \n",
      " 31  Fwd Packets/s               244103 non-null  float64\n",
      " 32  Bwd Packets/s               244103 non-null  float64\n",
      " 33  Packet Length Min           244103 non-null  int64  \n",
      " 34  Packet Length Max           244103 non-null  int64  \n",
      " 35  Packet Length Mean          244103 non-null  float64\n",
      " 36  Packet Length Std           244103 non-null  float64\n",
      " 37  Packet Length Variance      244103 non-null  float64\n",
      " 38  RST Flag Count              244103 non-null  int64  \n",
      " 39  PSH Flag Count              244103 non-null  int64  \n",
      " 40  ACK Flag Count              244103 non-null  int64  \n",
      " 41  URG Flag Count              244103 non-null  int64  \n",
      " 42  Average Packet Size         244103 non-null  float64\n",
      " 43  Fwd Segment Size Avg        244103 non-null  float64\n",
      " 44  Bwd Segment Size Avg        244103 non-null  float64\n",
      " 45  Subflow Fwd Packets         244103 non-null  int64  \n",
      " 46  Subflow Fwd Bytes           244103 non-null  int64  \n",
      " 47  FWD Init Win Bytes          244103 non-null  int64  \n",
      " 48  Bwd Init Win Bytes          244103 non-null  int64  \n",
      " 49  Fwd Act Data Pkts           244103 non-null  int64  \n",
      " 50  Fwd Seg Size Min            244103 non-null  int64  \n",
      " 51  Active Mean                 244103 non-null  float64\n",
      " 52  Active Std                  244103 non-null  float64\n",
      " 53  Active Max                  244103 non-null  int64  \n",
      " 54  Active Min                  244103 non-null  int64  \n",
      " 55  Idle Mean                   244103 non-null  float64\n",
      " 56  Idle Std                    244103 non-null  float64\n",
      " 57  Idle Max                    244103 non-null  int64  \n",
      " 58  Idle Min                    244103 non-null  int64  \n",
      " 59  Label                       244103 non-null  int64  \n",
      "dtypes: float64(24), int64(36)\n",
      "memory usage: 111.7 MB\n"
     ]
    }
   ],
   "source": [
    "train_ddos1.info()"
   ]
  },
  {
   "cell_type": "code",
   "execution_count": 7,
   "id": "fb6c1bf0",
   "metadata": {},
   "outputs": [
    {
     "name": "stdout",
     "output_type": "stream",
     "text": [
      "<class 'pandas.core.frame.DataFrame'>\n",
      "RangeIndex: 141514 entries, 0 to 141513\n",
      "Data columns (total 60 columns):\n",
      " #   Column                      Non-Null Count   Dtype  \n",
      "---  ------                      --------------   -----  \n",
      " 0   Flow Duration               141514 non-null  int64  \n",
      " 1   Total Fwd Packet            141514 non-null  int64  \n",
      " 2   Total Bwd packets           141514 non-null  int64  \n",
      " 3   Total Length of Fwd Packet  141514 non-null  int64  \n",
      " 4   Total Length of Bwd Packet  141514 non-null  int64  \n",
      " 5   Fwd Packet Length Max       141514 non-null  int64  \n",
      " 6   Fwd Packet Length Min       141514 non-null  int64  \n",
      " 7   Fwd Packet Length Mean      141514 non-null  float64\n",
      " 8   Fwd Packet Length Std       141514 non-null  float64\n",
      " 9   Bwd Packet Length Max       141514 non-null  int64  \n",
      " 10  Bwd Packet Length Min       141514 non-null  int64  \n",
      " 11  Bwd Packet Length Mean      141514 non-null  float64\n",
      " 12  Bwd Packet Length Std       141514 non-null  float64\n",
      " 13  Flow Bytes/s                141514 non-null  float64\n",
      " 14  Flow Packets/s              141514 non-null  float64\n",
      " 15  Flow IAT Mean               141514 non-null  float64\n",
      " 16  Flow IAT Std                141514 non-null  float64\n",
      " 17  Flow IAT Max                141514 non-null  int64  \n",
      " 18  Flow IAT Min                141514 non-null  int64  \n",
      " 19  Fwd IAT Total               141514 non-null  int64  \n",
      " 20  Fwd IAT Mean                141514 non-null  float64\n",
      " 21  Fwd IAT Std                 141514 non-null  float64\n",
      " 22  Fwd IAT Max                 141514 non-null  int64  \n",
      " 23  Fwd IAT Min                 141514 non-null  int64  \n",
      " 24  Bwd IAT Total               141514 non-null  int64  \n",
      " 25  Bwd IAT Mean                141514 non-null  float64\n",
      " 26  Bwd IAT Std                 141514 non-null  float64\n",
      " 27  Bwd IAT Max                 141514 non-null  int64  \n",
      " 28  Bwd IAT Min                 141514 non-null  int64  \n",
      " 29  Fwd Header Length           141514 non-null  int64  \n",
      " 30  Bwd Header Length           141514 non-null  int64  \n",
      " 31  Fwd Packets/s               141514 non-null  float64\n",
      " 32  Bwd Packets/s               141514 non-null  float64\n",
      " 33  Packet Length Min           141514 non-null  int64  \n",
      " 34  Packet Length Max           141514 non-null  int64  \n",
      " 35  Packet Length Mean          141514 non-null  float64\n",
      " 36  Packet Length Std           141514 non-null  float64\n",
      " 37  Packet Length Variance      141514 non-null  float64\n",
      " 38  RST Flag Count              141514 non-null  int64  \n",
      " 39  PSH Flag Count              141514 non-null  int64  \n",
      " 40  ACK Flag Count              141514 non-null  int64  \n",
      " 41  URG Flag Count              141514 non-null  int64  \n",
      " 42  Average Packet Size         141514 non-null  float64\n",
      " 43  Fwd Segment Size Avg        141514 non-null  float64\n",
      " 44  Bwd Segment Size Avg        141514 non-null  float64\n",
      " 45  Subflow Fwd Packets         141514 non-null  int64  \n",
      " 46  Subflow Fwd Bytes           141514 non-null  int64  \n",
      " 47  FWD Init Win Bytes          141514 non-null  int64  \n",
      " 48  Bwd Init Win Bytes          141514 non-null  int64  \n",
      " 49  Fwd Act Data Pkts           141514 non-null  int64  \n",
      " 50  Fwd Seg Size Min            141514 non-null  int64  \n",
      " 51  Active Mean                 141514 non-null  float64\n",
      " 52  Active Std                  141514 non-null  float64\n",
      " 53  Active Max                  141514 non-null  int64  \n",
      " 54  Active Min                  141514 non-null  int64  \n",
      " 55  Idle Mean                   141514 non-null  float64\n",
      " 56  Idle Std                    141514 non-null  float64\n",
      " 57  Idle Max                    141514 non-null  float64\n",
      " 58  Idle Min                    141514 non-null  float64\n",
      " 59  Label                       141514 non-null  int64  \n",
      "dtypes: float64(26), int64(34)\n",
      "memory usage: 64.8 MB\n"
     ]
    }
   ],
   "source": [
    "test_ddos.info()"
   ]
  },
  {
   "cell_type": "code",
   "execution_count": 8,
   "id": "3388b487",
   "metadata": {},
   "outputs": [
    {
     "name": "stdout",
     "output_type": "stream",
     "text": [
      "1    171936\n",
      "0     72167\n",
      "Name: Label, dtype: int64\n"
     ]
    }
   ],
   "source": [
    "cnt_types =  train_ddos1['Label'].value_counts()\n",
    "print(cnt_types)"
   ]
  },
  {
   "cell_type": "code",
   "execution_count": 9,
   "id": "37fa30b1",
   "metadata": {},
   "outputs": [
    {
     "name": "stdout",
     "output_type": "stream",
     "text": [
      "1    80990\n",
      "0    60524\n",
      "Name: Label, dtype: int64\n"
     ]
    }
   ],
   "source": [
    "cnt_types =  test_ddos['Label'].value_counts()\n",
    "print(cnt_types)"
   ]
  },
  {
   "cell_type": "code",
   "execution_count": 10,
   "id": "401a6e04",
   "metadata": {},
   "outputs": [],
   "source": [
    "# Assigning independent and dependent varriable"
   ]
  },
  {
   "cell_type": "code",
   "execution_count": 4,
   "id": "15a15310",
   "metadata": {},
   "outputs": [],
   "source": [
    "x_train= train_ddos1.iloc[:, (train_ddos1.columns!='Label')]\n",
    "y_train = train_ddos1.iloc[:,-1]"
   ]
  },
  {
   "cell_type": "code",
   "execution_count": 5,
   "id": "d56da626",
   "metadata": {},
   "outputs": [],
   "source": [
    "x_test= test_ddos.iloc[:, (test_ddos.columns!='Label')]\n",
    "y_test= test_ddos.iloc[:,-1]"
   ]
  },
  {
   "cell_type": "code",
   "execution_count": null,
   "id": "ac8ea3ae",
   "metadata": {},
   "outputs": [],
   "source": [
    "# check for corelation"
   ]
  },
  {
   "cell_type": "code",
   "execution_count": 12,
   "id": "31a68e46",
   "metadata": {},
   "outputs": [
    {
     "data": {
      "text/plain": [
       "Flow Duration                 0\n",
       "Total Fwd Packet              0\n",
       "Total Bwd packets             0\n",
       "Total Length of Fwd Packet    0\n",
       "Total Length of Bwd Packet    0\n",
       "Fwd Packet Length Max         0\n",
       "Fwd Packet Length Min         0\n",
       "Fwd Packet Length Mean        0\n",
       "Fwd Packet Length Std         0\n",
       "Bwd Packet Length Max         0\n",
       "Bwd Packet Length Min         0\n",
       "Bwd Packet Length Mean        0\n",
       "Bwd Packet Length Std         0\n",
       "Flow Bytes/s                  0\n",
       "Flow Packets/s                0\n",
       "Flow IAT Mean                 0\n",
       "Flow IAT Std                  0\n",
       "Flow IAT Max                  0\n",
       "Flow IAT Min                  0\n",
       "Fwd IAT Total                 0\n",
       "Fwd IAT Mean                  0\n",
       "Fwd IAT Std                   0\n",
       "Fwd IAT Max                   0\n",
       "Fwd IAT Min                   0\n",
       "Bwd IAT Total                 0\n",
       "Bwd IAT Mean                  0\n",
       "Bwd IAT Std                   0\n",
       "Bwd IAT Max                   0\n",
       "Bwd IAT Min                   0\n",
       "Fwd Header Length             0\n",
       "Bwd Header Length             0\n",
       "Fwd Packets/s                 0\n",
       "Bwd Packets/s                 0\n",
       "Packet Length Min             0\n",
       "Packet Length Max             0\n",
       "Packet Length Mean            0\n",
       "Packet Length Std             0\n",
       "Packet Length Variance        0\n",
       "RST Flag Count                0\n",
       "PSH Flag Count                0\n",
       "ACK Flag Count                0\n",
       "URG Flag Count                0\n",
       "Average Packet Size           0\n",
       "Fwd Segment Size Avg          0\n",
       "Bwd Segment Size Avg          0\n",
       "Subflow Fwd Packets           0\n",
       "Subflow Fwd Bytes             0\n",
       "FWD Init Win Bytes            0\n",
       "Bwd Init Win Bytes            0\n",
       "Fwd Act Data Pkts             0\n",
       "Fwd Seg Size Min              0\n",
       "Active Mean                   0\n",
       "Active Std                    0\n",
       "Active Max                    0\n",
       "Active Min                    0\n",
       "Idle Mean                     0\n",
       "Idle Std                      0\n",
       "Idle Max                      0\n",
       "Idle Min                      0\n",
       "dtype: int64"
      ]
     },
     "execution_count": 12,
     "metadata": {},
     "output_type": "execute_result"
    }
   ],
   "source": [
    "crr1=x_train.corr()\n",
    "crr1.isnull().sum()"
   ]
  },
  {
   "cell_type": "code",
   "execution_count": 13,
   "id": "9d421212",
   "metadata": {},
   "outputs": [
    {
     "data": {
      "text/plain": [
       "Flow Duration                 0\n",
       "Total Fwd Packet              0\n",
       "Total Bwd packets             0\n",
       "Total Length of Fwd Packet    0\n",
       "Total Length of Bwd Packet    0\n",
       "Fwd Packet Length Max         0\n",
       "Fwd Packet Length Min         0\n",
       "Fwd Packet Length Mean        0\n",
       "Fwd Packet Length Std         0\n",
       "Bwd Packet Length Max         0\n",
       "Bwd Packet Length Min         0\n",
       "Bwd Packet Length Mean        0\n",
       "Bwd Packet Length Std         0\n",
       "Flow Bytes/s                  0\n",
       "Flow Packets/s                0\n",
       "Flow IAT Mean                 0\n",
       "Flow IAT Std                  0\n",
       "Flow IAT Max                  0\n",
       "Flow IAT Min                  0\n",
       "Fwd IAT Total                 0\n",
       "Fwd IAT Mean                  0\n",
       "Fwd IAT Std                   0\n",
       "Fwd IAT Max                   0\n",
       "Fwd IAT Min                   0\n",
       "Bwd IAT Total                 0\n",
       "Bwd IAT Mean                  0\n",
       "Bwd IAT Std                   0\n",
       "Bwd IAT Max                   0\n",
       "Bwd IAT Min                   0\n",
       "Fwd Header Length             0\n",
       "Bwd Header Length             0\n",
       "Fwd Packets/s                 0\n",
       "Bwd Packets/s                 0\n",
       "Packet Length Min             0\n",
       "Packet Length Max             0\n",
       "Packet Length Mean            0\n",
       "Packet Length Std             0\n",
       "Packet Length Variance        0\n",
       "RST Flag Count                0\n",
       "PSH Flag Count                0\n",
       "ACK Flag Count                0\n",
       "URG Flag Count                0\n",
       "Average Packet Size           0\n",
       "Fwd Segment Size Avg          0\n",
       "Bwd Segment Size Avg          0\n",
       "Subflow Fwd Packets           0\n",
       "Subflow Fwd Bytes             0\n",
       "FWD Init Win Bytes            0\n",
       "Bwd Init Win Bytes            0\n",
       "Fwd Act Data Pkts             0\n",
       "Fwd Seg Size Min              0\n",
       "Active Mean                   0\n",
       "Active Std                    0\n",
       "Active Max                    0\n",
       "Active Min                    0\n",
       "Idle Mean                     0\n",
       "Idle Std                      0\n",
       "Idle Max                      0\n",
       "Idle Min                      0\n",
       "dtype: int64"
      ]
     },
     "execution_count": 13,
     "metadata": {},
     "output_type": "execute_result"
    }
   ],
   "source": [
    "crr1=x_test.corr()\n",
    "crr1.isnull().sum()"
   ]
  },
  {
   "cell_type": "code",
   "execution_count": null,
   "id": "286b170b",
   "metadata": {},
   "outputs": [],
   "source": [
    "# Normalization of independent varriable"
   ]
  },
  {
   "cell_type": "code",
   "execution_count": 6,
   "id": "f3abda48",
   "metadata": {},
   "outputs": [],
   "source": [
    "x_train = (x_train-x_train.mean())/x_train.std()"
   ]
  },
  {
   "cell_type": "code",
   "execution_count": 7,
   "id": "8e973b6d",
   "metadata": {},
   "outputs": [],
   "source": [
    "x_test = (x_test-x_test.mean())/x_test.std()"
   ]
  },
  {
   "cell_type": "code",
   "execution_count": 16,
   "id": "1fb875ec",
   "metadata": {},
   "outputs": [
    {
     "name": "stdout",
     "output_type": "stream",
     "text": [
      "<class 'pandas.core.frame.DataFrame'>\n",
      "RangeIndex: 141514 entries, 0 to 141513\n",
      "Data columns (total 59 columns):\n",
      " #   Column                      Non-Null Count   Dtype  \n",
      "---  ------                      --------------   -----  \n",
      " 0   Flow Duration               141514 non-null  float64\n",
      " 1   Total Fwd Packet            141514 non-null  float64\n",
      " 2   Total Bwd packets           141514 non-null  float64\n",
      " 3   Total Length of Fwd Packet  141514 non-null  float64\n",
      " 4   Total Length of Bwd Packet  141514 non-null  float64\n",
      " 5   Fwd Packet Length Max       141514 non-null  float64\n",
      " 6   Fwd Packet Length Min       141514 non-null  float64\n",
      " 7   Fwd Packet Length Mean      141514 non-null  float64\n",
      " 8   Fwd Packet Length Std       141514 non-null  float64\n",
      " 9   Bwd Packet Length Max       141514 non-null  float64\n",
      " 10  Bwd Packet Length Min       141514 non-null  float64\n",
      " 11  Bwd Packet Length Mean      141514 non-null  float64\n",
      " 12  Bwd Packet Length Std       141514 non-null  float64\n",
      " 13  Flow Bytes/s                141514 non-null  float64\n",
      " 14  Flow Packets/s              141514 non-null  float64\n",
      " 15  Flow IAT Mean               141514 non-null  float64\n",
      " 16  Flow IAT Std                141514 non-null  float64\n",
      " 17  Flow IAT Max                141514 non-null  float64\n",
      " 18  Flow IAT Min                141514 non-null  float64\n",
      " 19  Fwd IAT Total               141514 non-null  float64\n",
      " 20  Fwd IAT Mean                141514 non-null  float64\n",
      " 21  Fwd IAT Std                 141514 non-null  float64\n",
      " 22  Fwd IAT Max                 141514 non-null  float64\n",
      " 23  Fwd IAT Min                 141514 non-null  float64\n",
      " 24  Bwd IAT Total               141514 non-null  float64\n",
      " 25  Bwd IAT Mean                141514 non-null  float64\n",
      " 26  Bwd IAT Std                 141514 non-null  float64\n",
      " 27  Bwd IAT Max                 141514 non-null  float64\n",
      " 28  Bwd IAT Min                 141514 non-null  float64\n",
      " 29  Fwd Header Length           141514 non-null  float64\n",
      " 30  Bwd Header Length           141514 non-null  float64\n",
      " 31  Fwd Packets/s               141514 non-null  float64\n",
      " 32  Bwd Packets/s               141514 non-null  float64\n",
      " 33  Packet Length Min           141514 non-null  float64\n",
      " 34  Packet Length Max           141514 non-null  float64\n",
      " 35  Packet Length Mean          141514 non-null  float64\n",
      " 36  Packet Length Std           141514 non-null  float64\n",
      " 37  Packet Length Variance      141514 non-null  float64\n",
      " 38  RST Flag Count              141514 non-null  float64\n",
      " 39  PSH Flag Count              141514 non-null  float64\n",
      " 40  ACK Flag Count              141514 non-null  float64\n",
      " 41  URG Flag Count              141514 non-null  float64\n",
      " 42  Average Packet Size         141514 non-null  float64\n",
      " 43  Fwd Segment Size Avg        141514 non-null  float64\n",
      " 44  Bwd Segment Size Avg        141514 non-null  float64\n",
      " 45  Subflow Fwd Packets         141514 non-null  float64\n",
      " 46  Subflow Fwd Bytes           141514 non-null  float64\n",
      " 47  FWD Init Win Bytes          141514 non-null  float64\n",
      " 48  Bwd Init Win Bytes          141514 non-null  float64\n",
      " 49  Fwd Act Data Pkts           141514 non-null  float64\n",
      " 50  Fwd Seg Size Min            141514 non-null  float64\n",
      " 51  Active Mean                 141514 non-null  float64\n",
      " 52  Active Std                  141514 non-null  float64\n",
      " 53  Active Max                  141514 non-null  float64\n",
      " 54  Active Min                  141514 non-null  float64\n",
      " 55  Idle Mean                   141514 non-null  float64\n",
      " 56  Idle Std                    141514 non-null  float64\n",
      " 57  Idle Max                    141514 non-null  float64\n",
      " 58  Idle Min                    141514 non-null  float64\n",
      "dtypes: float64(59)\n",
      "memory usage: 63.7 MB\n"
     ]
    }
   ],
   "source": [
    "x_test.info()"
   ]
  },
  {
   "cell_type": "code",
   "execution_count": 17,
   "id": "6549163f",
   "metadata": {},
   "outputs": [
    {
     "name": "stdout",
     "output_type": "stream",
     "text": [
      "<class 'pandas.core.frame.DataFrame'>\n",
      "RangeIndex: 244103 entries, 0 to 244102\n",
      "Data columns (total 59 columns):\n",
      " #   Column                      Non-Null Count   Dtype  \n",
      "---  ------                      --------------   -----  \n",
      " 0   Flow Duration               244103 non-null  float64\n",
      " 1   Total Fwd Packet            244103 non-null  float64\n",
      " 2   Total Bwd packets           244103 non-null  float64\n",
      " 3   Total Length of Fwd Packet  244103 non-null  float64\n",
      " 4   Total Length of Bwd Packet  244103 non-null  float64\n",
      " 5   Fwd Packet Length Max       244103 non-null  float64\n",
      " 6   Fwd Packet Length Min       244103 non-null  float64\n",
      " 7   Fwd Packet Length Mean      244103 non-null  float64\n",
      " 8   Fwd Packet Length Std       244103 non-null  float64\n",
      " 9   Bwd Packet Length Max       244103 non-null  float64\n",
      " 10  Bwd Packet Length Min       244103 non-null  float64\n",
      " 11  Bwd Packet Length Mean      244103 non-null  float64\n",
      " 12  Bwd Packet Length Std       244103 non-null  float64\n",
      " 13  Flow Bytes/s                244103 non-null  float64\n",
      " 14  Flow Packets/s              244103 non-null  float64\n",
      " 15  Flow IAT Mean               244103 non-null  float64\n",
      " 16  Flow IAT Std                244103 non-null  float64\n",
      " 17  Flow IAT Max                244103 non-null  float64\n",
      " 18  Flow IAT Min                244103 non-null  float64\n",
      " 19  Fwd IAT Total               244103 non-null  float64\n",
      " 20  Fwd IAT Mean                244103 non-null  float64\n",
      " 21  Fwd IAT Std                 244103 non-null  float64\n",
      " 22  Fwd IAT Max                 244103 non-null  float64\n",
      " 23  Fwd IAT Min                 244103 non-null  float64\n",
      " 24  Bwd IAT Total               244103 non-null  float64\n",
      " 25  Bwd IAT Mean                244103 non-null  float64\n",
      " 26  Bwd IAT Std                 244103 non-null  float64\n",
      " 27  Bwd IAT Max                 244103 non-null  float64\n",
      " 28  Bwd IAT Min                 244103 non-null  float64\n",
      " 29  Fwd Header Length           244103 non-null  float64\n",
      " 30  Bwd Header Length           244103 non-null  float64\n",
      " 31  Fwd Packets/s               244103 non-null  float64\n",
      " 32  Bwd Packets/s               244103 non-null  float64\n",
      " 33  Packet Length Min           244103 non-null  float64\n",
      " 34  Packet Length Max           244103 non-null  float64\n",
      " 35  Packet Length Mean          244103 non-null  float64\n",
      " 36  Packet Length Std           244103 non-null  float64\n",
      " 37  Packet Length Variance      244103 non-null  float64\n",
      " 38  RST Flag Count              244103 non-null  float64\n",
      " 39  PSH Flag Count              244103 non-null  float64\n",
      " 40  ACK Flag Count              244103 non-null  float64\n",
      " 41  URG Flag Count              244103 non-null  float64\n",
      " 42  Average Packet Size         244103 non-null  float64\n",
      " 43  Fwd Segment Size Avg        244103 non-null  float64\n",
      " 44  Bwd Segment Size Avg        244103 non-null  float64\n",
      " 45  Subflow Fwd Packets         244103 non-null  float64\n",
      " 46  Subflow Fwd Bytes           244103 non-null  float64\n",
      " 47  FWD Init Win Bytes          244103 non-null  float64\n",
      " 48  Bwd Init Win Bytes          244103 non-null  float64\n",
      " 49  Fwd Act Data Pkts           244103 non-null  float64\n",
      " 50  Fwd Seg Size Min            244103 non-null  float64\n",
      " 51  Active Mean                 244103 non-null  float64\n",
      " 52  Active Std                  244103 non-null  float64\n",
      " 53  Active Max                  244103 non-null  float64\n",
      " 54  Active Min                  244103 non-null  float64\n",
      " 55  Idle Mean                   244103 non-null  float64\n",
      " 56  Idle Std                    244103 non-null  float64\n",
      " 57  Idle Max                    244103 non-null  float64\n",
      " 58  Idle Min                    244103 non-null  float64\n",
      "dtypes: float64(59)\n",
      "memory usage: 109.9 MB\n"
     ]
    }
   ],
   "source": [
    "x_train.info()"
   ]
  },
  {
   "cell_type": "code",
   "execution_count": 18,
   "id": "faa57a09",
   "metadata": {},
   "outputs": [
    {
     "data": {
      "text/plain": [
       "Flow Duration                 0\n",
       "Total Fwd Packet              0\n",
       "Total Bwd packets             0\n",
       "Total Length of Fwd Packet    0\n",
       "Total Length of Bwd Packet    0\n",
       "Fwd Packet Length Max         0\n",
       "Fwd Packet Length Min         0\n",
       "Fwd Packet Length Mean        0\n",
       "Fwd Packet Length Std         0\n",
       "Bwd Packet Length Max         0\n",
       "Bwd Packet Length Min         0\n",
       "Bwd Packet Length Mean        0\n",
       "Bwd Packet Length Std         0\n",
       "Flow Bytes/s                  0\n",
       "Flow Packets/s                0\n",
       "Flow IAT Mean                 0\n",
       "Flow IAT Std                  0\n",
       "Flow IAT Max                  0\n",
       "Flow IAT Min                  0\n",
       "Fwd IAT Total                 0\n",
       "Fwd IAT Mean                  0\n",
       "Fwd IAT Std                   0\n",
       "Fwd IAT Max                   0\n",
       "Fwd IAT Min                   0\n",
       "Bwd IAT Total                 0\n",
       "Bwd IAT Mean                  0\n",
       "Bwd IAT Std                   0\n",
       "Bwd IAT Max                   0\n",
       "Bwd IAT Min                   0\n",
       "Fwd Header Length             0\n",
       "Bwd Header Length             0\n",
       "Fwd Packets/s                 0\n",
       "Bwd Packets/s                 0\n",
       "Packet Length Min             0\n",
       "Packet Length Max             0\n",
       "Packet Length Mean            0\n",
       "Packet Length Std             0\n",
       "Packet Length Variance        0\n",
       "RST Flag Count                0\n",
       "PSH Flag Count                0\n",
       "ACK Flag Count                0\n",
       "URG Flag Count                0\n",
       "Average Packet Size           0\n",
       "Fwd Segment Size Avg          0\n",
       "Bwd Segment Size Avg          0\n",
       "Subflow Fwd Packets           0\n",
       "Subflow Fwd Bytes             0\n",
       "FWD Init Win Bytes            0\n",
       "Bwd Init Win Bytes            0\n",
       "Fwd Act Data Pkts             0\n",
       "Fwd Seg Size Min              0\n",
       "Active Mean                   0\n",
       "Active Std                    0\n",
       "Active Max                    0\n",
       "Active Min                    0\n",
       "Idle Mean                     0\n",
       "Idle Std                      0\n",
       "Idle Max                      0\n",
       "Idle Min                      0\n",
       "dtype: int64"
      ]
     },
     "execution_count": 18,
     "metadata": {},
     "output_type": "execute_result"
    }
   ],
   "source": [
    "crr1=x_train.corr()\n",
    "crr1.isnull().sum()"
   ]
  },
  {
   "cell_type": "code",
   "execution_count": 19,
   "id": "fb9475d6",
   "metadata": {},
   "outputs": [
    {
     "data": {
      "text/plain": [
       "False"
      ]
     },
     "execution_count": 19,
     "metadata": {},
     "output_type": "execute_result"
    }
   ],
   "source": [
    "x_train['Flow Bytes/s'].isnull().values.any()"
   ]
  },
  {
   "cell_type": "code",
   "execution_count": 20,
   "id": "9d3d7402",
   "metadata": {},
   "outputs": [
    {
     "name": "stdout",
     "output_type": "stream",
     "text": [
      "Flow Duration                 1.0\n",
      "Total Fwd Packet              1.0\n",
      "Total Bwd packets             1.0\n",
      "Total Length of Fwd Packet    1.0\n",
      "Total Length of Bwd Packet    1.0\n",
      "Fwd Packet Length Max         1.0\n",
      "Fwd Packet Length Min         1.0\n",
      "Fwd Packet Length Mean        1.0\n",
      "Fwd Packet Length Std         1.0\n",
      "Bwd Packet Length Max         1.0\n",
      "dtype: float64\n",
      "Bwd Packet Length Min     1.0\n",
      "Bwd Packet Length Mean    1.0\n",
      "Bwd Packet Length Std     1.0\n",
      "Flow Bytes/s              1.0\n",
      "Flow Packets/s            1.0\n",
      "Flow IAT Mean             1.0\n",
      "Flow IAT Std              1.0\n",
      "Flow IAT Max              1.0\n",
      "Flow IAT Min              1.0\n",
      "Fwd IAT Total             1.0\n",
      "Fwd IAT Mean              1.0\n",
      "Fwd IAT Std               1.0\n",
      "Fwd IAT Max               1.0\n",
      "Fwd IAT Min               1.0\n",
      "Bwd IAT Total             1.0\n",
      "Bwd IAT Mean              1.0\n",
      "Bwd IAT Std               1.0\n",
      "Bwd IAT Max               1.0\n",
      "Bwd IAT Min               1.0\n",
      "Fwd Header Length         1.0\n",
      "dtype: float64\n",
      "Bwd Header Length         1.0\n",
      "Fwd Packets/s             1.0\n",
      "Bwd Packets/s             1.0\n",
      "Packet Length Min         1.0\n",
      "Packet Length Max         1.0\n",
      "Packet Length Mean        1.0\n",
      "Packet Length Std         1.0\n",
      "Packet Length Variance    1.0\n",
      "RST Flag Count            1.0\n",
      "PSH Flag Count            1.0\n",
      "ACK Flag Count            1.0\n",
      "URG Flag Count            1.0\n",
      "Average Packet Size       1.0\n",
      "Fwd Segment Size Avg      1.0\n",
      "Bwd Segment Size Avg      1.0\n",
      "Subflow Fwd Packets       1.0\n",
      "Subflow Fwd Bytes         1.0\n",
      "FWD Init Win Bytes        1.0\n",
      "Bwd Init Win Bytes        1.0\n",
      "Fwd Act Data Pkts         1.0\n",
      "Fwd Seg Size Min          1.0\n",
      "Active Mean               1.0\n",
      "Active Std                1.0\n",
      "Active Max                1.0\n",
      "Active Min                1.0\n",
      "Idle Mean                 1.0\n",
      "Idle Std                  1.0\n",
      "Idle Max                  1.0\n",
      "Idle Min                  1.0\n",
      "dtype: float64\n",
      "Series([], dtype: float64)\n"
     ]
    }
   ],
   "source": [
    "sd1 = x_train.std(ddof=1)\n",
    "print(sd1[0:10])\n",
    "print(sd1[10:30])\n",
    "print(sd1[30:60])\n",
    "print(sd1[60:70])"
   ]
  },
  {
   "cell_type": "code",
   "execution_count": 21,
   "id": "aca1de02",
   "metadata": {},
   "outputs": [
    {
     "data": {
      "text/plain": [
       "Flow Duration                 0\n",
       "Total Fwd Packet              0\n",
       "Total Bwd packets             0\n",
       "Total Length of Fwd Packet    0\n",
       "Total Length of Bwd Packet    0\n",
       "Fwd Packet Length Max         0\n",
       "Fwd Packet Length Min         0\n",
       "Fwd Packet Length Mean        0\n",
       "Fwd Packet Length Std         0\n",
       "Bwd Packet Length Max         0\n",
       "Bwd Packet Length Min         0\n",
       "Bwd Packet Length Mean        0\n",
       "Bwd Packet Length Std         0\n",
       "Flow Bytes/s                  0\n",
       "Flow Packets/s                0\n",
       "Flow IAT Mean                 0\n",
       "Flow IAT Std                  0\n",
       "Flow IAT Max                  0\n",
       "Flow IAT Min                  0\n",
       "Fwd IAT Total                 0\n",
       "Fwd IAT Mean                  0\n",
       "Fwd IAT Std                   0\n",
       "Fwd IAT Max                   0\n",
       "Fwd IAT Min                   0\n",
       "Bwd IAT Total                 0\n",
       "Bwd IAT Mean                  0\n",
       "Bwd IAT Std                   0\n",
       "Bwd IAT Max                   0\n",
       "Bwd IAT Min                   0\n",
       "Fwd Header Length             0\n",
       "Bwd Header Length             0\n",
       "Fwd Packets/s                 0\n",
       "Bwd Packets/s                 0\n",
       "Packet Length Min             0\n",
       "Packet Length Max             0\n",
       "Packet Length Mean            0\n",
       "Packet Length Std             0\n",
       "Packet Length Variance        0\n",
       "RST Flag Count                0\n",
       "PSH Flag Count                0\n",
       "ACK Flag Count                0\n",
       "URG Flag Count                0\n",
       "Average Packet Size           0\n",
       "Fwd Segment Size Avg          0\n",
       "Bwd Segment Size Avg          0\n",
       "Subflow Fwd Packets           0\n",
       "Subflow Fwd Bytes             0\n",
       "FWD Init Win Bytes            0\n",
       "Bwd Init Win Bytes            0\n",
       "Fwd Act Data Pkts             0\n",
       "Fwd Seg Size Min              0\n",
       "Active Mean                   0\n",
       "Active Std                    0\n",
       "Active Max                    0\n",
       "Active Min                    0\n",
       "Idle Mean                     0\n",
       "Idle Std                      0\n",
       "Idle Max                      0\n",
       "Idle Min                      0\n",
       "dtype: int64"
      ]
     },
     "execution_count": 21,
     "metadata": {},
     "output_type": "execute_result"
    }
   ],
   "source": [
    "crr1=x_test.corr()\n",
    "crr1.isnull().sum()"
   ]
  },
  {
   "cell_type": "code",
   "execution_count": null,
   "id": "6e4649c0",
   "metadata": {},
   "outputs": [],
   "source": [
    "# applying ML Models "
   ]
  },
  {
   "cell_type": "code",
   "execution_count": 22,
   "id": "e825eca7",
   "metadata": {},
   "outputs": [
    {
     "name": "stdout",
     "output_type": "stream",
     "text": [
      "Accuracy = 0.42725808047260344\n",
      "Accuracy: 1.000 (0.000)\n",
      "              precision    recall  f1-score   support\n",
      "\n",
      "           0       0.43      1.00      0.60     60524\n",
      "           1       0.16      0.00      0.00     80990\n",
      "\n",
      "    accuracy                           0.43    141514\n",
      "   macro avg       0.30      0.50      0.30    141514\n",
      "weighted avg       0.28      0.43      0.26    141514\n",
      "\n",
      "0:00:17.543505\n"
     ]
    }
   ],
   "source": [
    "from lightgbm import LGBMClassifier\n",
    "from sklearn.datasets import make_classification\n",
    "from sklearn.model_selection import cross_val_score\n",
    "#from sklearn.model_selection import RepeatedStratifiedKFold\n",
    "import datetime\n",
    "from sklearn.model_selection import KFold\n",
    "first_time = datetime.datetime.now()\n",
    "model = LGBMClassifier()\n",
    "model.fit(x_train, y_train)\n",
    "import sklearn.metrics as metrics\n",
    "cv = KFold(n_splits=10, random_state=1, shuffle=True)\n",
    "n_scores = cross_val_score(model, x_test, y_test, scoring='accuracy', cv=cv, n_jobs=-1)\n",
    "y_pred = model.predict(x_test)\n",
    "print(\"Accuracy =\", metrics.accuracy_score(y_test, y_pred))\n",
    " # report performance\n",
    "from numpy import mean\n",
    "from numpy import std\n",
    "print('Accuracy: %.3f (%.3f)' % (mean(n_scores), std(n_scores)))\n",
    "from sklearn.metrics import classification_report\n",
    "print(classification_report(y_test, y_pred))\n",
    "later_time = datetime.datetime.now()\n",
    "difference = later_time - first_time\n",
    "print(difference)"
   ]
  },
  {
   "cell_type": "code",
   "execution_count": null,
   "id": "6da49cb3",
   "metadata": {},
   "outputs": [],
   "source": [
    "x_train.info()"
   ]
  },
  {
   "cell_type": "code",
   "execution_count": 23,
   "id": "a85296a4",
   "metadata": {},
   "outputs": [
    {
     "name": "stderr",
     "output_type": "stream",
     "text": [
      "D:\\SOFTWARES\\Anaconda\\lib\\site-packages\\xgboost\\sklearn.py:888: UserWarning: The use of label encoder in XGBClassifier is deprecated and will be removed in a future release. To remove this warning, do the following: 1) Pass option use_label_encoder=False when constructing XGBClassifier object; and 2) Encode your labels (y) as integers starting with 0, i.e. 0, 1, 2, ..., [num_class - 1].\n",
      "  warnings.warn(label_encoder_deprecation_msg, UserWarning)\n"
     ]
    },
    {
     "name": "stdout",
     "output_type": "stream",
     "text": [
      "[09:02:21] WARNING: ..\\src\\learner.cc:1061: Starting in XGBoost 1.3.0, the default evaluation metric used with the objective 'binary:logistic' was changed from 'error' to 'logloss'. Explicitly set eval_metric if you'd like to restore the old behavior.\n",
      "Accuracy = 0.4276891332306344\n",
      "Accuracy: 1.000 (0.000)\n",
      "              precision    recall  f1-score   support\n",
      "\n",
      "           0       0.43      1.00      0.60     60524\n",
      "           1       0.00      0.00      0.00     80990\n",
      "\n",
      "    accuracy                           0.43    141514\n",
      "   macro avg       0.21      0.50      0.30    141514\n",
      "weighted avg       0.18      0.43      0.26    141514\n",
      "\n",
      "0:03:34.315829\n"
     ]
    },
    {
     "name": "stderr",
     "output_type": "stream",
     "text": [
      "D:\\SOFTWARES\\Anaconda\\lib\\site-packages\\sklearn\\metrics\\_classification.py:1245: UndefinedMetricWarning: Precision and F-score are ill-defined and being set to 0.0 in labels with no predicted samples. Use `zero_division` parameter to control this behavior.\n",
      "  _warn_prf(average, modifier, msg_start, len(result))\n",
      "D:\\SOFTWARES\\Anaconda\\lib\\site-packages\\sklearn\\metrics\\_classification.py:1245: UndefinedMetricWarning: Precision and F-score are ill-defined and being set to 0.0 in labels with no predicted samples. Use `zero_division` parameter to control this behavior.\n",
      "  _warn_prf(average, modifier, msg_start, len(result))\n",
      "D:\\SOFTWARES\\Anaconda\\lib\\site-packages\\sklearn\\metrics\\_classification.py:1245: UndefinedMetricWarning: Precision and F-score are ill-defined and being set to 0.0 in labels with no predicted samples. Use `zero_division` parameter to control this behavior.\n",
      "  _warn_prf(average, modifier, msg_start, len(result))\n"
     ]
    }
   ],
   "source": [
    "from xgboost import XGBClassifier\n",
    "from sklearn.model_selection import train_test_split\n",
    "from sklearn.metrics import accuracy_score\n",
    "from sklearn.datasets import make_classification\n",
    "from sklearn.model_selection import cross_val_score\n",
    "from sklearn.model_selection import RepeatedStratifiedKFold\n",
    "import datetime\n",
    "import sklearn.metrics as metrics\n",
    "\n",
    "first_time = datetime.datetime.now()\n",
    "# fit model no training data\n",
    "model = XGBClassifier()\n",
    "model.fit(x_train,y_train)\n",
    "y_pred = model.predict(x_test)\n",
    "print(\"Accuracy =\", metrics.accuracy_score(y_test,y_pred))\n",
    "\n",
    "cv = RepeatedStratifiedKFold(n_splits=10, n_repeats=3, random_state=1)\n",
    "n_scores = cross_val_score(model, x_test, y_test, scoring='accuracy', cv=cv, n_jobs=-1)\n",
    "from numpy import mean\n",
    "from numpy import std\n",
    "print('Accuracy: %.3f (%.3f)' % (mean(n_scores), std(n_scores)))\n",
    "from sklearn.metrics import classification_report\n",
    "print(classification_report(y_test,y_pred))\n",
    "later_time = datetime.datetime.now()\n",
    "difference = later_time -  first_time\n",
    "print(difference)"
   ]
  },
  {
   "cell_type": "code",
   "execution_count": null,
   "id": "e42618bd",
   "metadata": {},
   "outputs": [],
   "source": [
    "# Deep Forest"
   ]
  },
  {
   "cell_type": "code",
   "execution_count": 8,
   "id": "4e3bade5",
   "metadata": {},
   "outputs": [],
   "source": [
    "import numpy\n",
    "x_train=x_train.values\n",
    "y_train=y_train.values\n",
    "x_test=x_test.values\n",
    "y_test=y_test.values"
   ]
  },
  {
   "cell_type": "code",
   "execution_count": 9,
   "id": "e09714f1",
   "metadata": {},
   "outputs": [],
   "source": [
    "from sklearn.model_selection import train_test_split\n",
    "from sklearn.metrics import accuracy_score\n",
    "from sklearn.datasets import make_classification\n",
    "from sklearn.model_selection import cross_val_score\n",
    "from sklearn.model_selection import RepeatedStratifiedKFold\n",
    "import datetime\n",
    "import sklearn.metrics as metrics\n",
    "\n",
    "\n",
    "from deepforest import CascadeForestClassifier\n",
    "from sklearn.metrics import classification_report, confusion_matrix"
   ]
  },
  {
   "cell_type": "code",
   "execution_count": 10,
   "id": "2e18e460",
   "metadata": {},
   "outputs": [
    {
     "name": "stdout",
     "output_type": "stream",
     "text": [
      "[2021-11-22 03:41:09.806] Start to fit the model:\n",
      "[2021-11-22 03:41:09.807] Fitting cascade layer = 0 \n",
      "[2021-11-22 03:41:53.397] layer = 0  | Val Acc = 100.000 % | Elapsed = 43.590 s\n",
      "[2021-11-22 03:41:53.523] Fitting cascade layer = 1 \n",
      "[2021-11-22 03:42:15.716] layer = 1  | Val Acc = 100.000 % | Elapsed = 22.194 s\n",
      "[2021-11-22 03:42:15.722] Early stopping counter: 1 out of 2\n",
      "[2021-11-22 03:42:15.812] Fitting cascade layer = 2 \n",
      "[2021-11-22 03:42:36.730] layer = 2  | Val Acc = 100.000 % | Elapsed = 20.918 s\n",
      "[2021-11-22 03:42:36.730] Early stopping counter: 2 out of 2\n",
      "[2021-11-22 03:42:36.731] Handling early stopping\n",
      "[2021-11-22 03:42:36.732] The optimal number of layers: 1\n",
      "[2021-11-22 03:42:36.737] Start to evalute the model:\n",
      "[2021-11-22 03:42:36.893] Evaluating cascade layer = 0 \n",
      "\n",
      "Testing Accuracy: 42.769 %\n",
      "Accuracy: 1.000 (0.000)\n",
      "              precision    recall  f1-score   support\n",
      "\n",
      "           0       0.43      1.00      0.60     60524\n",
      "           1       0.00      0.00      0.00     80990\n",
      "\n",
      "    accuracy                           0.43    141514\n",
      "   macro avg       0.21      0.50      0.30    141514\n",
      "weighted avg       0.18      0.43      0.26    141514\n",
      "\n",
      "0:14:17.854498\n"
     ]
    },
    {
     "name": "stderr",
     "output_type": "stream",
     "text": [
      "D:\\SOFTWARES\\Anaconda\\lib\\site-packages\\sklearn\\metrics\\_classification.py:1245: UndefinedMetricWarning: Precision and F-score are ill-defined and being set to 0.0 in labels with no predicted samples. Use `zero_division` parameter to control this behavior.\n",
      "  _warn_prf(average, modifier, msg_start, len(result))\n",
      "D:\\SOFTWARES\\Anaconda\\lib\\site-packages\\sklearn\\metrics\\_classification.py:1245: UndefinedMetricWarning: Precision and F-score are ill-defined and being set to 0.0 in labels with no predicted samples. Use `zero_division` parameter to control this behavior.\n",
      "  _warn_prf(average, modifier, msg_start, len(result))\n",
      "D:\\SOFTWARES\\Anaconda\\lib\\site-packages\\sklearn\\metrics\\_classification.py:1245: UndefinedMetricWarning: Precision and F-score are ill-defined and being set to 0.0 in labels with no predicted samples. Use `zero_division` parameter to control this behavior.\n",
      "  _warn_prf(average, modifier, msg_start, len(result))\n"
     ]
    }
   ],
   "source": [
    "first_time = datetime.datetime.now()\n",
    "model = CascadeForestClassifier( )\n",
    "model.fit(x_train, y_train)\n",
    "y_pred = model.predict(x_test)\n",
    "acc = accuracy_score(y_test,  y_pred) * 100\n",
    "print(\"\\nTesting Accuracy: {:.3f} %\".format(acc))\n",
    "\n",
    "cv = RepeatedStratifiedKFold(n_splits=10, n_repeats=3, random_state=1)\n",
    "n_scores = cross_val_score(model, x_test, y_test, scoring='accuracy', cv=cv, n_jobs=-1)\n",
    "from numpy import mean\n",
    "from numpy import std\n",
    "print('Accuracy: %.3f (%.3f)' % (mean(n_scores), std(n_scores)))\n",
    "\n",
    "c_r = classification_report(y_test, y_pred)\n",
    "print(c_r)\n",
    "\n",
    "later_time = datetime.datetime.now()\n",
    "difference = later_time - first_time\n",
    "print(difference)"
   ]
  },
  {
   "cell_type": "code",
   "execution_count": 27,
   "id": "b5872818",
   "metadata": {},
   "outputs": [
    {
     "name": "stdout",
     "output_type": "stream",
     "text": [
      "              precision    recall  f1-score   support\n",
      "\n",
      "           0       0.43      1.00      0.60     16402\n",
      "           1       1.00      0.00      0.00     22186\n",
      "\n",
      "    accuracy                           0.43     38588\n",
      "   macro avg       0.71      0.50      0.30     38588\n",
      "weighted avg       0.76      0.43      0.25     38588\n",
      "\n",
      "[[16402     0]\n",
      " [22165    21]]\n"
     ]
    }
   ],
   "source": [
    "c_r = classification_report(y_test, y_pred)\n",
    "c_m = confusion_matrix(y_test, y_pred)\n",
    "print(c_r)\n",
    "print(c_m)"
   ]
  },
  {
   "cell_type": "code",
   "execution_count": null,
   "id": "7d04ca7f",
   "metadata": {},
   "outputs": [],
   "source": [
    "# feature selection"
   ]
  },
  {
   "cell_type": "code",
   "execution_count": 4,
   "id": "96d3aa71",
   "metadata": {},
   "outputs": [],
   "source": [
    "import numpy as np"
   ]
  },
  {
   "cell_type": "code",
   "execution_count": 5,
   "id": "ccd8a4a0",
   "metadata": {},
   "outputs": [],
   "source": [
    "X_train = train_ddos1.iloc[:, (train_ddos1.columns!='Label')]\n",
    "y_train = train_ddos1.iloc[:,-1]"
   ]
  },
  {
   "cell_type": "code",
   "execution_count": 6,
   "id": "fb110fe6",
   "metadata": {},
   "outputs": [],
   "source": [
    "X_test = test_ddos.iloc[:, (test_ddos.columns!='Label')]\n",
    "y_test = test_ddos.iloc[:,-1]"
   ]
  },
  {
   "cell_type": "code",
   "execution_count": 7,
   "id": "c62c62cf",
   "metadata": {},
   "outputs": [],
   "source": [
    "X_train = (X_train-X_train.mean())/X_train.std()"
   ]
  },
  {
   "cell_type": "code",
   "execution_count": 8,
   "id": "1a3bbbbc",
   "metadata": {},
   "outputs": [],
   "source": [
    "X_test = (X_test-X_test.mean())/X_test.std()"
   ]
  },
  {
   "cell_type": "code",
   "execution_count": 9,
   "id": "b76eeed2",
   "metadata": {},
   "outputs": [
    {
     "data": {
      "text/plain": [
       "(141514, 59)"
      ]
     },
     "execution_count": 9,
     "metadata": {},
     "output_type": "execute_result"
    }
   ],
   "source": [
    "X_train.shape"
   ]
  },
  {
   "cell_type": "code",
   "execution_count": 10,
   "id": "438a1d6e",
   "metadata": {},
   "outputs": [
    {
     "data": {
      "text/plain": [
       "(38588, 59)"
      ]
     },
     "execution_count": 10,
     "metadata": {},
     "output_type": "execute_result"
    }
   ],
   "source": [
    "X_test.shape"
   ]
  },
  {
   "cell_type": "code",
   "execution_count": 11,
   "id": "64c1ee2c",
   "metadata": {},
   "outputs": [
    {
     "data": {
      "text/plain": [
       "Flow Duration                 0\n",
       "Total Fwd Packet              0\n",
       "Total Bwd packets             0\n",
       "Total Length of Fwd Packet    0\n",
       "Total Length of Bwd Packet    0\n",
       "Fwd Packet Length Max         0\n",
       "Fwd Packet Length Min         0\n",
       "Fwd Packet Length Mean        0\n",
       "Fwd Packet Length Std         0\n",
       "Bwd Packet Length Max         0\n",
       "Bwd Packet Length Min         0\n",
       "Bwd Packet Length Mean        0\n",
       "Bwd Packet Length Std         0\n",
       "Flow Bytes/s                  0\n",
       "Flow Packets/s                0\n",
       "Flow IAT Mean                 0\n",
       "Flow IAT Std                  0\n",
       "Flow IAT Max                  0\n",
       "Flow IAT Min                  0\n",
       "Fwd IAT Total                 0\n",
       "Fwd IAT Mean                  0\n",
       "Fwd IAT Std                   0\n",
       "Fwd IAT Max                   0\n",
       "Fwd IAT Min                   0\n",
       "Bwd IAT Total                 0\n",
       "Bwd IAT Mean                  0\n",
       "Bwd IAT Std                   0\n",
       "Bwd IAT Max                   0\n",
       "Bwd IAT Min                   0\n",
       "Fwd Header Length             0\n",
       "Bwd Header Length             0\n",
       "Fwd Packets/s                 0\n",
       "Bwd Packets/s                 0\n",
       "Packet Length Min             0\n",
       "Packet Length Max             0\n",
       "Packet Length Mean            0\n",
       "Packet Length Std             0\n",
       "Packet Length Variance        0\n",
       "RST Flag Count                0\n",
       "PSH Flag Count                0\n",
       "ACK Flag Count                0\n",
       "URG Flag Count                0\n",
       "Average Packet Size           0\n",
       "Fwd Segment Size Avg          0\n",
       "Bwd Segment Size Avg          0\n",
       "Subflow Fwd Packets           0\n",
       "Subflow Fwd Bytes             0\n",
       "FWD Init Win Bytes            0\n",
       "Bwd Init Win Bytes            0\n",
       "Fwd Act Data Pkts             0\n",
       "Fwd Seg Size Min              0\n",
       "Active Mean                   0\n",
       "Active Std                    0\n",
       "Active Max                    0\n",
       "Active Min                    0\n",
       "Idle Mean                     0\n",
       "Idle Std                      0\n",
       "Idle Max                      0\n",
       "Idle Min                      0\n",
       "dtype: int64"
      ]
     },
     "execution_count": 11,
     "metadata": {},
     "output_type": "execute_result"
    }
   ],
   "source": [
    "crr1=X_train.corr()\n",
    "crr1.isnull().sum()"
   ]
  },
  {
   "cell_type": "code",
   "execution_count": 12,
   "id": "8ebc7d4b",
   "metadata": {},
   "outputs": [
    {
     "data": {
      "text/plain": [
       "Flow Duration                 0\n",
       "Total Fwd Packet              0\n",
       "Total Bwd packets             0\n",
       "Total Length of Fwd Packet    0\n",
       "Total Length of Bwd Packet    0\n",
       "Fwd Packet Length Max         0\n",
       "Fwd Packet Length Min         0\n",
       "Fwd Packet Length Mean        0\n",
       "Fwd Packet Length Std         0\n",
       "Bwd Packet Length Max         0\n",
       "Bwd Packet Length Min         0\n",
       "Bwd Packet Length Mean        0\n",
       "Bwd Packet Length Std         0\n",
       "Flow Bytes/s                  0\n",
       "Flow Packets/s                0\n",
       "Flow IAT Mean                 0\n",
       "Flow IAT Std                  0\n",
       "Flow IAT Max                  0\n",
       "Flow IAT Min                  0\n",
       "Fwd IAT Total                 0\n",
       "Fwd IAT Mean                  0\n",
       "Fwd IAT Std                   0\n",
       "Fwd IAT Max                   0\n",
       "Fwd IAT Min                   0\n",
       "Bwd IAT Total                 0\n",
       "Bwd IAT Mean                  0\n",
       "Bwd IAT Std                   0\n",
       "Bwd IAT Max                   0\n",
       "Bwd IAT Min                   0\n",
       "Fwd Header Length             0\n",
       "Bwd Header Length             0\n",
       "Fwd Packets/s                 0\n",
       "Bwd Packets/s                 0\n",
       "Packet Length Min             0\n",
       "Packet Length Max             0\n",
       "Packet Length Mean            0\n",
       "Packet Length Std             0\n",
       "Packet Length Variance        0\n",
       "RST Flag Count                0\n",
       "PSH Flag Count                0\n",
       "ACK Flag Count                0\n",
       "URG Flag Count                0\n",
       "Average Packet Size           0\n",
       "Fwd Segment Size Avg          0\n",
       "Bwd Segment Size Avg          0\n",
       "Subflow Fwd Packets           0\n",
       "Subflow Fwd Bytes             0\n",
       "FWD Init Win Bytes            0\n",
       "Bwd Init Win Bytes            0\n",
       "Fwd Act Data Pkts             0\n",
       "Fwd Seg Size Min              0\n",
       "Active Mean                   0\n",
       "Active Std                    0\n",
       "Active Max                    0\n",
       "Active Min                    0\n",
       "Idle Mean                     0\n",
       "Idle Std                      0\n",
       "Idle Max                      0\n",
       "Idle Min                      0\n",
       "dtype: int64"
      ]
     },
     "execution_count": 12,
     "metadata": {},
     "output_type": "execute_result"
    }
   ],
   "source": [
    "crr1=X_test.corr()\n",
    "crr1.isnull().sum()"
   ]
  },
  {
   "cell_type": "code",
   "execution_count": 13,
   "id": "2e7308b0",
   "metadata": {},
   "outputs": [
    {
     "name": "stdout",
     "output_type": "stream",
     "text": [
      "Flow Duration                 1.0\n",
      "Total Fwd Packet              1.0\n",
      "Total Bwd packets             1.0\n",
      "Total Length of Fwd Packet    1.0\n",
      "Total Length of Bwd Packet    1.0\n",
      "Fwd Packet Length Max         1.0\n",
      "Fwd Packet Length Min         1.0\n",
      "Fwd Packet Length Mean        1.0\n",
      "Fwd Packet Length Std         1.0\n",
      "Bwd Packet Length Max         1.0\n",
      "Bwd Packet Length Min         1.0\n",
      "Bwd Packet Length Mean        1.0\n",
      "Bwd Packet Length Std         1.0\n",
      "Flow Bytes/s                  1.0\n",
      "Flow Packets/s                1.0\n",
      "Flow IAT Mean                 1.0\n",
      "Flow IAT Std                  1.0\n",
      "Flow IAT Max                  1.0\n",
      "Flow IAT Min                  1.0\n",
      "Fwd IAT Total                 1.0\n",
      "Fwd IAT Mean                  1.0\n",
      "Fwd IAT Std                   1.0\n",
      "Fwd IAT Max                   1.0\n",
      "Fwd IAT Min                   1.0\n",
      "Bwd IAT Total                 1.0\n",
      "Bwd IAT Mean                  1.0\n",
      "Bwd IAT Std                   1.0\n",
      "Bwd IAT Max                   1.0\n",
      "Bwd IAT Min                   1.0\n",
      "Fwd Header Length             1.0\n",
      "Bwd Header Length             1.0\n",
      "Fwd Packets/s                 1.0\n",
      "Bwd Packets/s                 1.0\n",
      "Packet Length Min             1.0\n",
      "Packet Length Max             1.0\n",
      "Packet Length Mean            1.0\n",
      "Packet Length Std             1.0\n",
      "Packet Length Variance        1.0\n",
      "RST Flag Count                1.0\n",
      "PSH Flag Count                1.0\n",
      "ACK Flag Count                1.0\n",
      "URG Flag Count                1.0\n",
      "Average Packet Size           1.0\n",
      "Fwd Segment Size Avg          1.0\n",
      "Bwd Segment Size Avg          1.0\n",
      "Subflow Fwd Packets           1.0\n",
      "Subflow Fwd Bytes             1.0\n",
      "FWD Init Win Bytes            1.0\n",
      "Bwd Init Win Bytes            1.0\n",
      "Fwd Act Data Pkts             1.0\n",
      "Fwd Seg Size Min              1.0\n",
      "Active Mean                   1.0\n",
      "Active Std                    1.0\n",
      "Active Max                    1.0\n",
      "Active Min                    1.0\n",
      "Idle Mean                     1.0\n",
      "Idle Std                      1.0\n",
      "Idle Max                      1.0\n",
      "Idle Min                      1.0\n",
      "dtype: float64\n"
     ]
    }
   ],
   "source": [
    "sd1 = X_train.std()\n",
    "print(sd1)"
   ]
  },
  {
   "cell_type": "code",
   "execution_count": 14,
   "id": "e7a16a94",
   "metadata": {},
   "outputs": [
    {
     "name": "stdout",
     "output_type": "stream",
     "text": [
      "Flow Duration                 1.0\n",
      "Total Fwd Packet              1.0\n",
      "Total Bwd packets             1.0\n",
      "Total Length of Fwd Packet    1.0\n",
      "Total Length of Bwd Packet    1.0\n",
      "Fwd Packet Length Max         1.0\n",
      "Fwd Packet Length Min         1.0\n",
      "Fwd Packet Length Mean        1.0\n",
      "Fwd Packet Length Std         1.0\n",
      "Bwd Packet Length Max         1.0\n",
      "Bwd Packet Length Min         1.0\n",
      "Bwd Packet Length Mean        1.0\n",
      "Bwd Packet Length Std         1.0\n",
      "Flow Bytes/s                  1.0\n",
      "Flow Packets/s                1.0\n",
      "Flow IAT Mean                 1.0\n",
      "Flow IAT Std                  1.0\n",
      "Flow IAT Max                  1.0\n",
      "Flow IAT Min                  1.0\n",
      "Fwd IAT Total                 1.0\n",
      "Fwd IAT Mean                  1.0\n",
      "Fwd IAT Std                   1.0\n",
      "Fwd IAT Max                   1.0\n",
      "Fwd IAT Min                   1.0\n",
      "Bwd IAT Total                 1.0\n",
      "Bwd IAT Mean                  1.0\n",
      "Bwd IAT Std                   1.0\n",
      "Bwd IAT Max                   1.0\n",
      "Bwd IAT Min                   1.0\n",
      "Fwd Header Length             1.0\n",
      "Bwd Header Length             1.0\n",
      "Fwd Packets/s                 1.0\n",
      "Bwd Packets/s                 1.0\n",
      "Packet Length Min             1.0\n",
      "Packet Length Max             1.0\n",
      "Packet Length Mean            1.0\n",
      "Packet Length Std             1.0\n",
      "Packet Length Variance        1.0\n",
      "RST Flag Count                1.0\n",
      "PSH Flag Count                1.0\n",
      "ACK Flag Count                1.0\n",
      "URG Flag Count                1.0\n",
      "Average Packet Size           1.0\n",
      "Fwd Segment Size Avg          1.0\n",
      "Bwd Segment Size Avg          1.0\n",
      "Subflow Fwd Packets           1.0\n",
      "Subflow Fwd Bytes             1.0\n",
      "FWD Init Win Bytes            1.0\n",
      "Bwd Init Win Bytes            1.0\n",
      "Fwd Act Data Pkts             1.0\n",
      "Fwd Seg Size Min              1.0\n",
      "Active Mean                   1.0\n",
      "Active Std                    1.0\n",
      "Active Max                    1.0\n",
      "Active Min                    1.0\n",
      "Idle Mean                     1.0\n",
      "Idle Std                      1.0\n",
      "Idle Max                      1.0\n",
      "Idle Min                      1.0\n",
      "dtype: float64\n"
     ]
    }
   ],
   "source": [
    "sd2 = X_test.std()\n",
    "print(sd2)"
   ]
  },
  {
   "cell_type": "code",
   "execution_count": null,
   "id": "3a1d34f8",
   "metadata": {},
   "outputs": [],
   "source": [
    "# Applying ANOVA feature selection for numeric input and categorical output"
   ]
  },
  {
   "cell_type": "code",
   "execution_count": 9,
   "id": "68a45992",
   "metadata": {},
   "outputs": [
    {
     "name": "stdout",
     "output_type": "stream",
     "text": [
      "X_selected_test.shape =  (141514, 20)\n",
      "X_selected_train.shape =  (244103, 20)\n"
     ]
    }
   ],
   "source": [
    "from sklearn.datasets import make_classification\n",
    "from sklearn.feature_selection import SelectKBest\n",
    "from sklearn.feature_selection import f_classif\n",
    "# define feature selection\n",
    "#fs = SelectKBest(score_func=f_classif)\n",
    "fs = SelectKBest(score_func=f_classif, k=20)\n",
    "# apply feature selection\n",
    "X_selected_test = fs.fit_transform(X_test, y_test)\n",
    "X_selected_train = fs.fit_transform(X_train, y_train)\n",
    "print(\"X_selected_test.shape = \",X_selected_test.shape)\n",
    "print(\"X_selected_train.shape = \",X_selected_train.shape)"
   ]
  },
  {
   "cell_type": "code",
   "execution_count": 10,
   "id": "64a22d60",
   "metadata": {},
   "outputs": [
    {
     "name": "stdout",
     "output_type": "stream",
     "text": [
      "Accuracy: 1.000 (0.000)\n",
      "Accuracy = 0.8606215639442034\n",
      "              precision    recall  f1-score   support\n",
      "\n",
      "           0       1.00      0.67      0.81     60524\n",
      "           1       0.80      1.00      0.89     80990\n",
      "\n",
      "    accuracy                           0.86    141514\n",
      "   macro avg       0.90      0.84      0.85    141514\n",
      "weighted avg       0.89      0.86      0.85    141514\n",
      "\n",
      "0:00:19\n"
     ]
    }
   ],
   "source": [
    "from lightgbm import LGBMClassifier\n",
    "from sklearn.datasets import make_classification\n",
    "from sklearn.model_selection import cross_val_score\n",
    "from sklearn.model_selection import RepeatedStratifiedKFold\n",
    "import datetime\n",
    "a = datetime.datetime.now().replace(microsecond=0)\n",
    "model = LGBMClassifier()\n",
    "model.fit(X_selected_train, y_train)\n",
    "cv = RepeatedStratifiedKFold(n_splits=10, n_repeats=3, random_state=1)\n",
    "n_scores = cross_val_score(model, X_selected_test, y_test, scoring='accuracy', cv=cv, n_jobs=-1)\n",
    "# report performance\n",
    "from numpy import mean\n",
    "from numpy import std\n",
    "print('Accuracy: %.3f (%.3f)' % (mean(n_scores), std(n_scores)))\n",
    "import sklearn.metrics as metrics\n",
    "y_pred = model.predict(X_selected_test)\n",
    "print(\"Accuracy =\", metrics.accuracy_score(y_test, y_pred))\n",
    "from sklearn.metrics import classification_report\n",
    "print(classification_report(y_test, y_pred))\n",
    "b = datetime.datetime.now().replace(microsecond=0)\n",
    "print(b-a)"
   ]
  },
  {
   "cell_type": "code",
   "execution_count": 11,
   "id": "1073df92",
   "metadata": {},
   "outputs": [
    {
     "name": "stderr",
     "output_type": "stream",
     "text": [
      "D:\\SOFTWARES\\Anaconda\\lib\\site-packages\\xgboost\\sklearn.py:888: UserWarning: The use of label encoder in XGBClassifier is deprecated and will be removed in a future release. To remove this warning, do the following: 1) Pass option use_label_encoder=False when constructing XGBClassifier object; and 2) Encode your labels (y) as integers starting with 0, i.e. 0, 1, 2, ..., [num_class - 1].\n",
      "  warnings.warn(label_encoder_deprecation_msg, UserWarning)\n"
     ]
    },
    {
     "name": "stdout",
     "output_type": "stream",
     "text": [
      "[09:29:36] WARNING: ..\\src\\learner.cc:1061: Starting in XGBoost 1.3.0, the default evaluation metric used with the objective 'binary:logistic' was changed from 'error' to 'logloss'. Explicitly set eval_metric if you'd like to restore the old behavior.\n",
      "Accuracy = 0.518754328193677\n",
      "Accuracy: 1.000 (0.000)\n",
      "              precision    recall  f1-score   support\n",
      "\n",
      "           0       0.45      0.59      0.51     60524\n",
      "           1       0.60      0.47      0.53     80990\n",
      "\n",
      "    accuracy                           0.52    141514\n",
      "   macro avg       0.53      0.53      0.52    141514\n",
      "weighted avg       0.54      0.52      0.52    141514\n",
      "\n",
      "0:01:46.639041\n"
     ]
    }
   ],
   "source": [
    "from xgboost import XGBClassifier\n",
    "from sklearn.model_selection import train_test_split\n",
    "from sklearn.metrics import accuracy_score\n",
    "from sklearn.datasets import make_classification\n",
    "from sklearn.model_selection import cross_val_score\n",
    "from sklearn.model_selection import RepeatedStratifiedKFold\n",
    "import datetime\n",
    "import sklearn.metrics as metrics\n",
    "\n",
    "first_time = datetime.datetime.now()\n",
    "# fit model no training data\n",
    "model = XGBClassifier()\n",
    "model.fit(X_selected_train, y_train)\n",
    "y_pred = model.predict(X_selected_test)\n",
    "print(\"Accuracy =\", metrics.accuracy_score(y_test, y_pred))\n",
    "\n",
    "cv = RepeatedStratifiedKFold(n_splits=10, n_repeats=3, random_state=1)\n",
    "n_scores = cross_val_score(model, X_selected_test, y_test, scoring='accuracy', cv=cv, n_jobs=-1)\n",
    "from numpy import mean\n",
    "from numpy import std\n",
    "print('Accuracy: %.3f (%.3f)' % (mean(n_scores), std(n_scores)))\n",
    "from sklearn.metrics import classification_report\n",
    "print(classification_report(y_test, y_pred))\n",
    "later_time = datetime.datetime.now()\n",
    "difference = later_time -  first_time\n",
    "print(difference)"
   ]
  },
  {
   "cell_type": "code",
   "execution_count": null,
   "id": "92dc3829",
   "metadata": {},
   "outputs": [],
   "source": [
    "# Using Anova Feature Selection with Deep Forest"
   ]
  },
  {
   "cell_type": "code",
   "execution_count": 4,
   "id": "01bac5c8",
   "metadata": {},
   "outputs": [],
   "source": [
    "import numpy as np"
   ]
  },
  {
   "cell_type": "code",
   "execution_count": 5,
   "id": "c2583a22",
   "metadata": {},
   "outputs": [],
   "source": [
    "x_train= train_ddos1.iloc[:, (train_ddos1.columns!='Label')]\n",
    "y_train= train_ddos1.iloc[:,(train_ddos1.columns=='Label')]"
   ]
  },
  {
   "cell_type": "code",
   "execution_count": 6,
   "id": "e62d8198",
   "metadata": {},
   "outputs": [],
   "source": [
    "x_test= test_ddos.iloc[:, (test_ddos.columns!='Label')]\n",
    "y_test= test_ddos.iloc[:,(test_ddos.columns=='Label')]"
   ]
  },
  {
   "cell_type": "code",
   "execution_count": 7,
   "id": "a5956b15",
   "metadata": {},
   "outputs": [],
   "source": [
    "x_train = (x_train-x_train.mean())/x_train.std()"
   ]
  },
  {
   "cell_type": "code",
   "execution_count": 8,
   "id": "3f75f221",
   "metadata": {},
   "outputs": [],
   "source": [
    "x_test = (x_test-x_test.mean())/x_test.std()"
   ]
  },
  {
   "cell_type": "code",
   "execution_count": 9,
   "id": "17852e6a",
   "metadata": {},
   "outputs": [],
   "source": [
    "x_train=x_train.values\n",
    "x_test=x_test.values\n",
    "y_train=y_train.values\n",
    "y_test=y_test.values"
   ]
  },
  {
   "cell_type": "code",
   "execution_count": null,
   "id": "3063fc1a",
   "metadata": {},
   "outputs": [],
   "source": [
    "# Applying Anova for Deep Forest"
   ]
  },
  {
   "cell_type": "code",
   "execution_count": 10,
   "id": "48f9db94",
   "metadata": {},
   "outputs": [
    {
     "name": "stderr",
     "output_type": "stream",
     "text": [
      "D:\\SOFTWARES\\Anaconda\\lib\\site-packages\\sklearn\\utils\\validation.py:63: DataConversionWarning: A column-vector y was passed when a 1d array was expected. Please change the shape of y to (n_samples, ), for example using ravel().\n",
      "  return f(*args, **kwargs)\n"
     ]
    },
    {
     "name": "stdout",
     "output_type": "stream",
     "text": [
      "X_selected_test.shape =  (141514, 20)\n",
      "X_selected_train.shape =  (244103, 20)\n"
     ]
    },
    {
     "name": "stderr",
     "output_type": "stream",
     "text": [
      "D:\\SOFTWARES\\Anaconda\\lib\\site-packages\\sklearn\\utils\\validation.py:63: DataConversionWarning: A column-vector y was passed when a 1d array was expected. Please change the shape of y to (n_samples, ), for example using ravel().\n",
      "  return f(*args, **kwargs)\n"
     ]
    }
   ],
   "source": [
    "from sklearn.datasets import make_classification\n",
    "from sklearn.feature_selection import SelectKBest\n",
    "from sklearn.feature_selection import f_classif\n",
    "# define feature selection\n",
    "fs = SelectKBest(score_func=f_classif, k=20)\n",
    "# apply feature selection\n",
    "X_selected_train = fs.fit_transform(x_train, y_train)\n",
    "X_selected_test = fs.fit_transform(x_test, y_test)\n",
    "print(\"X_selected_test.shape = \",X_selected_test.shape)\n",
    "print(\"X_selected_train.shape = \",X_selected_train.shape)"
   ]
  },
  {
   "cell_type": "code",
   "execution_count": null,
   "id": "9fd78b52",
   "metadata": {},
   "outputs": [],
   "source": [
    "# Deep Forest"
   ]
  },
  {
   "cell_type": "code",
   "execution_count": 11,
   "id": "5f04ece8",
   "metadata": {},
   "outputs": [],
   "source": [
    "from sklearn.model_selection import train_test_split\n",
    "from sklearn.metrics import accuracy_score\n",
    "from sklearn.datasets import make_classification\n",
    "from sklearn.model_selection import cross_val_score\n",
    "from sklearn.model_selection import RepeatedStratifiedKFold\n",
    "import datetime\n",
    "import sklearn.metrics as metrics\n",
    "\n",
    "\n",
    "from deepforest import CascadeForestClassifier\n",
    "from sklearn.metrics import classification_report, confusion_matrix"
   ]
  },
  {
   "cell_type": "code",
   "execution_count": 12,
   "id": "d9987bc4",
   "metadata": {},
   "outputs": [
    {
     "name": "stderr",
     "output_type": "stream",
     "text": [
      "D:\\SOFTWARES\\Anaconda\\lib\\site-packages\\sklearn\\utils\\validation.py:63: DataConversionWarning: A column-vector y was passed when a 1d array was expected. Please change the shape of y to (n_samples, ), for example using ravel().\n",
      "  return f(*args, **kwargs)\n"
     ]
    },
    {
     "name": "stdout",
     "output_type": "stream",
     "text": [
      "[2021-11-22 04:03:10.117] Start to fit the model:\n",
      "[2021-11-22 04:03:10.117] Fitting cascade layer = 0 \n",
      "[2021-11-22 04:03:30.266] layer = 0  | Val Acc = 100.000 % | Elapsed = 20.149 s\n",
      "[2021-11-22 04:03:30.374] Fitting cascade layer = 1 \n",
      "[2021-11-22 04:03:45.757] layer = 1  | Val Acc = 100.000 % | Elapsed = 15.383 s\n",
      "[2021-11-22 04:03:45.757] Early stopping counter: 1 out of 2\n",
      "[2021-11-22 04:03:45.851] Fitting cascade layer = 2 \n",
      "[2021-11-22 04:03:59.307] layer = 2  | Val Acc = 100.000 % | Elapsed = 13.457 s\n",
      "[2021-11-22 04:03:59.308] Early stopping counter: 2 out of 2\n",
      "[2021-11-22 04:03:59.308] Handling early stopping\n",
      "[2021-11-22 04:03:59.310] The optimal number of layers: 1\n",
      "[2021-11-22 04:03:59.314] Start to evalute the model:\n",
      "[2021-11-22 04:03:59.368] Evaluating cascade layer = 0 \n",
      "\n",
      "Testing Accuracy: 42.965 %\n",
      "Accuracy: 1.000 (0.000)\n",
      "              precision    recall  f1-score   support\n",
      "\n",
      "           0       0.43      1.00      0.60     60524\n",
      "           1       0.83      0.00      0.01     80990\n",
      "\n",
      "    accuracy                           0.43    141514\n",
      "   macro avg       0.63      0.50      0.30    141514\n",
      "weighted avg       0.66      0.43      0.26    141514\n",
      "\n",
      "0:09:47.154575\n"
     ]
    }
   ],
   "source": [
    "first_time = datetime.datetime.now()\n",
    "model = CascadeForestClassifier( )\n",
    "model.fit(X_selected_train, y_train)\n",
    "y_pred = model.predict(X_selected_test)\n",
    "acc = accuracy_score(y_test,  y_pred) * 100\n",
    "print(\"\\nTesting Accuracy: {:.3f} %\".format(acc))\n",
    "\n",
    "cv = RepeatedStratifiedKFold(n_splits=10, n_repeats=3, random_state=1)\n",
    "n_scores = cross_val_score(model, X_selected_test, y_test, scoring='accuracy', cv=cv, n_jobs=-1)\n",
    "from numpy import mean\n",
    "from numpy import std\n",
    "print('Accuracy: %.3f (%.3f)' % (mean(n_scores), std(n_scores)))\n",
    "from sklearn.metrics import classification_report\n",
    "print(classification_report(y_test, y_pred))\n",
    "later_time = datetime.datetime.now()\n",
    "difference = later_time -  first_time\n",
    "print(difference)"
   ]
  },
  {
   "cell_type": "code",
   "execution_count": null,
   "id": "b252fe02",
   "metadata": {},
   "outputs": [],
   "source": [
    "# Confussion Matrix Report"
   ]
  },
  {
   "cell_type": "code",
   "execution_count": null,
   "id": "dad02dcd",
   "metadata": {},
   "outputs": [],
   "source": [
    "c_r = classification_report(y_test, y_pred)\n",
    "c_m = confusion_matrix(y_test, y_pred)\n",
    "print(c_r)\n",
    "print(c_m)"
   ]
  },
  {
   "cell_type": "code",
   "execution_count": null,
   "id": "c6cf2ed0",
   "metadata": {},
   "outputs": [],
   "source": [
    "# using PCA for feature selection"
   ]
  },
  {
   "cell_type": "code",
   "execution_count": 4,
   "id": "afd3831c",
   "metadata": {},
   "outputs": [],
   "source": [
    "import numpy as np"
   ]
  },
  {
   "cell_type": "code",
   "execution_count": 5,
   "id": "9f7418e8",
   "metadata": {},
   "outputs": [],
   "source": [
    "x_train= train_ddos1.iloc[:, (train_ddos1.columns!='Label')]\n",
    "y_train= train_ddos1.iloc[:,-1]"
   ]
  },
  {
   "cell_type": "code",
   "execution_count": 6,
   "id": "c6d36072",
   "metadata": {},
   "outputs": [],
   "source": [
    "x_test= test_ddos.iloc[:, (test_ddos.columns!='Label')]\n",
    "y_test= test_ddos.iloc[:,-1]"
   ]
  },
  {
   "cell_type": "code",
   "execution_count": 7,
   "id": "9389337f",
   "metadata": {},
   "outputs": [],
   "source": [
    "x_train = (x_train-x_train.mean())/x_train.std()"
   ]
  },
  {
   "cell_type": "code",
   "execution_count": 8,
   "id": "19e14723",
   "metadata": {},
   "outputs": [],
   "source": [
    "x_test = (x_test-x_test.mean())/x_test.std()"
   ]
  },
  {
   "cell_type": "code",
   "execution_count": 9,
   "id": "ca2ca9db",
   "metadata": {},
   "outputs": [],
   "source": [
    "from sklearn.decomposition import PCA as sklearnPCA\n",
    "sklearn_pca = sklearnPCA(n_components=20)\n",
    "\n",
    "\n",
    "X_sklearn_train = sklearn_pca.fit_transform(x_train)\n",
    "X_sklearn_test = sklearn_pca.fit_transform(x_test)"
   ]
  },
  {
   "cell_type": "code",
   "execution_count": 10,
   "id": "98ed9dca",
   "metadata": {},
   "outputs": [
    {
     "name": "stdout",
     "output_type": "stream",
     "text": [
      "X_sklearn_train =  (244103, 20)\n",
      "X_sklearn_test =  (141514, 20)\n"
     ]
    }
   ],
   "source": [
    "print(\"X_sklearn_train = \",X_sklearn_train.shape)\n",
    "print(\"X_sklearn_test = \",X_sklearn_test.shape)"
   ]
  },
  {
   "cell_type": "code",
   "execution_count": null,
   "id": "a999d07f",
   "metadata": {},
   "outputs": [],
   "source": [
    "# applying lwgb for selected feature"
   ]
  },
  {
   "cell_type": "code",
   "execution_count": 11,
   "id": "291462d5",
   "metadata": {},
   "outputs": [
    {
     "name": "stdout",
     "output_type": "stream",
     "text": [
      "Accuracy: 1.000 (0.000)\n",
      "Accuracy = 0.7285922240909026\n",
      "              precision    recall  f1-score   support\n",
      "\n",
      "           0       0.76      0.53      0.62     60524\n",
      "           1       0.71      0.88      0.79     80990\n",
      "\n",
      "    accuracy                           0.73    141514\n",
      "   macro avg       0.74      0.70      0.71    141514\n",
      "weighted avg       0.74      0.73      0.72    141514\n",
      "\n",
      "0:00:20\n"
     ]
    }
   ],
   "source": [
    "from lightgbm import LGBMClassifier\n",
    "from sklearn.datasets import make_classification\n",
    "from sklearn.model_selection import cross_val_score\n",
    "from sklearn.model_selection import RepeatedStratifiedKFold\n",
    "import datetime\n",
    "a = datetime.datetime.now().replace(microsecond=0)\n",
    "model = LGBMClassifier()\n",
    "model.fit(X_sklearn_train, y_train)\n",
    "cv = RepeatedStratifiedKFold(n_splits=10, n_repeats=3, random_state=1)\n",
    "n_scores = cross_val_score(model, X_sklearn_test, y_test, scoring='accuracy', cv=cv, n_jobs=-1)\n",
    "# report performance\n",
    "from numpy import mean\n",
    "from numpy import std\n",
    "print('Accuracy: %.3f (%.3f)' % (mean(n_scores), std(n_scores)))\n",
    "import sklearn.metrics as metrics\n",
    "y_pred = model.predict(X_sklearn_test)\n",
    "print(\"Accuracy =\", metrics.accuracy_score(y_test, y_pred))\n",
    "from sklearn.metrics import classification_report\n",
    "print(classification_report(y_test, y_pred))\n",
    "b = datetime.datetime.now().replace(microsecond=0)\n",
    "print(b-a)"
   ]
  },
  {
   "cell_type": "code",
   "execution_count": null,
   "id": "97b1ba9c",
   "metadata": {},
   "outputs": [],
   "source": [
    "# applying xgboost for selected feature"
   ]
  },
  {
   "cell_type": "code",
   "execution_count": 12,
   "id": "d6a15ba2",
   "metadata": {},
   "outputs": [
    {
     "name": "stderr",
     "output_type": "stream",
     "text": [
      "D:\\SOFTWARES\\Anaconda\\lib\\site-packages\\xgboost\\sklearn.py:888: UserWarning: The use of label encoder in XGBClassifier is deprecated and will be removed in a future release. To remove this warning, do the following: 1) Pass option use_label_encoder=False when constructing XGBClassifier object; and 2) Encode your labels (y) as integers starting with 0, i.e. 0, 1, 2, ..., [num_class - 1].\n",
      "  warnings.warn(label_encoder_deprecation_msg, UserWarning)\n"
     ]
    },
    {
     "name": "stdout",
     "output_type": "stream",
     "text": [
      "[09:50:15] WARNING: ..\\src\\learner.cc:1061: Starting in XGBoost 1.3.0, the default evaluation metric used with the objective 'binary:logistic' was changed from 'error' to 'logloss'. Explicitly set eval_metric if you'd like to restore the old behavior.\n",
      "Accuracy = 0.5918354367765734\n",
      "Accuracy: 1.000 (0.000)\n",
      "              precision    recall  f1-score   support\n",
      "\n",
      "           0       0.52      0.69      0.59     60524\n",
      "           1       0.69      0.52      0.59     80990\n",
      "\n",
      "    accuracy                           0.59    141514\n",
      "   macro avg       0.60      0.60      0.59    141514\n",
      "weighted avg       0.62      0.59      0.59    141514\n",
      "\n",
      "0:03:00.979782\n"
     ]
    }
   ],
   "source": [
    "from xgboost import XGBClassifier\n",
    "from sklearn.model_selection import train_test_split\n",
    "from sklearn.metrics import accuracy_score\n",
    "from sklearn.datasets import make_classification\n",
    "from sklearn.model_selection import cross_val_score\n",
    "from sklearn.model_selection import RepeatedStratifiedKFold\n",
    "import datetime\n",
    "import sklearn.metrics as metrics\n",
    "\n",
    "first_time = datetime.datetime.now()\n",
    "# fit model no training data\n",
    "model = XGBClassifier()\n",
    "model.fit(X_sklearn_train, y_train)\n",
    "y_pred = model.predict(X_sklearn_test)\n",
    "print(\"Accuracy =\", metrics.accuracy_score(y_test, y_pred))\n",
    "\n",
    "cv = RepeatedStratifiedKFold(n_splits=10, n_repeats=3, random_state=1)\n",
    "n_scores = cross_val_score(model, X_sklearn_test, y_test, scoring='accuracy', cv=cv, n_jobs=-1)\n",
    "from numpy import mean\n",
    "from numpy import std\n",
    "print('Accuracy: %.3f (%.3f)' % (mean(n_scores), std(n_scores)))\n",
    "from sklearn.metrics import classification_report\n",
    "print(classification_report(y_test, y_pred))\n",
    "later_time = datetime.datetime.now()\n",
    "difference = later_time -  first_time\n",
    "print(difference)"
   ]
  },
  {
   "cell_type": "code",
   "execution_count": null,
   "id": "5a0cf81d",
   "metadata": {},
   "outputs": [],
   "source": [
    "# applying pca for Deep Forest"
   ]
  },
  {
   "cell_type": "code",
   "execution_count": 4,
   "id": "427cdb32",
   "metadata": {},
   "outputs": [],
   "source": [
    "x_train= train_ddos1.iloc[:, (train_ddos1.columns!='Label')]\n",
    "y_train= train_ddos1.iloc[:,(train_ddos1.columns=='Label')]"
   ]
  },
  {
   "cell_type": "code",
   "execution_count": 5,
   "id": "d606049a",
   "metadata": {},
   "outputs": [],
   "source": [
    "x_test= test_ddos.iloc[:, (test_ddos.columns!='Label')]\n",
    "y_test= test_ddos.iloc[:,(test_ddos.columns=='Label')]"
   ]
  },
  {
   "cell_type": "code",
   "execution_count": 6,
   "id": "2aaeda12",
   "metadata": {},
   "outputs": [],
   "source": [
    "x_train = (x_train-x_train.mean())/x_train.std()"
   ]
  },
  {
   "cell_type": "code",
   "execution_count": 7,
   "id": "0569d927",
   "metadata": {},
   "outputs": [],
   "source": [
    "x_test = (x_test-x_test.mean())/x_test.std()"
   ]
  },
  {
   "cell_type": "code",
   "execution_count": 8,
   "id": "f8c6a56d",
   "metadata": {},
   "outputs": [],
   "source": [
    "x_test=x_test.values\n",
    "y_test=y_test.values\n",
    "x_train=x_train.values\n",
    "y_train=y_train.values"
   ]
  },
  {
   "cell_type": "code",
   "execution_count": 9,
   "id": "8f9d3e7b",
   "metadata": {},
   "outputs": [],
   "source": [
    "import numpy as np"
   ]
  },
  {
   "cell_type": "code",
   "execution_count": null,
   "id": "324e43f5",
   "metadata": {},
   "outputs": [],
   "source": [
    "# applying PCA feature selection"
   ]
  },
  {
   "cell_type": "code",
   "execution_count": 10,
   "id": "a6b0c2ba",
   "metadata": {},
   "outputs": [],
   "source": [
    "from sklearn.decomposition import PCA as sklearnPCA\n",
    "sklearn_pca = sklearnPCA(n_components=20)\n",
    "\n",
    "\n",
    "X_sklearn_train = sklearn_pca.fit_transform(x_train)\n",
    "X_sklearn_test = sklearn_pca.fit_transform(x_test)"
   ]
  },
  {
   "cell_type": "code",
   "execution_count": 11,
   "id": "a3ccde68",
   "metadata": {},
   "outputs": [
    {
     "name": "stdout",
     "output_type": "stream",
     "text": [
      "X_sklearn_train  (244103, 20)\n",
      "X_sklearn_test   (141514, 20)\n"
     ]
    }
   ],
   "source": [
    "print(\"X_sklearn_train \",X_sklearn_train.shape)\n",
    "print(\"X_sklearn_test  \",X_sklearn_test.shape)"
   ]
  },
  {
   "cell_type": "code",
   "execution_count": null,
   "id": "42b084a2",
   "metadata": {},
   "outputs": [],
   "source": [
    "# applying Deep Forest"
   ]
  },
  {
   "cell_type": "code",
   "execution_count": 12,
   "id": "6b98e1b7",
   "metadata": {},
   "outputs": [],
   "source": [
    "from sklearn.model_selection import train_test_split\n",
    "from sklearn.metrics import accuracy_score\n",
    "from sklearn.datasets import make_classification\n",
    "from sklearn.model_selection import cross_val_score\n",
    "from sklearn.model_selection import RepeatedStratifiedKFold\n",
    "import datetime\n",
    "import sklearn.metrics as metrics\n",
    "\n",
    "\n",
    "from deepforest import CascadeForestClassifier\n",
    "from sklearn.metrics import classification_report, confusion_matrix"
   ]
  },
  {
   "cell_type": "code",
   "execution_count": 13,
   "id": "2f418cb5",
   "metadata": {},
   "outputs": [
    {
     "name": "stderr",
     "output_type": "stream",
     "text": [
      "D:\\SOFTWARES\\Anaconda\\lib\\site-packages\\sklearn\\utils\\validation.py:63: DataConversionWarning: A column-vector y was passed when a 1d array was expected. Please change the shape of y to (n_samples, ), for example using ravel().\n",
      "  return f(*args, **kwargs)\n"
     ]
    },
    {
     "name": "stdout",
     "output_type": "stream",
     "text": [
      "[2021-11-22 04:25:35.973] Start to fit the model:\n",
      "[2021-11-22 04:25:35.973] Fitting cascade layer = 0 \n",
      "[2021-11-22 04:26:11.977] layer = 0  | Val Acc = 100.000 % | Elapsed = 36.004 s\n",
      "[2021-11-22 04:26:12.233] Fitting cascade layer = 1 \n",
      "[2021-11-22 04:26:29.072] layer = 1  | Val Acc = 100.000 % | Elapsed = 16.838 s\n",
      "[2021-11-22 04:26:29.072] Early stopping counter: 1 out of 2\n",
      "[2021-11-22 04:26:29.166] Fitting cascade layer = 2 \n",
      "[2021-11-22 04:26:45.728] layer = 2  | Val Acc = 99.999 % | Elapsed = 16.563 s\n",
      "[2021-11-22 04:26:45.730] Early stopping counter: 2 out of 2\n",
      "[2021-11-22 04:26:45.730] Handling early stopping\n",
      "[2021-11-22 04:26:45.732] The optimal number of layers: 1\n",
      "[2021-11-22 04:26:45.735] Start to evalute the model:\n",
      "[2021-11-22 04:26:45.882] Evaluating cascade layer = 0 \n",
      "\n",
      "Testing Accuracy: 42.690 %\n",
      "Accuracy: 1.000 (0.000)\n",
      "              precision    recall  f1-score   support\n",
      "\n",
      "           0       0.43      1.00      0.60     60524\n",
      "           1       0.08      0.00      0.00     80990\n",
      "\n",
      "    accuracy                           0.43    141514\n",
      "   macro avg       0.25      0.50      0.30    141514\n",
      "weighted avg       0.23      0.43      0.26    141514\n",
      "\n",
      "0:11:06.938691\n"
     ]
    }
   ],
   "source": [
    "first_time = datetime.datetime.now()\n",
    "model = CascadeForestClassifier( )\n",
    "model.fit(X_sklearn_train, y_train)\n",
    "y_pred = model.predict(X_sklearn_test)\n",
    "acc = accuracy_score(y_test,  y_pred) * 100\n",
    "print(\"\\nTesting Accuracy: {:.3f} %\".format(acc))\n",
    "\n",
    "cv = RepeatedStratifiedKFold(n_splits=10, n_repeats=3, random_state=1)\n",
    "n_scores = cross_val_score(model, X_sklearn_test, y_test, scoring='accuracy', cv=cv, n_jobs=-1)\n",
    "\n",
    "from numpy import mean\n",
    "from numpy import std\n",
    "print('Accuracy: %.3f (%.3f)' % (mean(n_scores), std(n_scores)))\n",
    "from sklearn.metrics import classification_report\n",
    "print(classification_report(y_test, y_pred))\n",
    "later_time = datetime.datetime.now()\n",
    "difference = later_time -  first_time\n",
    "print(difference)"
   ]
  },
  {
   "cell_type": "code",
   "execution_count": 14,
   "id": "60a29665",
   "metadata": {},
   "outputs": [
    {
     "name": "stdout",
     "output_type": "stream",
     "text": [
      "              precision    recall  f1-score   support\n",
      "\n",
      "           0       0.15      0.23      0.18     16402\n",
      "           1       0.02      0.01      0.02     22186\n",
      "\n",
      "    accuracy                           0.10     38588\n",
      "   macro avg       0.08      0.12      0.10     38588\n",
      "weighted avg       0.07      0.10      0.08     38588\n",
      "\n",
      "[[ 3746 12656]\n",
      " [21919   267]]\n"
     ]
    }
   ],
   "source": [
    "c_r = classification_report(y_test, y_pred)\n",
    "c_m = confusion_matrix(y_test, y_pred)\n",
    "print(c_r)\n",
    "print(c_m)"
   ]
  }
 ],
 "metadata": {
  "kernelspec": {
   "display_name": "Python 3",
   "language": "python",
   "name": "python3"
  },
  "language_info": {
   "codemirror_mode": {
    "name": "ipython",
    "version": 3
   },
   "file_extension": ".py",
   "mimetype": "text/x-python",
   "name": "python",
   "nbconvert_exporter": "python",
   "pygments_lexer": "ipython3",
   "version": "3.8.8"
  }
 },
 "nbformat": 4,
 "nbformat_minor": 5
}
