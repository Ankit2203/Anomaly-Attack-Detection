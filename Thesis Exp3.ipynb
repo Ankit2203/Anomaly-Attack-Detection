{
 "cells": [
  {
   "cell_type": "code",
   "execution_count": null,
   "id": "323099c3",
   "metadata": {},
   "outputs": [],
   "source": [
    "\"\"\"\n",
    "Experiment 1\n",
    "LABELS=>\n",
    "  DDoS : 1\n",
    "BENIGN : 0\n",
    "\n",
    "\"\"\""
   ]
  },
  {
   "cell_type": "code",
   "execution_count": null,
   "id": "457b046e",
   "metadata": {},
   "outputs": [],
   "source": [
    "\"\"\"\n",
    "Experiment 1.1\n",
    "without Feature Selection\n",
    "\n",
    "\"\"\""
   ]
  },
  {
   "cell_type": "code",
   "execution_count": null,
   "id": "8e4e7860",
   "metadata": {},
   "outputs": [],
   "source": [
    "# Reading CSV file\n",
    "# Library used : pandas"
   ]
  },
  {
   "cell_type": "code",
   "execution_count": 1,
   "id": "fff7955f",
   "metadata": {},
   "outputs": [],
   "source": [
    "import pandas as pd"
   ]
  },
  {
   "cell_type": "code",
   "execution_count": 2,
   "id": "3ffbae38",
   "metadata": {},
   "outputs": [],
   "source": [
    "Portscan_Benign_dataset = pd.read_csv(\"E:/Ankit files/IoT23_thesis/Preprocess_BinaryFiles/Portscan_Benign_binary.csv\")"
   ]
  },
  {
   "cell_type": "code",
   "execution_count": null,
   "id": "d6d4e7de",
   "metadata": {},
   "outputs": [],
   "source": [
    "# Labels and varraiable information in the file displayed"
   ]
  },
  {
   "cell_type": "code",
   "execution_count": 3,
   "id": "f70f54c2",
   "metadata": {},
   "outputs": [
    {
     "name": "stdout",
     "output_type": "stream",
     "text": [
      "1    37384\n",
      "0    31381\n",
      "Name: Label, dtype: int64\n"
     ]
    }
   ],
   "source": [
    "cnt_types =  Portscan_Benign_dataset['Label'].value_counts()\n",
    "print(cnt_types)"
   ]
  },
  {
   "cell_type": "code",
   "execution_count": 4,
   "id": "db866b3b",
   "metadata": {},
   "outputs": [
    {
     "name": "stdout",
     "output_type": "stream",
     "text": [
      "<class 'pandas.core.frame.DataFrame'>\n",
      "RangeIndex: 68765 entries, 0 to 68764\n",
      "Data columns (total 66 columns):\n",
      " #   Column                      Non-Null Count  Dtype  \n",
      "---  ------                      --------------  -----  \n",
      " 0   Flow Duration               68765 non-null  int64  \n",
      " 1   Total Fwd Packet            68765 non-null  int64  \n",
      " 2   Total Bwd packets           68765 non-null  int64  \n",
      " 3   Total Length of Fwd Packet  68765 non-null  int64  \n",
      " 4   Total Length of Bwd Packet  68765 non-null  int64  \n",
      " 5   Fwd Packet Length Max       68765 non-null  int64  \n",
      " 6   Fwd Packet Length Min       68765 non-null  int64  \n",
      " 7   Fwd Packet Length Mean      68765 non-null  float64\n",
      " 8   Fwd Packet Length Std       68765 non-null  float64\n",
      " 9   Bwd Packet Length Max       68765 non-null  int64  \n",
      " 10  Bwd Packet Length Min       68765 non-null  int64  \n",
      " 11  Bwd Packet Length Mean      68765 non-null  float64\n",
      " 12  Bwd Packet Length Std       68765 non-null  float64\n",
      " 13  Flow Bytes/s                68733 non-null  float64\n",
      " 14  Flow Packets/s              68765 non-null  float64\n",
      " 15  Flow IAT Mean               68765 non-null  float64\n",
      " 16  Flow IAT Std                68765 non-null  float64\n",
      " 17  Flow IAT Max                68765 non-null  int64  \n",
      " 18  Flow IAT Min                68765 non-null  int64  \n",
      " 19  Fwd IAT Total               68765 non-null  int64  \n",
      " 20  Fwd IAT Mean                68765 non-null  float64\n",
      " 21  Fwd IAT Std                 68765 non-null  float64\n",
      " 22  Fwd IAT Max                 68765 non-null  int64  \n",
      " 23  Fwd IAT Min                 68765 non-null  int64  \n",
      " 24  Bwd IAT Total               68765 non-null  int64  \n",
      " 25  Bwd IAT Mean                68765 non-null  float64\n",
      " 26  Bwd IAT Std                 68765 non-null  float64\n",
      " 27  Bwd IAT Max                 68765 non-null  int64  \n",
      " 28  Bwd IAT Min                 68765 non-null  int64  \n",
      " 29  Fwd Header Length           68765 non-null  int64  \n",
      " 30  Bwd Header Length           68765 non-null  int64  \n",
      " 31  Fwd Packets/s               68765 non-null  float64\n",
      " 32  Bwd Packets/s               68765 non-null  float64\n",
      " 33  Packet Length Min           68765 non-null  int64  \n",
      " 34  Packet Length Max           68765 non-null  int64  \n",
      " 35  Packet Length Mean          68765 non-null  float64\n",
      " 36  Packet Length Std           68765 non-null  float64\n",
      " 37  Packet Length Variance      68765 non-null  float64\n",
      " 38  FIN Flag Count              68765 non-null  int64  \n",
      " 39  SYN Flag Count              68765 non-null  int64  \n",
      " 40  RST Flag Count              68765 non-null  int64  \n",
      " 41  PSH Flag Count              68765 non-null  int64  \n",
      " 42  ACK Flag Count              68765 non-null  int64  \n",
      " 43  URG Flag Count              68765 non-null  int64  \n",
      " 44  Average Packet Size         68765 non-null  float64\n",
      " 45  Fwd Segment Size Avg        68765 non-null  float64\n",
      " 46  Bwd Segment Size Avg        68765 non-null  float64\n",
      " 47  Fwd Bytes/Bulk Avg          68765 non-null  int64  \n",
      " 48  Bwd Packet/Bulk Avg         68765 non-null  int64  \n",
      " 49  Bwd Bulk Rate Avg           68765 non-null  int64  \n",
      " 50  Subflow Fwd Packets         68765 non-null  int64  \n",
      " 51  Subflow Fwd Bytes           68765 non-null  int64  \n",
      " 52  Subflow Bwd Packets         68765 non-null  int64  \n",
      " 53  FWD Init Win Bytes          68765 non-null  int64  \n",
      " 54  Bwd Init Win Bytes          68765 non-null  int64  \n",
      " 55  Fwd Act Data Pkts           68765 non-null  int64  \n",
      " 56  Fwd Seg Size Min            68765 non-null  int64  \n",
      " 57  Active Mean                 68765 non-null  float64\n",
      " 58  Active Std                  68765 non-null  float64\n",
      " 59  Active Max                  68765 non-null  int64  \n",
      " 60  Active Min                  68765 non-null  int64  \n",
      " 61  Idle Mean                   68765 non-null  float64\n",
      " 62  Idle Std                    68765 non-null  float64\n",
      " 63  Idle Max                    68765 non-null  float64\n",
      " 64  Idle Min                    68765 non-null  float64\n",
      " 65  Label                       68765 non-null  int64  \n",
      "dtypes: float64(26), int64(40)\n",
      "memory usage: 34.6 MB\n"
     ]
    }
   ],
   "source": [
    "Portscan_Benign_dataset.info()"
   ]
  },
  {
   "cell_type": "code",
   "execution_count": 5,
   "id": "c54a3de0",
   "metadata": {},
   "outputs": [
    {
     "data": {
      "text/plain": [
       "(68765, 66)"
      ]
     },
     "execution_count": 5,
     "metadata": {},
     "output_type": "execute_result"
    }
   ],
   "source": [
    "Portscan_Benign_dataset.shape"
   ]
  },
  {
   "cell_type": "code",
   "execution_count": null,
   "id": "0f8572b2",
   "metadata": {},
   "outputs": [],
   "source": [
    "# Accessing independent varriables(Features) and dependent varriables(Labels)"
   ]
  },
  {
   "cell_type": "code",
   "execution_count": 6,
   "id": "cbd8f7cc",
   "metadata": {},
   "outputs": [],
   "source": [
    "x = Portscan_Benign_dataset.iloc[:, (Portscan_Benign_dataset.columns!='Label')]\n",
    "y = Portscan_Benign_dataset.iloc[:,-1]"
   ]
  },
  {
   "cell_type": "code",
   "execution_count": null,
   "id": "16180ef8",
   "metadata": {},
   "outputs": [],
   "source": [
    "# Normalization of independent varriables"
   ]
  },
  {
   "cell_type": "code",
   "execution_count": 7,
   "id": "5db1a214",
   "metadata": {},
   "outputs": [],
   "source": [
    "x_norm = (x-x.mean())/x.std()"
   ]
  },
  {
   "cell_type": "code",
   "execution_count": null,
   "id": "90ea5c8f",
   "metadata": {},
   "outputs": [],
   "source": [
    "# check for corelation"
   ]
  },
  {
   "cell_type": "code",
   "execution_count": 8,
   "id": "8f25c067",
   "metadata": {},
   "outputs": [
    {
     "data": {
      "text/plain": [
       "Flow Duration                 4\n",
       "Total Fwd Packet              4\n",
       "Total Bwd packets             4\n",
       "Total Length of Fwd Packet    4\n",
       "Total Length of Bwd Packet    4\n",
       "                             ..\n",
       "Active Min                    4\n",
       "Idle Mean                     4\n",
       "Idle Std                      4\n",
       "Idle Max                      4\n",
       "Idle Min                      4\n",
       "Length: 65, dtype: int64"
      ]
     },
     "execution_count": 8,
     "metadata": {},
     "output_type": "execute_result"
    }
   ],
   "source": [
    "crr1=x_norm.corr()\n",
    "crr1.isnull().sum()"
   ]
  },
  {
   "cell_type": "code",
   "execution_count": null,
   "id": "8e41f512",
   "metadata": {},
   "outputs": [],
   "source": [
    "# check for correlation"
   ]
  },
  {
   "cell_type": "code",
   "execution_count": 9,
   "id": "99fa4bec",
   "metadata": {},
   "outputs": [
    {
     "name": "stdout",
     "output_type": "stream",
     "text": [
      "Flow Duration                 1.0\n",
      "Total Fwd Packet              1.0\n",
      "Total Bwd packets             1.0\n",
      "Total Length of Fwd Packet    1.0\n",
      "Total Length of Bwd Packet    1.0\n",
      "Fwd Packet Length Max         1.0\n",
      "Fwd Packet Length Min         1.0\n",
      "Fwd Packet Length Mean        1.0\n",
      "Fwd Packet Length Std         1.0\n",
      "Bwd Packet Length Max         1.0\n",
      "dtype: float64\n",
      "Bwd Packet Length Min     1.0\n",
      "Bwd Packet Length Mean    1.0\n",
      "Bwd Packet Length Std     1.0\n",
      "Flow Bytes/s              NaN\n",
      "Flow Packets/s            NaN\n",
      "Flow IAT Mean             1.0\n",
      "Flow IAT Std              1.0\n",
      "Flow IAT Max              1.0\n",
      "Flow IAT Min              1.0\n",
      "Fwd IAT Total             1.0\n",
      "Fwd IAT Mean              1.0\n",
      "Fwd IAT Std               1.0\n",
      "Fwd IAT Max               1.0\n",
      "Fwd IAT Min               1.0\n",
      "Bwd IAT Total             1.0\n",
      "Bwd IAT Mean              1.0\n",
      "Bwd IAT Std               1.0\n",
      "Bwd IAT Max               1.0\n",
      "Bwd IAT Min               1.0\n",
      "Fwd Header Length         1.0\n",
      "dtype: float64\n",
      "Bwd Header Length         1.0\n",
      "Fwd Packets/s             1.0\n",
      "Bwd Packets/s             1.0\n",
      "Packet Length Min         1.0\n",
      "Packet Length Max         1.0\n",
      "Packet Length Mean        1.0\n",
      "Packet Length Std         1.0\n",
      "Packet Length Variance    1.0\n",
      "FIN Flag Count            1.0\n",
      "SYN Flag Count            1.0\n",
      "RST Flag Count            1.0\n",
      "PSH Flag Count            1.0\n",
      "ACK Flag Count            1.0\n",
      "URG Flag Count            1.0\n",
      "Average Packet Size       1.0\n",
      "Fwd Segment Size Avg      1.0\n",
      "Bwd Segment Size Avg      1.0\n",
      "Fwd Bytes/Bulk Avg        NaN\n",
      "Bwd Packet/Bulk Avg       1.0\n",
      "Bwd Bulk Rate Avg         1.0\n",
      "Subflow Fwd Packets       1.0\n",
      "Subflow Fwd Bytes         1.0\n",
      "Subflow Bwd Packets       NaN\n",
      "FWD Init Win Bytes        1.0\n",
      "Bwd Init Win Bytes        1.0\n",
      "Fwd Act Data Pkts         1.0\n",
      "Fwd Seg Size Min          1.0\n",
      "Active Mean               1.0\n",
      "Active Std                1.0\n",
      "Active Max                1.0\n",
      "dtype: float64\n",
      "Active Min    1.0\n",
      "Idle Mean     1.0\n",
      "Idle Std      1.0\n",
      "Idle Max      1.0\n",
      "Idle Min      1.0\n",
      "dtype: float64\n"
     ]
    }
   ],
   "source": [
    "sd1 = x_norm.std()\n",
    "print(sd1[0:10])\n",
    "print(sd1[10:30])\n",
    "print(sd1[30:60])\n",
    "print(sd1[60:70])"
   ]
  },
  {
   "cell_type": "code",
   "execution_count": null,
   "id": "955fce10",
   "metadata": {},
   "outputs": [],
   "source": [
    "# applying ML Models "
   ]
  },
  {
   "cell_type": "code",
   "execution_count": null,
   "id": "45dcc5e2",
   "metadata": {},
   "outputs": [],
   "source": [
    "# Dividing in x_train , x_test , y_train and y_test"
   ]
  },
  {
   "cell_type": "code",
   "execution_count": 11,
   "id": "727c5842",
   "metadata": {},
   "outputs": [],
   "source": [
    "from sklearn.model_selection import train_test_split\n",
    "seed = 7\n",
    "test_size = 0.20\n",
    "x_train, x_test, y_train, y_test = train_test_split(x_norm, y, test_size=test_size, random_state=seed)"
   ]
  },
  {
   "cell_type": "code",
   "execution_count": null,
   "id": "44032631",
   "metadata": {},
   "outputs": [],
   "source": [
    "\"\"\"\n",
    "Experiment 1.1.1\n",
    "LWGB\n",
    "\n",
    "\"\"\""
   ]
  },
  {
   "cell_type": "code",
   "execution_count": 12,
   "id": "bc15058e",
   "metadata": {},
   "outputs": [
    {
     "name": "stdout",
     "output_type": "stream",
     "text": [
      "Accuracy: 1.000 (0.001)\n",
      "Accuracy = 0.99978186577474\n",
      "              precision    recall  f1-score   support\n",
      "\n",
      "           0       1.00      1.00      1.00      6378\n",
      "           1       1.00      1.00      1.00      7375\n",
      "\n",
      "    accuracy                           1.00     13753\n",
      "   macro avg       1.00      1.00      1.00     13753\n",
      "weighted avg       1.00      1.00      1.00     13753\n",
      "\n",
      "0:00:06\n"
     ]
    }
   ],
   "source": [
    "from lightgbm import LGBMClassifier\n",
    "from sklearn.datasets import make_classification\n",
    "from sklearn.model_selection import cross_val_score\n",
    "from sklearn.model_selection import RepeatedStratifiedKFold\n",
    "import datetime\n",
    "a = datetime.datetime.now().replace(microsecond=0)\n",
    "model = LGBMClassifier()\n",
    "model.fit(x_train, y_train)\n",
    "cv = RepeatedStratifiedKFold(n_splits=10, n_repeats=3, random_state=1)\n",
    "n_scores = cross_val_score(model, x_test, y_test, scoring='accuracy', cv=cv, n_jobs=-1)\n",
    "# report performance\n",
    "from numpy import mean\n",
    "from numpy import std\n",
    "print('Accuracy: %.3f (%.3f)' % (mean(n_scores), std(n_scores)))\n",
    "import sklearn.metrics as metrics\n",
    "y_pred = model.predict(x_test)\n",
    "print(\"Accuracy =\", metrics.accuracy_score(y_test, y_pred))\n",
    "from sklearn.metrics import classification_report\n",
    "print(classification_report(y_test, y_pred))\n",
    "b = datetime.datetime.now().replace(microsecond=0)\n",
    "print(b-a)"
   ]
  },
  {
   "cell_type": "code",
   "execution_count": null,
   "id": "0366dfd8",
   "metadata": {},
   "outputs": [],
   "source": [
    "\"\"\"\n",
    "Experiment 1.1.2\n",
    "XGBoost\n",
    "\n",
    "\"\"\""
   ]
  },
  {
   "cell_type": "code",
   "execution_count": 13,
   "id": "3df8a2f2",
   "metadata": {},
   "outputs": [
    {
     "name": "stderr",
     "output_type": "stream",
     "text": [
      "D:\\SOFTWARES\\Anaconda\\lib\\site-packages\\xgboost\\sklearn.py:888: UserWarning: The use of label encoder in XGBClassifier is deprecated and will be removed in a future release. To remove this warning, do the following: 1) Pass option use_label_encoder=False when constructing XGBClassifier object; and 2) Encode your labels (y) as integers starting with 0, i.e. 0, 1, 2, ..., [num_class - 1].\n",
      "  warnings.warn(label_encoder_deprecation_msg, UserWarning)\n"
     ]
    },
    {
     "name": "stdout",
     "output_type": "stream",
     "text": [
      "[14:14:38] WARNING: ..\\src\\learner.cc:1061: Starting in XGBoost 1.3.0, the default evaluation metric used with the objective 'binary:logistic' was changed from 'error' to 'logloss'. Explicitly set eval_metric if you'd like to restore the old behavior.\n",
      "Accuracy = 0.99992728859158\n",
      "Accuracy: 1.000 (0.001)\n",
      "              precision    recall  f1-score   support\n",
      "\n",
      "           0       1.00      1.00      1.00      6378\n",
      "           1       1.00      1.00      1.00      7375\n",
      "\n",
      "    accuracy                           1.00     13753\n",
      "   macro avg       1.00      1.00      1.00     13753\n",
      "weighted avg       1.00      1.00      1.00     13753\n",
      "\n",
      "0:00:14.694418\n"
     ]
    }
   ],
   "source": [
    "from xgboost import XGBClassifier\n",
    "from sklearn.model_selection import train_test_split\n",
    "from sklearn.metrics import accuracy_score\n",
    "from sklearn.datasets import make_classification\n",
    "from sklearn.model_selection import cross_val_score\n",
    "from sklearn.model_selection import RepeatedStratifiedKFold\n",
    "import datetime\n",
    "import sklearn.metrics as metrics\n",
    "\n",
    "first_time = datetime.datetime.now()\n",
    "# fit model no training data\n",
    "model = XGBClassifier()\n",
    "model.fit(x_train, y_train)\n",
    "y_pred = model.predict(x_test)\n",
    "print(\"Accuracy =\", metrics.accuracy_score(y_test, y_pred))\n",
    "\n",
    "cv = RepeatedStratifiedKFold(n_splits=10, n_repeats=3, random_state=1)\n",
    "n_scores = cross_val_score(model, x_test, y_test, scoring='accuracy', cv=cv, n_jobs=-1)\n",
    "from numpy import mean\n",
    "from numpy import std\n",
    "print('Accuracy: %.3f (%.3f)' % (mean(n_scores), std(n_scores)))\n",
    "from sklearn.metrics import classification_report\n",
    "print(classification_report(y_test, y_pred))\n",
    "later_time = datetime.datetime.now()\n",
    "difference = later_time -  first_time\n",
    "print(difference)"
   ]
  },
  {
   "cell_type": "code",
   "execution_count": null,
   "id": "f8692cc1",
   "metadata": {},
   "outputs": [],
   "source": [
    "\"\"\"\n",
    "Experiment 1.1.3\n",
    "DeepForest\n",
    "\n",
    "\"\"\""
   ]
  },
  {
   "cell_type": "code",
   "execution_count": 14,
   "id": "70969407",
   "metadata": {},
   "outputs": [],
   "source": [
    "import numpy\n",
    "x_train=x_train.values\n",
    "y_train=y_train.values\n",
    "x_test=x_test.values\n",
    "y_test=y_test.values"
   ]
  },
  {
   "cell_type": "code",
   "execution_count": 15,
   "id": "35ea175f",
   "metadata": {},
   "outputs": [],
   "source": [
    "from sklearn.model_selection import train_test_split\n",
    "from sklearn.metrics import accuracy_score\n",
    "from sklearn.datasets import make_classification\n",
    "from sklearn.model_selection import cross_val_score\n",
    "from sklearn.model_selection import RepeatedStratifiedKFold\n",
    "import datetime\n",
    "import sklearn.metrics as metrics\n",
    "\n",
    "\n",
    "from deepforest import CascadeForestClassifier\n",
    "from sklearn.metrics import classification_report, confusion_matrix"
   ]
  },
  {
   "cell_type": "code",
   "execution_count": 16,
   "id": "e90a6d98",
   "metadata": {},
   "outputs": [
    {
     "name": "stdout",
     "output_type": "stream",
     "text": [
      "[2021-11-21 08:48:06.576] Start to fit the model:\n",
      "[2021-11-21 08:48:06.576] Fitting cascade layer = 0 \n",
      "[2021-11-21 08:48:15.839] layer = 0  | Val Acc = 99.991 % | Elapsed = 9.263 s\n",
      "[2021-11-21 08:48:15.879] Fitting cascade layer = 1 \n",
      "[2021-11-21 08:48:21.784] layer = 1  | Val Acc = 99.993 % | Elapsed = 5.905 s\n",
      "[2021-11-21 08:48:21.814] Fitting cascade layer = 2 \n",
      "[2021-11-21 08:48:27.763] layer = 2  | Val Acc = 99.993 % | Elapsed = 5.948 s\n",
      "[2021-11-21 08:48:27.763] Early stopping counter: 1 out of 2\n",
      "[2021-11-21 08:48:27.789] Fitting cascade layer = 3 \n",
      "[2021-11-21 08:48:33.322] layer = 3  | Val Acc = 99.991 % | Elapsed = 5.533 s\n",
      "[2021-11-21 08:48:33.322] Early stopping counter: 2 out of 2\n",
      "[2021-11-21 08:48:33.322] Handling early stopping\n",
      "[2021-11-21 08:48:33.324] The optimal number of layers: 2\n",
      "[2021-11-21 08:48:33.326] Start to evalute the model:\n",
      "[2021-11-21 08:48:33.348] Evaluating cascade layer = 0 \n",
      "[2021-11-21 08:48:33.589] Evaluating cascade layer = 1 \n",
      "\n",
      "Testing Accuracy: 99.993 %\n",
      "0:00:27.418062\n"
     ]
    }
   ],
   "source": [
    "first_time = datetime.datetime.now()\n",
    "model = CascadeForestClassifier( )\n",
    "model.fit(x_train, y_train)\n",
    "y_pred = model.predict(x_test)\n",
    "acc = accuracy_score(y_test,  y_pred) * 100\n",
    "print(\"\\nTesting Accuracy: {:.3f} %\".format(acc))\n",
    "later_time = datetime.datetime.now()\n",
    "difference = later_time - first_time\n",
    "print(difference)"
   ]
  },
  {
   "cell_type": "code",
   "execution_count": 17,
   "id": "40aebf99",
   "metadata": {},
   "outputs": [
    {
     "name": "stdout",
     "output_type": "stream",
     "text": [
      "              precision    recall  f1-score   support\n",
      "\n",
      "           0       1.00      1.00      1.00      6378\n",
      "           1       1.00      1.00      1.00      7375\n",
      "\n",
      "    accuracy                           1.00     13753\n",
      "   macro avg       1.00      1.00      1.00     13753\n",
      "weighted avg       1.00      1.00      1.00     13753\n",
      "\n",
      "[[6378    0]\n",
      " [   1 7374]]\n"
     ]
    }
   ],
   "source": [
    "c_r = classification_report(y_test, y_pred)\n",
    "c_m = confusion_matrix(y_test, y_pred)\n",
    "print(c_r)\n",
    "print(c_m)"
   ]
  }
 ],
 "metadata": {
  "kernelspec": {
   "display_name": "Python 3",
   "language": "python",
   "name": "python3"
  },
  "language_info": {
   "codemirror_mode": {
    "name": "ipython",
    "version": 3
   },
   "file_extension": ".py",
   "mimetype": "text/x-python",
   "name": "python",
   "nbconvert_exporter": "python",
   "pygments_lexer": "ipython3",
   "version": "3.8.8"
  }
 },
 "nbformat": 4,
 "nbformat_minor": 5
}
