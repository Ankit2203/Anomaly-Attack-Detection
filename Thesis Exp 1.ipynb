{
 "cells": [
  {
   "cell_type": "code",
   "execution_count": null,
   "id": "b554cc07",
   "metadata": {},
   "outputs": [],
   "source": [
    "\"\"\"\n",
    "Experiment 1\n",
    "LABELS=>\n",
    "  DDoS : 1\n",
    "BENIGN : 0\n",
    "\n",
    "\"\"\""
   ]
  },
  {
   "cell_type": "code",
   "execution_count": null,
   "id": "8048d61b",
   "metadata": {},
   "outputs": [],
   "source": [
    "\"\"\"\n",
    "Experiment 1.1\n",
    "without Feature Selection\n",
    "\n",
    "\"\"\""
   ]
  },
  {
   "cell_type": "code",
   "execution_count": null,
   "id": "4a7779f2",
   "metadata": {},
   "outputs": [],
   "source": [
    "# Reading CSV file\n",
    "# Library used : pandas"
   ]
  },
  {
   "cell_type": "code",
   "execution_count": 1,
   "id": "4f347096",
   "metadata": {},
   "outputs": [],
   "source": [
    "import pandas as pd"
   ]
  },
  {
   "cell_type": "code",
   "execution_count": 2,
   "id": "7ed1cf7d",
   "metadata": {},
   "outputs": [],
   "source": [
    "DDoS_Benign_dataset = pd.read_csv(\"E:/Ankit files/IoT23_thesis/Preprocess_BinaryFiles/DDoS_Benign_binary.csv\")"
   ]
  },
  {
   "cell_type": "code",
   "execution_count": null,
   "id": "1ac802ab",
   "metadata": {},
   "outputs": [],
   "source": [
    "# Labels and varraiable information in the file displayed"
   ]
  },
  {
   "cell_type": "code",
   "execution_count": 3,
   "id": "81fd4fbb",
   "metadata": {},
   "outputs": [
    {
     "name": "stdout",
     "output_type": "stream",
     "text": [
      "1    43606\n",
      "0    31381\n",
      "Name: Label, dtype: int64\n"
     ]
    }
   ],
   "source": [
    "cnt_types =  DDoS_Benign_dataset['Label'].value_counts()\n",
    "print(cnt_types)"
   ]
  },
  {
   "cell_type": "code",
   "execution_count": 4,
   "id": "029bb58c",
   "metadata": {},
   "outputs": [
    {
     "name": "stdout",
     "output_type": "stream",
     "text": [
      "<class 'pandas.core.frame.DataFrame'>\n",
      "RangeIndex: 74987 entries, 0 to 74986\n",
      "Data columns (total 64 columns):\n",
      " #   Column                      Non-Null Count  Dtype  \n",
      "---  ------                      --------------  -----  \n",
      " 0   Flow Duration               74987 non-null  int64  \n",
      " 1   Total Fwd Packet            74987 non-null  int64  \n",
      " 2   Total Bwd packets           74987 non-null  int64  \n",
      " 3   Total Length of Fwd Packet  74987 non-null  int64  \n",
      " 4   Total Length of Bwd Packet  74987 non-null  int64  \n",
      " 5   Fwd Packet Length Max       74987 non-null  int64  \n",
      " 6   Fwd Packet Length Min       74987 non-null  int64  \n",
      " 7   Fwd Packet Length Mean      74987 non-null  float64\n",
      " 8   Fwd Packet Length Std       74987 non-null  float64\n",
      " 9   Bwd Packet Length Max       74987 non-null  int64  \n",
      " 10  Bwd Packet Length Min       74987 non-null  int64  \n",
      " 11  Bwd Packet Length Mean      74987 non-null  float64\n",
      " 12  Bwd Packet Length Std       74987 non-null  float64\n",
      " 13  Flow Bytes/s                74955 non-null  float64\n",
      " 14  Flow Packets/s              74986 non-null  float64\n",
      " 15  Flow IAT Mean               74987 non-null  float64\n",
      " 16  Flow IAT Std                74987 non-null  float64\n",
      " 17  Flow IAT Max                74987 non-null  int64  \n",
      " 18  Flow IAT Min                74987 non-null  int64  \n",
      " 19  Fwd IAT Total               74987 non-null  int64  \n",
      " 20  Fwd IAT Mean                74987 non-null  float64\n",
      " 21  Fwd IAT Std                 74987 non-null  float64\n",
      " 22  Fwd IAT Max                 74987 non-null  int64  \n",
      " 23  Fwd IAT Min                 74987 non-null  int64  \n",
      " 24  Bwd IAT Total               74987 non-null  int64  \n",
      " 25  Bwd IAT Mean                74987 non-null  float64\n",
      " 26  Bwd IAT Std                 74987 non-null  float64\n",
      " 27  Bwd IAT Max                 74987 non-null  int64  \n",
      " 28  Bwd IAT Min                 74987 non-null  int64  \n",
      " 29  Fwd Header Length           74987 non-null  int64  \n",
      " 30  Bwd Header Length           74987 non-null  int64  \n",
      " 31  Fwd Packets/s               74987 non-null  float64\n",
      " 32  Bwd Packets/s               74987 non-null  float64\n",
      " 33  Packet Length Min           74987 non-null  int64  \n",
      " 34  Packet Length Max           74987 non-null  int64  \n",
      " 35  Packet Length Mean          74987 non-null  float64\n",
      " 36  Packet Length Std           74987 non-null  float64\n",
      " 37  Packet Length Variance      74987 non-null  float64\n",
      " 38  FIN Flag Count              74987 non-null  int64  \n",
      " 39  SYN Flag Count              74987 non-null  int64  \n",
      " 40  RST Flag Count              74987 non-null  int64  \n",
      " 41  PSH Flag Count              74987 non-null  int64  \n",
      " 42  ACK Flag Count              74987 non-null  int64  \n",
      " 43  URG Flag Count              74987 non-null  int64  \n",
      " 44  Average Packet Size         74987 non-null  float64\n",
      " 45  Fwd Segment Size Avg        74987 non-null  float64\n",
      " 46  Bwd Segment Size Avg        74987 non-null  float64\n",
      " 47  Bwd Packet/Bulk Avg         74987 non-null  int64  \n",
      " 48  Bwd Bulk Rate Avg           74987 non-null  int64  \n",
      " 49  Subflow Fwd Packets         74987 non-null  int64  \n",
      " 50  Subflow Fwd Bytes           74987 non-null  int64  \n",
      " 51  FWD Init Win Bytes          74987 non-null  int64  \n",
      " 52  Bwd Init Win Bytes          74987 non-null  int64  \n",
      " 53  Fwd Act Data Pkts           74987 non-null  int64  \n",
      " 54  Fwd Seg Size Min            74987 non-null  int64  \n",
      " 55  Active Mean                 74987 non-null  float64\n",
      " 56  Active Std                  74987 non-null  float64\n",
      " 57  Active Max                  74987 non-null  int64  \n",
      " 58  Active Min                  74987 non-null  int64  \n",
      " 59  Idle Mean                   74987 non-null  float64\n",
      " 60  Idle Std                    74987 non-null  float64\n",
      " 61  Idle Max                    74987 non-null  float64\n",
      " 62  Idle Min                    74987 non-null  float64\n",
      " 63  Label                       74987 non-null  int64  \n",
      "dtypes: float64(26), int64(38)\n",
      "memory usage: 36.6 MB\n"
     ]
    }
   ],
   "source": [
    "DDoS_Benign_dataset.info()"
   ]
  },
  {
   "cell_type": "code",
   "execution_count": 5,
   "id": "016c0c63",
   "metadata": {},
   "outputs": [
    {
     "data": {
      "text/plain": [
       "(74987, 64)"
      ]
     },
     "execution_count": 5,
     "metadata": {},
     "output_type": "execute_result"
    }
   ],
   "source": [
    "DDoS_Benign_dataset.shape"
   ]
  },
  {
   "cell_type": "code",
   "execution_count": null,
   "id": "44e81c61",
   "metadata": {},
   "outputs": [],
   "source": [
    "# Accessing independent varriables(Features) and dependent varriables(Labels)"
   ]
  },
  {
   "cell_type": "code",
   "execution_count": 6,
   "id": "fa54aaa3",
   "metadata": {},
   "outputs": [],
   "source": [
    "x = DDoS_Benign_dataset.iloc[:, (DDoS_Benign_dataset.columns!='Label')]\n",
    "y = DDoS_Benign_dataset.iloc[:,-1]"
   ]
  },
  {
   "cell_type": "code",
   "execution_count": 7,
   "id": "903c4885",
   "metadata": {},
   "outputs": [],
   "source": [
    "# Normalization of independent varriables"
   ]
  },
  {
   "cell_type": "code",
   "execution_count": 7,
   "id": "8e80b515",
   "metadata": {},
   "outputs": [],
   "source": [
    "x_norm = (x-x.mean())/x.std()"
   ]
  },
  {
   "cell_type": "code",
   "execution_count": null,
   "id": "0b3d9bc8",
   "metadata": {},
   "outputs": [],
   "source": [
    "# check for corelation"
   ]
  },
  {
   "cell_type": "code",
   "execution_count": 8,
   "id": "cb6a3093",
   "metadata": {},
   "outputs": [
    {
     "data": {
      "text/plain": [
       "Flow Duration                 0\n",
       "Total Fwd Packet              0\n",
       "Total Bwd packets             0\n",
       "Total Length of Fwd Packet    0\n",
       "Total Length of Bwd Packet    0\n",
       "                             ..\n",
       "Active Min                    0\n",
       "Idle Mean                     0\n",
       "Idle Std                      0\n",
       "Idle Max                      0\n",
       "Idle Min                      0\n",
       "Length: 63, dtype: int64"
      ]
     },
     "execution_count": 8,
     "metadata": {},
     "output_type": "execute_result"
    }
   ],
   "source": [
    "crr1=x.corr()\n",
    "crr1.isnull().sum()"
   ]
  },
  {
   "cell_type": "code",
   "execution_count": null,
   "id": "6c20486d",
   "metadata": {},
   "outputs": [],
   "source": [
    "# check for correlation"
   ]
  },
  {
   "cell_type": "code",
   "execution_count": 9,
   "id": "1a889684",
   "metadata": {},
   "outputs": [
    {
     "name": "stdout",
     "output_type": "stream",
     "text": [
      "Flow Duration                 1.0\n",
      "Total Fwd Packet              1.0\n",
      "Total Bwd packets             1.0\n",
      "Total Length of Fwd Packet    1.0\n",
      "Total Length of Bwd Packet    1.0\n",
      "Fwd Packet Length Max         1.0\n",
      "Fwd Packet Length Min         1.0\n",
      "Fwd Packet Length Mean        1.0\n",
      "Fwd Packet Length Std         1.0\n",
      "Bwd Packet Length Max         1.0\n",
      "dtype: float64\n",
      "Bwd Packet Length Min     1.0\n",
      "Bwd Packet Length Mean    1.0\n",
      "Bwd Packet Length Std     1.0\n",
      "Flow Bytes/s              1.0\n",
      "Flow Packets/s            1.0\n",
      "Flow IAT Mean             1.0\n",
      "Flow IAT Std              1.0\n",
      "Flow IAT Max              1.0\n",
      "Flow IAT Min              1.0\n",
      "Fwd IAT Total             1.0\n",
      "Fwd IAT Mean              1.0\n",
      "Fwd IAT Std               1.0\n",
      "Fwd IAT Max               1.0\n",
      "Fwd IAT Min               1.0\n",
      "Bwd IAT Total             1.0\n",
      "Bwd IAT Mean              1.0\n",
      "Bwd IAT Std               1.0\n",
      "Bwd IAT Max               1.0\n",
      "Bwd IAT Min               1.0\n",
      "Fwd Header Length         1.0\n",
      "dtype: float64\n",
      "Bwd Header Length         1.0\n",
      "Fwd Packets/s             1.0\n",
      "Bwd Packets/s             1.0\n",
      "Packet Length Min         1.0\n",
      "Packet Length Max         1.0\n",
      "Packet Length Mean        1.0\n",
      "Packet Length Std         1.0\n",
      "Packet Length Variance    1.0\n",
      "FIN Flag Count            1.0\n",
      "SYN Flag Count            1.0\n",
      "RST Flag Count            1.0\n",
      "PSH Flag Count            1.0\n",
      "ACK Flag Count            1.0\n",
      "URG Flag Count            1.0\n",
      "Average Packet Size       1.0\n",
      "Fwd Segment Size Avg      1.0\n",
      "Bwd Segment Size Avg      1.0\n",
      "Bwd Packet/Bulk Avg       1.0\n",
      "Bwd Bulk Rate Avg         1.0\n",
      "Subflow Fwd Packets       1.0\n",
      "Subflow Fwd Bytes         1.0\n",
      "FWD Init Win Bytes        1.0\n",
      "Bwd Init Win Bytes        1.0\n",
      "Fwd Act Data Pkts         1.0\n",
      "Fwd Seg Size Min          1.0\n",
      "Active Mean               1.0\n",
      "Active Std                1.0\n",
      "Active Max                1.0\n",
      "Active Min                1.0\n",
      "Idle Mean                 1.0\n",
      "dtype: float64\n",
      "Idle Std    1.0\n",
      "Idle Max    1.0\n",
      "Idle Min    1.0\n",
      "dtype: float64\n"
     ]
    }
   ],
   "source": [
    "sd1 = x_norm.std()\n",
    "print(sd1[0:10])\n",
    "print(sd1[10:30])\n",
    "print(sd1[30:60])\n",
    "print(sd1[60:70])"
   ]
  },
  {
   "cell_type": "code",
   "execution_count": null,
   "id": "c69b5b77",
   "metadata": {},
   "outputs": [],
   "source": [
    "# applying ML Models "
   ]
  },
  {
   "cell_type": "code",
   "execution_count": null,
   "id": "6d57f684",
   "metadata": {},
   "outputs": [],
   "source": [
    "# Dividing in x_train , x_test , y_train and y_test"
   ]
  },
  {
   "cell_type": "code",
   "execution_count": null,
   "id": "419e85b6",
   "metadata": {},
   "outputs": [],
   "source": []
  },
  {
   "cell_type": "code",
   "execution_count": 8,
   "id": "bbb4fe47",
   "metadata": {},
   "outputs": [],
   "source": [
    "from sklearn.model_selection import train_test_split\n",
    "seed = 7\n",
    "test_size = 0.20\n",
    "x_train, x_test, y_train, y_test = train_test_split(x_norm, y, test_size=test_size, random_state=seed)"
   ]
  },
  {
   "cell_type": "code",
   "execution_count": null,
   "id": "2b211e31",
   "metadata": {},
   "outputs": [],
   "source": [
    "\"\"\"\n",
    "Experiment 1.1.1\n",
    "LWGB\n",
    "\n",
    "\"\"\""
   ]
  },
  {
   "cell_type": "code",
   "execution_count": 10,
   "id": "ab71661b",
   "metadata": {},
   "outputs": [
    {
     "name": "stdout",
     "output_type": "stream",
     "text": [
      "Accuracy: 1.000 (0.000)\n",
      "Accuracy = 0.9997999733297773\n",
      "              precision    recall  f1-score   support\n",
      "\n",
      "           0       1.00      1.00      1.00      6256\n",
      "           1       1.00      1.00      1.00      8742\n",
      "\n",
      "    accuracy                           1.00     14998\n",
      "   macro avg       1.00      1.00      1.00     14998\n",
      "weighted avg       1.00      1.00      1.00     14998\n",
      "\n",
      "0:00:08\n"
     ]
    }
   ],
   "source": [
    "from lightgbm import LGBMClassifier\n",
    "from sklearn.datasets import make_classification\n",
    "from sklearn.model_selection import cross_val_score\n",
    "from sklearn.model_selection import RepeatedStratifiedKFold\n",
    "import datetime\n",
    "a = datetime.datetime.now().replace(microsecond=0)\n",
    "model = LGBMClassifier()\n",
    "model.fit(x_train, y_train)\n",
    "cv = RepeatedStratifiedKFold(n_splits=10, n_repeats=3, random_state=1)\n",
    "n_scores = cross_val_score(model, x_test, y_test, scoring='accuracy', cv=cv, n_jobs=-1)\n",
    "# report performance\n",
    "from numpy import mean\n",
    "from numpy import std\n",
    "print('Accuracy: %.3f (%.3f)' % (mean(n_scores), std(n_scores)))\n",
    "import sklearn.metrics as metrics\n",
    "y_pred = model.predict(x_test)\n",
    "print(\"Accuracy =\", metrics.accuracy_score(y_test, y_pred))\n",
    "from sklearn.metrics import classification_report\n",
    "print(classification_report(y_test, y_pred))\n",
    "b = datetime.datetime.now().replace(microsecond=0)\n",
    "print(b-a)"
   ]
  },
  {
   "cell_type": "code",
   "execution_count": null,
   "id": "bc5c8ce7",
   "metadata": {},
   "outputs": [],
   "source": [
    "\"\"\"\n",
    "Experiment 1.1.2\n",
    "XGBoost\n",
    "\n",
    "\"\"\""
   ]
  },
  {
   "cell_type": "code",
   "execution_count": 15,
   "id": "cf456ccb",
   "metadata": {},
   "outputs": [
    {
     "name": "stderr",
     "output_type": "stream",
     "text": [
      "D:\\SOFTWARES\\Anaconda\\lib\\site-packages\\xgboost\\sklearn.py:888: UserWarning: The use of label encoder in XGBClassifier is deprecated and will be removed in a future release. To remove this warning, do the following: 1) Pass option use_label_encoder=False when constructing XGBClassifier object; and 2) Encode your labels (y) as integers starting with 0, i.e. 0, 1, 2, ..., [num_class - 1].\n",
      "  warnings.warn(label_encoder_deprecation_msg, UserWarning)\n"
     ]
    },
    {
     "name": "stdout",
     "output_type": "stream",
     "text": [
      "[11:23:29] WARNING: ..\\src\\learner.cc:1061: Starting in XGBoost 1.3.0, the default evaluation metric used with the objective 'binary:logistic' was changed from 'error' to 'logloss'. Explicitly set eval_metric if you'd like to restore the old behavior.\n",
      "Accuracy = 0.9999333244432591\n",
      "Accuracy: 1.000 (0.001)\n",
      "              precision    recall  f1-score   support\n",
      "\n",
      "           0       1.00      1.00      1.00      6256\n",
      "           1       1.00      1.00      1.00      8742\n",
      "\n",
      "    accuracy                           1.00     14998\n",
      "   macro avg       1.00      1.00      1.00     14998\n",
      "weighted avg       1.00      1.00      1.00     14998\n",
      "\n",
      "0:00:13.241748\n"
     ]
    }
   ],
   "source": [
    "from xgboost import XGBClassifier\n",
    "from sklearn.model_selection import train_test_split\n",
    "from sklearn.metrics import accuracy_score\n",
    "from sklearn.datasets import make_classification\n",
    "from sklearn.model_selection import cross_val_score\n",
    "from sklearn.model_selection import RepeatedStratifiedKFold\n",
    "import datetime\n",
    "import sklearn.metrics as metrics\n",
    "\n",
    "first_time = datetime.datetime.now()\n",
    "# fit model no training data\n",
    "model = XGBClassifier()\n",
    "model.fit(x_train, y_train)\n",
    "y_pred = model.predict(x_test)\n",
    "print(\"Accuracy =\", metrics.accuracy_score(y_test, y_pred))\n",
    "\n",
    "cv = RepeatedStratifiedKFold(n_splits=10, n_repeats=3, random_state=1)\n",
    "n_scores = cross_val_score(model, x_test, y_test, scoring='accuracy', cv=cv, n_jobs=-1)\n",
    "from numpy import mean\n",
    "from numpy import std\n",
    "print('Accuracy: %.3f (%.3f)' % (mean(n_scores), std(n_scores)))\n",
    "from sklearn.metrics import classification_report\n",
    "print(classification_report(y_test, y_pred))\n",
    "later_time = datetime.datetime.now()\n",
    "difference = later_time -  first_time\n",
    "print(difference)"
   ]
  },
  {
   "cell_type": "code",
   "execution_count": null,
   "id": "2856c738",
   "metadata": {},
   "outputs": [],
   "source": [
    "\"\"\"\n",
    "Experiment 1.1.3\n",
    "DeepForest\n",
    "\n",
    "\"\"\""
   ]
  },
  {
   "cell_type": "code",
   "execution_count": 11,
   "id": "1edac0eb",
   "metadata": {},
   "outputs": [],
   "source": [
    "import numpy\n",
    "x_train=x_train.values\n",
    "y_train=y_train.values\n",
    "x_test=x_test.values\n",
    "y_test=y_test.values"
   ]
  },
  {
   "cell_type": "code",
   "execution_count": 12,
   "id": "08584319",
   "metadata": {},
   "outputs": [],
   "source": [
    "from sklearn.model_selection import train_test_split\n",
    "from sklearn.metrics import accuracy_score\n",
    "from sklearn.datasets import make_classification\n",
    "from sklearn.model_selection import cross_val_score\n",
    "from sklearn.model_selection import RepeatedStratifiedKFold\n",
    "import datetime\n",
    "import sklearn.metrics as metrics\n",
    "\n",
    "\n",
    "from deepforest import CascadeForestClassifier\n",
    "from sklearn.metrics import classification_report, confusion_matrix"
   ]
  },
  {
   "cell_type": "code",
   "execution_count": 18,
   "id": "9331c380",
   "metadata": {},
   "outputs": [
    {
     "name": "stdout",
     "output_type": "stream",
     "text": [
      "[2021-11-21 05:54:22.630] Start to fit the model:\n",
      "[2021-11-21 05:54:22.630] Fitting cascade layer = 0 \n",
      "[2021-11-21 05:54:29.662] layer = 0  | Val Acc = 99.978 % | Elapsed = 7.032 s\n",
      "[2021-11-21 05:54:29.697] Fitting cascade layer = 1 \n",
      "[2021-11-21 05:54:34.999] layer = 1  | Val Acc = 99.980 % | Elapsed = 5.301 s\n",
      "[2021-11-21 05:54:35.028] Fitting cascade layer = 2 \n",
      "[2021-11-21 05:54:40.141] layer = 2  | Val Acc = 99.973 % | Elapsed = 5.112 s\n",
      "[2021-11-21 05:54:40.141] Early stopping counter: 1 out of 2\n",
      "[2021-11-21 05:54:40.170] Fitting cascade layer = 3 \n",
      "[2021-11-21 05:54:45.120] layer = 3  | Val Acc = 99.983 % | Elapsed = 4.950 s\n",
      "[2021-11-21 05:54:45.148] Fitting cascade layer = 4 \n",
      "[2021-11-21 05:54:50.268] layer = 4  | Val Acc = 99.977 % | Elapsed = 5.119 s\n",
      "[2021-11-21 05:54:50.269] Early stopping counter: 1 out of 2\n",
      "[2021-11-21 05:54:50.298] Fitting cascade layer = 5 \n",
      "[2021-11-21 05:54:55.311] layer = 5  | Val Acc = 99.978 % | Elapsed = 5.013 s\n",
      "[2021-11-21 05:54:55.311] Early stopping counter: 2 out of 2\n",
      "[2021-11-21 05:54:55.311] Handling early stopping\n",
      "[2021-11-21 05:54:55.312] The optimal number of layers: 4\n",
      "[2021-11-21 05:54:55.315] Start to evalute the model:\n",
      "[2021-11-21 05:54:55.340] Evaluating cascade layer = 0 \n",
      "[2021-11-21 05:54:55.504] Evaluating cascade layer = 1 \n",
      "[2021-11-21 05:54:55.662] Evaluating cascade layer = 2 \n",
      "[2021-11-21 05:54:55.811] Evaluating cascade layer = 3 \n",
      "\n",
      "Testing Accuracy: 99.973 %\n",
      "0:00:33.600643\n"
     ]
    }
   ],
   "source": [
    "first_time = datetime.datetime.now()\n",
    "model = CascadeForestClassifier( )\n",
    "model.fit(x_train, y_train)\n",
    "y_pred = model.predict(x_test)\n",
    "acc = accuracy_score(y_test,  y_pred) * 100\n",
    "print(\"\\nTesting Accuracy: {:.3f} %\".format(acc))\n",
    "later_time = datetime.datetime.now()\n",
    "difference = later_time - first_time\n",
    "print(difference)"
   ]
  },
  {
   "cell_type": "code",
   "execution_count": 19,
   "id": "214ce1c8",
   "metadata": {},
   "outputs": [
    {
     "name": "stdout",
     "output_type": "stream",
     "text": [
      "              precision    recall  f1-score   support\n",
      "\n",
      "           0       1.00      1.00      1.00      6256\n",
      "           1       1.00      1.00      1.00      8742\n",
      "\n",
      "    accuracy                           1.00     14998\n",
      "   macro avg       1.00      1.00      1.00     14998\n",
      "weighted avg       1.00      1.00      1.00     14998\n",
      "\n",
      "[[6255    1]\n",
      " [   3 8739]]\n"
     ]
    }
   ],
   "source": [
    "c_r = classification_report(y_test, y_pred)\n",
    "c_m = confusion_matrix(y_test, y_pred)\n",
    "print(c_r)\n",
    "print(c_m)"
   ]
  }
 ],
 "metadata": {
  "kernelspec": {
   "display_name": "Python 3",
   "language": "python",
   "name": "python3"
  },
  "language_info": {
   "codemirror_mode": {
    "name": "ipython",
    "version": 3
   },
   "file_extension": ".py",
   "mimetype": "text/x-python",
   "name": "python",
   "nbconvert_exporter": "python",
   "pygments_lexer": "ipython3",
   "version": "3.8.8"
  }
 },
 "nbformat": 4,
 "nbformat_minor": 5
}
