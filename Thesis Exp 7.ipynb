{
 "cells": [
  {
   "cell_type": "code",
   "execution_count": 1,
   "id": "8b20bd2e",
   "metadata": {},
   "outputs": [],
   "source": [
    "import pandas as pd"
   ]
  },
  {
   "cell_type": "code",
   "execution_count": null,
   "id": "3b9e5153",
   "metadata": {},
   "outputs": [],
   "source": [
    "# read the data"
   ]
  },
  {
   "cell_type": "code",
   "execution_count": 2,
   "id": "2597f25c",
   "metadata": {},
   "outputs": [],
   "source": [
    "train_ddos1=pd.read_csv(\"E:/Ankit files/IoT23_thesis/Preprocess_BinaryFiles/CROSS DATASET/IoT23_DDoS_Portscan_Benign_Binary.csv\")"
   ]
  },
  {
   "cell_type": "code",
   "execution_count": 3,
   "id": "61eff9ea",
   "metadata": {},
   "outputs": [],
   "source": [
    "test_ddos=pd.read_csv(\"E:/Ankit files/IoT23_thesis/Preprocess_BinaryFiles/CROSS DATASET/cse_cic_ids_2018_encoded_test.csv\")"
   ]
  },
  {
   "cell_type": "code",
   "execution_count": 4,
   "id": "8acf4008",
   "metadata": {},
   "outputs": [
    {
     "data": {
      "text/plain": [
       "(141514, 60)"
      ]
     },
     "execution_count": 4,
     "metadata": {},
     "output_type": "execute_result"
    }
   ],
   "source": [
    "train_ddos1.shape"
   ]
  },
  {
   "cell_type": "code",
   "execution_count": 5,
   "id": "27de7a58",
   "metadata": {},
   "outputs": [
    {
     "data": {
      "text/plain": [
       "(38588, 60)"
      ]
     },
     "execution_count": 5,
     "metadata": {},
     "output_type": "execute_result"
    }
   ],
   "source": [
    "test_ddos.shape"
   ]
  },
  {
   "cell_type": "code",
   "execution_count": 6,
   "id": "786bc6e4",
   "metadata": {},
   "outputs": [
    {
     "name": "stdout",
     "output_type": "stream",
     "text": [
      "<class 'pandas.core.frame.DataFrame'>\n",
      "RangeIndex: 141514 entries, 0 to 141513\n",
      "Data columns (total 60 columns):\n",
      " #   Column                      Non-Null Count   Dtype  \n",
      "---  ------                      --------------   -----  \n",
      " 0   Flow Duration               141514 non-null  int64  \n",
      " 1   Total Fwd Packet            141514 non-null  int64  \n",
      " 2   Total Bwd packets           141514 non-null  int64  \n",
      " 3   Total Length of Fwd Packet  141514 non-null  int64  \n",
      " 4   Total Length of Bwd Packet  141514 non-null  int64  \n",
      " 5   Fwd Packet Length Max       141514 non-null  int64  \n",
      " 6   Fwd Packet Length Min       141514 non-null  int64  \n",
      " 7   Fwd Packet Length Mean      141514 non-null  float64\n",
      " 8   Fwd Packet Length Std       141514 non-null  float64\n",
      " 9   Bwd Packet Length Max       141514 non-null  int64  \n",
      " 10  Bwd Packet Length Min       141514 non-null  int64  \n",
      " 11  Bwd Packet Length Mean      141514 non-null  float64\n",
      " 12  Bwd Packet Length Std       141514 non-null  float64\n",
      " 13  Flow Bytes/s                141514 non-null  float64\n",
      " 14  Flow Packets/s              141514 non-null  float64\n",
      " 15  Flow IAT Mean               141514 non-null  float64\n",
      " 16  Flow IAT Std                141514 non-null  float64\n",
      " 17  Flow IAT Max                141514 non-null  int64  \n",
      " 18  Flow IAT Min                141514 non-null  int64  \n",
      " 19  Fwd IAT Total               141514 non-null  int64  \n",
      " 20  Fwd IAT Mean                141514 non-null  float64\n",
      " 21  Fwd IAT Std                 141514 non-null  float64\n",
      " 22  Fwd IAT Max                 141514 non-null  int64  \n",
      " 23  Fwd IAT Min                 141514 non-null  int64  \n",
      " 24  Bwd IAT Total               141514 non-null  int64  \n",
      " 25  Bwd IAT Mean                141514 non-null  float64\n",
      " 26  Bwd IAT Std                 141514 non-null  float64\n",
      " 27  Bwd IAT Max                 141514 non-null  int64  \n",
      " 28  Bwd IAT Min                 141514 non-null  int64  \n",
      " 29  Fwd Header Length           141514 non-null  int64  \n",
      " 30  Bwd Header Length           141514 non-null  int64  \n",
      " 31  Fwd Packets/s               141514 non-null  float64\n",
      " 32  Bwd Packets/s               141514 non-null  float64\n",
      " 33  Packet Length Min           141514 non-null  int64  \n",
      " 34  Packet Length Max           141514 non-null  int64  \n",
      " 35  Packet Length Mean          141514 non-null  float64\n",
      " 36  Packet Length Std           141514 non-null  float64\n",
      " 37  Packet Length Variance      141514 non-null  float64\n",
      " 38  RST Flag Count              141514 non-null  int64  \n",
      " 39  PSH Flag Count              141514 non-null  int64  \n",
      " 40  ACK Flag Count              141514 non-null  int64  \n",
      " 41  URG Flag Count              141514 non-null  int64  \n",
      " 42  Average Packet Size         141514 non-null  float64\n",
      " 43  Fwd Segment Size Avg        141514 non-null  float64\n",
      " 44  Bwd Segment Size Avg        141514 non-null  float64\n",
      " 45  Subflow Fwd Packets         141514 non-null  int64  \n",
      " 46  Subflow Fwd Bytes           141514 non-null  int64  \n",
      " 47  FWD Init Win Bytes          141514 non-null  int64  \n",
      " 48  Bwd Init Win Bytes          141514 non-null  int64  \n",
      " 49  Fwd Act Data Pkts           141514 non-null  int64  \n",
      " 50  Fwd Seg Size Min            141514 non-null  int64  \n",
      " 51  Active Mean                 141514 non-null  float64\n",
      " 52  Active Std                  141514 non-null  float64\n",
      " 53  Active Max                  141514 non-null  int64  \n",
      " 54  Active Min                  141514 non-null  int64  \n",
      " 55  Idle Mean                   141514 non-null  float64\n",
      " 56  Idle Std                    141514 non-null  float64\n",
      " 57  Idle Max                    141514 non-null  float64\n",
      " 58  Idle Min                    141514 non-null  float64\n",
      " 59  Label                       141514 non-null  int64  \n",
      "dtypes: float64(26), int64(34)\n",
      "memory usage: 64.8 MB\n"
     ]
    }
   ],
   "source": [
    "train_ddos1.info()"
   ]
  },
  {
   "cell_type": "code",
   "execution_count": 7,
   "id": "fb6c1bf0",
   "metadata": {},
   "outputs": [
    {
     "name": "stdout",
     "output_type": "stream",
     "text": [
      "<class 'pandas.core.frame.DataFrame'>\n",
      "RangeIndex: 38588 entries, 0 to 38587\n",
      "Data columns (total 60 columns):\n",
      " #   Column                      Non-Null Count  Dtype  \n",
      "---  ------                      --------------  -----  \n",
      " 0   Flow Duration               38588 non-null  int64  \n",
      " 1   Total Fwd Packet            38588 non-null  int64  \n",
      " 2   Total Bwd packets           38588 non-null  int64  \n",
      " 3   Total Length of Fwd Packet  38588 non-null  int64  \n",
      " 4   Total Length of Bwd Packet  38588 non-null  int64  \n",
      " 5   Fwd Packet Length Max       38588 non-null  int64  \n",
      " 6   Fwd Packet Length Min       38588 non-null  int64  \n",
      " 7   Fwd Packet Length Mean      38588 non-null  float64\n",
      " 8   Fwd Packet Length Std       38588 non-null  float64\n",
      " 9   Bwd Packet Length Max       38588 non-null  int64  \n",
      " 10  Bwd Packet Length Min       38588 non-null  int64  \n",
      " 11  Bwd Packet Length Mean      38588 non-null  float64\n",
      " 12  Bwd Packet Length Std       38588 non-null  float64\n",
      " 13  Flow Bytes/s                38588 non-null  float64\n",
      " 14  Flow Packets/s              38588 non-null  float64\n",
      " 15  Flow IAT Mean               38588 non-null  float64\n",
      " 16  Flow IAT Std                38588 non-null  float64\n",
      " 17  Flow IAT Max                38588 non-null  int64  \n",
      " 18  Flow IAT Min                38588 non-null  int64  \n",
      " 19  Fwd IAT Total               38588 non-null  int64  \n",
      " 20  Fwd IAT Mean                38588 non-null  float64\n",
      " 21  Fwd IAT Std                 38588 non-null  float64\n",
      " 22  Fwd IAT Max                 38588 non-null  int64  \n",
      " 23  Fwd IAT Min                 38588 non-null  int64  \n",
      " 24  Bwd IAT Total               38588 non-null  int64  \n",
      " 25  Bwd IAT Mean                38588 non-null  float64\n",
      " 26  Bwd IAT Std                 38588 non-null  float64\n",
      " 27  Bwd IAT Max                 38588 non-null  int64  \n",
      " 28  Bwd IAT Min                 38588 non-null  int64  \n",
      " 29  Fwd Header Length           38588 non-null  int64  \n",
      " 30  Bwd Header Length           38588 non-null  int64  \n",
      " 31  Fwd Packets/s               38588 non-null  float64\n",
      " 32  Bwd Packets/s               38588 non-null  float64\n",
      " 33  Packet Length Min           38588 non-null  int64  \n",
      " 34  Packet Length Max           38588 non-null  int64  \n",
      " 35  Packet Length Mean          38588 non-null  float64\n",
      " 36  Packet Length Std           38588 non-null  float64\n",
      " 37  Packet Length Variance      38588 non-null  float64\n",
      " 38  RST Flag Count              38588 non-null  int64  \n",
      " 39  PSH Flag Count              38588 non-null  int64  \n",
      " 40  ACK Flag Count              38588 non-null  int64  \n",
      " 41  URG Flag Count              38588 non-null  int64  \n",
      " 42  Average Packet Size         38588 non-null  float64\n",
      " 43  Fwd Segment Size Avg        38588 non-null  float64\n",
      " 44  Bwd Segment Size Avg        38588 non-null  float64\n",
      " 45  Subflow Fwd Packets         38588 non-null  int64  \n",
      " 46  Subflow Fwd Bytes           38588 non-null  int64  \n",
      " 47  FWD Init Win Bytes          38588 non-null  int64  \n",
      " 48  Bwd Init Win Bytes          38588 non-null  int64  \n",
      " 49  Fwd Act Data Pkts           38588 non-null  int64  \n",
      " 50  Fwd Seg Size Min            38588 non-null  int64  \n",
      " 51  Active Mean                 38588 non-null  float64\n",
      " 52  Active Std                  38588 non-null  float64\n",
      " 53  Active Max                  38588 non-null  int64  \n",
      " 54  Active Min                  38588 non-null  int64  \n",
      " 55  Idle Mean                   38588 non-null  float64\n",
      " 56  Idle Std                    38588 non-null  float64\n",
      " 57  Idle Max                    38588 non-null  int64  \n",
      " 58  Idle Min                    38588 non-null  int64  \n",
      " 59  Label                       38588 non-null  int64  \n",
      "dtypes: float64(24), int64(36)\n",
      "memory usage: 17.7 MB\n"
     ]
    }
   ],
   "source": [
    "test_ddos.info()"
   ]
  },
  {
   "cell_type": "code",
   "execution_count": 8,
   "id": "3388b487",
   "metadata": {},
   "outputs": [
    {
     "name": "stdout",
     "output_type": "stream",
     "text": [
      "1    80990\n",
      "0    60524\n",
      "Name: Label, dtype: int64\n"
     ]
    }
   ],
   "source": [
    "cnt_types =  train_ddos1['Label'].value_counts()\n",
    "print(cnt_types)"
   ]
  },
  {
   "cell_type": "code",
   "execution_count": 9,
   "id": "37fa30b1",
   "metadata": {},
   "outputs": [
    {
     "name": "stdout",
     "output_type": "stream",
     "text": [
      "1    22186\n",
      "0    16402\n",
      "Name: Label, dtype: int64\n"
     ]
    }
   ],
   "source": [
    "cnt_types =  test_ddos['Label'].value_counts()\n",
    "print(cnt_types)"
   ]
  },
  {
   "cell_type": "code",
   "execution_count": 10,
   "id": "401a6e04",
   "metadata": {},
   "outputs": [],
   "source": [
    "# Assigning independent and dependent varriable"
   ]
  },
  {
   "cell_type": "code",
   "execution_count": 4,
   "id": "15a15310",
   "metadata": {},
   "outputs": [],
   "source": [
    "x_train= train_ddos1.iloc[:, (train_ddos1.columns!='Label')]\n",
    "y_train = train_ddos1.iloc[:,-1]"
   ]
  },
  {
   "cell_type": "code",
   "execution_count": 5,
   "id": "d56da626",
   "metadata": {},
   "outputs": [],
   "source": [
    "x_test= test_ddos.iloc[:, (test_ddos.columns!='Label')]\n",
    "y_test= test_ddos.iloc[:,-1]"
   ]
  },
  {
   "cell_type": "code",
   "execution_count": null,
   "id": "ac8ea3ae",
   "metadata": {},
   "outputs": [],
   "source": [
    "# check for corelation"
   ]
  },
  {
   "cell_type": "code",
   "execution_count": 12,
   "id": "31a68e46",
   "metadata": {},
   "outputs": [
    {
     "data": {
      "text/plain": [
       "Flow Duration                 0\n",
       "Total Fwd Packet              0\n",
       "Total Bwd packets             0\n",
       "Total Length of Fwd Packet    0\n",
       "Total Length of Bwd Packet    0\n",
       "Fwd Packet Length Max         0\n",
       "Fwd Packet Length Min         0\n",
       "Fwd Packet Length Mean        0\n",
       "Fwd Packet Length Std         0\n",
       "Bwd Packet Length Max         0\n",
       "Bwd Packet Length Min         0\n",
       "Bwd Packet Length Mean        0\n",
       "Bwd Packet Length Std         0\n",
       "Flow Bytes/s                  0\n",
       "Flow Packets/s                0\n",
       "Flow IAT Mean                 0\n",
       "Flow IAT Std                  0\n",
       "Flow IAT Max                  0\n",
       "Flow IAT Min                  0\n",
       "Fwd IAT Total                 0\n",
       "Fwd IAT Mean                  0\n",
       "Fwd IAT Std                   0\n",
       "Fwd IAT Max                   0\n",
       "Fwd IAT Min                   0\n",
       "Bwd IAT Total                 0\n",
       "Bwd IAT Mean                  0\n",
       "Bwd IAT Std                   0\n",
       "Bwd IAT Max                   0\n",
       "Bwd IAT Min                   0\n",
       "Fwd Header Length             0\n",
       "Bwd Header Length             0\n",
       "Fwd Packets/s                 0\n",
       "Bwd Packets/s                 0\n",
       "Packet Length Min             0\n",
       "Packet Length Max             0\n",
       "Packet Length Mean            0\n",
       "Packet Length Std             0\n",
       "Packet Length Variance        0\n",
       "RST Flag Count                0\n",
       "PSH Flag Count                0\n",
       "ACK Flag Count                0\n",
       "URG Flag Count                0\n",
       "Average Packet Size           0\n",
       "Fwd Segment Size Avg          0\n",
       "Bwd Segment Size Avg          0\n",
       "Subflow Fwd Packets           0\n",
       "Subflow Fwd Bytes             0\n",
       "FWD Init Win Bytes            0\n",
       "Bwd Init Win Bytes            0\n",
       "Fwd Act Data Pkts             0\n",
       "Fwd Seg Size Min              0\n",
       "Active Mean                   0\n",
       "Active Std                    0\n",
       "Active Max                    0\n",
       "Active Min                    0\n",
       "Idle Mean                     0\n",
       "Idle Std                      0\n",
       "Idle Max                      0\n",
       "Idle Min                      0\n",
       "dtype: int64"
      ]
     },
     "execution_count": 12,
     "metadata": {},
     "output_type": "execute_result"
    }
   ],
   "source": [
    "crr1=x_train.corr()\n",
    "crr1.isnull().sum()"
   ]
  },
  {
   "cell_type": "code",
   "execution_count": 13,
   "id": "9d421212",
   "metadata": {},
   "outputs": [
    {
     "data": {
      "text/plain": [
       "Flow Duration                 0\n",
       "Total Fwd Packet              0\n",
       "Total Bwd packets             0\n",
       "Total Length of Fwd Packet    0\n",
       "Total Length of Bwd Packet    0\n",
       "Fwd Packet Length Max         0\n",
       "Fwd Packet Length Min         0\n",
       "Fwd Packet Length Mean        0\n",
       "Fwd Packet Length Std         0\n",
       "Bwd Packet Length Max         0\n",
       "Bwd Packet Length Min         0\n",
       "Bwd Packet Length Mean        0\n",
       "Bwd Packet Length Std         0\n",
       "Flow Bytes/s                  0\n",
       "Flow Packets/s                0\n",
       "Flow IAT Mean                 0\n",
       "Flow IAT Std                  0\n",
       "Flow IAT Max                  0\n",
       "Flow IAT Min                  0\n",
       "Fwd IAT Total                 0\n",
       "Fwd IAT Mean                  0\n",
       "Fwd IAT Std                   0\n",
       "Fwd IAT Max                   0\n",
       "Fwd IAT Min                   0\n",
       "Bwd IAT Total                 0\n",
       "Bwd IAT Mean                  0\n",
       "Bwd IAT Std                   0\n",
       "Bwd IAT Max                   0\n",
       "Bwd IAT Min                   0\n",
       "Fwd Header Length             0\n",
       "Bwd Header Length             0\n",
       "Fwd Packets/s                 0\n",
       "Bwd Packets/s                 0\n",
       "Packet Length Min             0\n",
       "Packet Length Max             0\n",
       "Packet Length Mean            0\n",
       "Packet Length Std             0\n",
       "Packet Length Variance        0\n",
       "RST Flag Count                0\n",
       "PSH Flag Count                0\n",
       "ACK Flag Count                0\n",
       "URG Flag Count                0\n",
       "Average Packet Size           0\n",
       "Fwd Segment Size Avg          0\n",
       "Bwd Segment Size Avg          0\n",
       "Subflow Fwd Packets           0\n",
       "Subflow Fwd Bytes             0\n",
       "FWD Init Win Bytes            0\n",
       "Bwd Init Win Bytes            0\n",
       "Fwd Act Data Pkts             0\n",
       "Fwd Seg Size Min              0\n",
       "Active Mean                   0\n",
       "Active Std                    0\n",
       "Active Max                    0\n",
       "Active Min                    0\n",
       "Idle Mean                     0\n",
       "Idle Std                      0\n",
       "Idle Max                      0\n",
       "Idle Min                      0\n",
       "dtype: int64"
      ]
     },
     "execution_count": 13,
     "metadata": {},
     "output_type": "execute_result"
    }
   ],
   "source": [
    "crr1=x_test.corr()\n",
    "crr1.isnull().sum()"
   ]
  },
  {
   "cell_type": "code",
   "execution_count": null,
   "id": "286b170b",
   "metadata": {},
   "outputs": [],
   "source": [
    "# Normalization of independent varriable"
   ]
  },
  {
   "cell_type": "code",
   "execution_count": 6,
   "id": "f3abda48",
   "metadata": {},
   "outputs": [],
   "source": [
    "x_train = (x_train-x_train.mean())/x_train.std()"
   ]
  },
  {
   "cell_type": "code",
   "execution_count": 7,
   "id": "8e973b6d",
   "metadata": {},
   "outputs": [],
   "source": [
    "x_test = (x_test-x_test.mean())/x_test.std()"
   ]
  },
  {
   "cell_type": "code",
   "execution_count": 8,
   "id": "1fb875ec",
   "metadata": {},
   "outputs": [
    {
     "name": "stdout",
     "output_type": "stream",
     "text": [
      "<class 'pandas.core.frame.DataFrame'>\n",
      "RangeIndex: 38588 entries, 0 to 38587\n",
      "Data columns (total 59 columns):\n",
      " #   Column                      Non-Null Count  Dtype  \n",
      "---  ------                      --------------  -----  \n",
      " 0   Flow Duration               38588 non-null  float64\n",
      " 1   Total Fwd Packet            38588 non-null  float64\n",
      " 2   Total Bwd packets           38588 non-null  float64\n",
      " 3   Total Length of Fwd Packet  38588 non-null  float64\n",
      " 4   Total Length of Bwd Packet  38588 non-null  float64\n",
      " 5   Fwd Packet Length Max       38588 non-null  float64\n",
      " 6   Fwd Packet Length Min       38588 non-null  float64\n",
      " 7   Fwd Packet Length Mean      38588 non-null  float64\n",
      " 8   Fwd Packet Length Std       38588 non-null  float64\n",
      " 9   Bwd Packet Length Max       38588 non-null  float64\n",
      " 10  Bwd Packet Length Min       38588 non-null  float64\n",
      " 11  Bwd Packet Length Mean      38588 non-null  float64\n",
      " 12  Bwd Packet Length Std       38588 non-null  float64\n",
      " 13  Flow Bytes/s                38588 non-null  float64\n",
      " 14  Flow Packets/s              38588 non-null  float64\n",
      " 15  Flow IAT Mean               38588 non-null  float64\n",
      " 16  Flow IAT Std                38588 non-null  float64\n",
      " 17  Flow IAT Max                38588 non-null  float64\n",
      " 18  Flow IAT Min                38588 non-null  float64\n",
      " 19  Fwd IAT Total               38588 non-null  float64\n",
      " 20  Fwd IAT Mean                38588 non-null  float64\n",
      " 21  Fwd IAT Std                 38588 non-null  float64\n",
      " 22  Fwd IAT Max                 38588 non-null  float64\n",
      " 23  Fwd IAT Min                 38588 non-null  float64\n",
      " 24  Bwd IAT Total               38588 non-null  float64\n",
      " 25  Bwd IAT Mean                38588 non-null  float64\n",
      " 26  Bwd IAT Std                 38588 non-null  float64\n",
      " 27  Bwd IAT Max                 38588 non-null  float64\n",
      " 28  Bwd IAT Min                 38588 non-null  float64\n",
      " 29  Fwd Header Length           38588 non-null  float64\n",
      " 30  Bwd Header Length           38588 non-null  float64\n",
      " 31  Fwd Packets/s               38588 non-null  float64\n",
      " 32  Bwd Packets/s               38588 non-null  float64\n",
      " 33  Packet Length Min           38588 non-null  float64\n",
      " 34  Packet Length Max           38588 non-null  float64\n",
      " 35  Packet Length Mean          38588 non-null  float64\n",
      " 36  Packet Length Std           38588 non-null  float64\n",
      " 37  Packet Length Variance      38588 non-null  float64\n",
      " 38  RST Flag Count              38588 non-null  float64\n",
      " 39  PSH Flag Count              38588 non-null  float64\n",
      " 40  ACK Flag Count              38588 non-null  float64\n",
      " 41  URG Flag Count              38588 non-null  float64\n",
      " 42  Average Packet Size         38588 non-null  float64\n",
      " 43  Fwd Segment Size Avg        38588 non-null  float64\n",
      " 44  Bwd Segment Size Avg        38588 non-null  float64\n",
      " 45  Subflow Fwd Packets         38588 non-null  float64\n",
      " 46  Subflow Fwd Bytes           38588 non-null  float64\n",
      " 47  FWD Init Win Bytes          38588 non-null  float64\n",
      " 48  Bwd Init Win Bytes          38588 non-null  float64\n",
      " 49  Fwd Act Data Pkts           38588 non-null  float64\n",
      " 50  Fwd Seg Size Min            38588 non-null  float64\n",
      " 51  Active Mean                 38588 non-null  float64\n",
      " 52  Active Std                  38588 non-null  float64\n",
      " 53  Active Max                  38588 non-null  float64\n",
      " 54  Active Min                  38588 non-null  float64\n",
      " 55  Idle Mean                   38588 non-null  float64\n",
      " 56  Idle Std                    38588 non-null  float64\n",
      " 57  Idle Max                    38588 non-null  float64\n",
      " 58  Idle Min                    38588 non-null  float64\n",
      "dtypes: float64(59)\n",
      "memory usage: 17.4 MB\n"
     ]
    }
   ],
   "source": [
    "x_test.info()"
   ]
  },
  {
   "cell_type": "code",
   "execution_count": 17,
   "id": "6549163f",
   "metadata": {},
   "outputs": [
    {
     "name": "stdout",
     "output_type": "stream",
     "text": [
      "<class 'pandas.core.frame.DataFrame'>\n",
      "RangeIndex: 141514 entries, 0 to 141513\n",
      "Data columns (total 59 columns):\n",
      " #   Column                      Non-Null Count   Dtype  \n",
      "---  ------                      --------------   -----  \n",
      " 0   Flow Duration               141514 non-null  float64\n",
      " 1   Total Fwd Packet            141514 non-null  float64\n",
      " 2   Total Bwd packets           141514 non-null  float64\n",
      " 3   Total Length of Fwd Packet  141514 non-null  float64\n",
      " 4   Total Length of Bwd Packet  141514 non-null  float64\n",
      " 5   Fwd Packet Length Max       141514 non-null  float64\n",
      " 6   Fwd Packet Length Min       141514 non-null  float64\n",
      " 7   Fwd Packet Length Mean      141514 non-null  float64\n",
      " 8   Fwd Packet Length Std       141514 non-null  float64\n",
      " 9   Bwd Packet Length Max       141514 non-null  float64\n",
      " 10  Bwd Packet Length Min       141514 non-null  float64\n",
      " 11  Bwd Packet Length Mean      141514 non-null  float64\n",
      " 12  Bwd Packet Length Std       141514 non-null  float64\n",
      " 13  Flow Bytes/s                141514 non-null  float64\n",
      " 14  Flow Packets/s              141514 non-null  float64\n",
      " 15  Flow IAT Mean               141514 non-null  float64\n",
      " 16  Flow IAT Std                141514 non-null  float64\n",
      " 17  Flow IAT Max                141514 non-null  float64\n",
      " 18  Flow IAT Min                141514 non-null  float64\n",
      " 19  Fwd IAT Total               141514 non-null  float64\n",
      " 20  Fwd IAT Mean                141514 non-null  float64\n",
      " 21  Fwd IAT Std                 141514 non-null  float64\n",
      " 22  Fwd IAT Max                 141514 non-null  float64\n",
      " 23  Fwd IAT Min                 141514 non-null  float64\n",
      " 24  Bwd IAT Total               141514 non-null  float64\n",
      " 25  Bwd IAT Mean                141514 non-null  float64\n",
      " 26  Bwd IAT Std                 141514 non-null  float64\n",
      " 27  Bwd IAT Max                 141514 non-null  float64\n",
      " 28  Bwd IAT Min                 141514 non-null  float64\n",
      " 29  Fwd Header Length           141514 non-null  float64\n",
      " 30  Bwd Header Length           141514 non-null  float64\n",
      " 31  Fwd Packets/s               141514 non-null  float64\n",
      " 32  Bwd Packets/s               141514 non-null  float64\n",
      " 33  Packet Length Min           141514 non-null  float64\n",
      " 34  Packet Length Max           141514 non-null  float64\n",
      " 35  Packet Length Mean          141514 non-null  float64\n",
      " 36  Packet Length Std           141514 non-null  float64\n",
      " 37  Packet Length Variance      141514 non-null  float64\n",
      " 38  RST Flag Count              141514 non-null  float64\n",
      " 39  PSH Flag Count              141514 non-null  float64\n",
      " 40  ACK Flag Count              141514 non-null  float64\n",
      " 41  URG Flag Count              141514 non-null  float64\n",
      " 42  Average Packet Size         141514 non-null  float64\n",
      " 43  Fwd Segment Size Avg        141514 non-null  float64\n",
      " 44  Bwd Segment Size Avg        141514 non-null  float64\n",
      " 45  Subflow Fwd Packets         141514 non-null  float64\n",
      " 46  Subflow Fwd Bytes           141514 non-null  float64\n",
      " 47  FWD Init Win Bytes          141514 non-null  float64\n",
      " 48  Bwd Init Win Bytes          141514 non-null  float64\n",
      " 49  Fwd Act Data Pkts           141514 non-null  float64\n",
      " 50  Fwd Seg Size Min            141514 non-null  float64\n",
      " 51  Active Mean                 141514 non-null  float64\n",
      " 52  Active Std                  141514 non-null  float64\n",
      " 53  Active Max                  141514 non-null  float64\n",
      " 54  Active Min                  141514 non-null  float64\n",
      " 55  Idle Mean                   141514 non-null  float64\n",
      " 56  Idle Std                    141514 non-null  float64\n",
      " 57  Idle Max                    141514 non-null  float64\n",
      " 58  Idle Min                    141514 non-null  float64\n",
      "dtypes: float64(59)\n",
      "memory usage: 63.7 MB\n"
     ]
    }
   ],
   "source": [
    "x_train.info()"
   ]
  },
  {
   "cell_type": "code",
   "execution_count": 18,
   "id": "faa57a09",
   "metadata": {},
   "outputs": [
    {
     "data": {
      "text/plain": [
       "Flow Duration                 0\n",
       "Total Fwd Packet              0\n",
       "Total Bwd packets             0\n",
       "Total Length of Fwd Packet    0\n",
       "Total Length of Bwd Packet    0\n",
       "Fwd Packet Length Max         0\n",
       "Fwd Packet Length Min         0\n",
       "Fwd Packet Length Mean        0\n",
       "Fwd Packet Length Std         0\n",
       "Bwd Packet Length Max         0\n",
       "Bwd Packet Length Min         0\n",
       "Bwd Packet Length Mean        0\n",
       "Bwd Packet Length Std         0\n",
       "Flow Bytes/s                  0\n",
       "Flow Packets/s                0\n",
       "Flow IAT Mean                 0\n",
       "Flow IAT Std                  0\n",
       "Flow IAT Max                  0\n",
       "Flow IAT Min                  0\n",
       "Fwd IAT Total                 0\n",
       "Fwd IAT Mean                  0\n",
       "Fwd IAT Std                   0\n",
       "Fwd IAT Max                   0\n",
       "Fwd IAT Min                   0\n",
       "Bwd IAT Total                 0\n",
       "Bwd IAT Mean                  0\n",
       "Bwd IAT Std                   0\n",
       "Bwd IAT Max                   0\n",
       "Bwd IAT Min                   0\n",
       "Fwd Header Length             0\n",
       "Bwd Header Length             0\n",
       "Fwd Packets/s                 0\n",
       "Bwd Packets/s                 0\n",
       "Packet Length Min             0\n",
       "Packet Length Max             0\n",
       "Packet Length Mean            0\n",
       "Packet Length Std             0\n",
       "Packet Length Variance        0\n",
       "RST Flag Count                0\n",
       "PSH Flag Count                0\n",
       "ACK Flag Count                0\n",
       "URG Flag Count                0\n",
       "Average Packet Size           0\n",
       "Fwd Segment Size Avg          0\n",
       "Bwd Segment Size Avg          0\n",
       "Subflow Fwd Packets           0\n",
       "Subflow Fwd Bytes             0\n",
       "FWD Init Win Bytes            0\n",
       "Bwd Init Win Bytes            0\n",
       "Fwd Act Data Pkts             0\n",
       "Fwd Seg Size Min              0\n",
       "Active Mean                   0\n",
       "Active Std                    0\n",
       "Active Max                    0\n",
       "Active Min                    0\n",
       "Idle Mean                     0\n",
       "Idle Std                      0\n",
       "Idle Max                      0\n",
       "Idle Min                      0\n",
       "dtype: int64"
      ]
     },
     "execution_count": 18,
     "metadata": {},
     "output_type": "execute_result"
    }
   ],
   "source": [
    "crr1=x_train.corr()\n",
    "crr1.isnull().sum()"
   ]
  },
  {
   "cell_type": "code",
   "execution_count": 19,
   "id": "fb9475d6",
   "metadata": {},
   "outputs": [
    {
     "data": {
      "text/plain": [
       "False"
      ]
     },
     "execution_count": 19,
     "metadata": {},
     "output_type": "execute_result"
    }
   ],
   "source": [
    "x_train['Flow Bytes/s'].isnull().values.any()"
   ]
  },
  {
   "cell_type": "code",
   "execution_count": 20,
   "id": "9d3d7402",
   "metadata": {},
   "outputs": [
    {
     "name": "stdout",
     "output_type": "stream",
     "text": [
      "Flow Duration                 1.0\n",
      "Total Fwd Packet              1.0\n",
      "Total Bwd packets             1.0\n",
      "Total Length of Fwd Packet    1.0\n",
      "Total Length of Bwd Packet    1.0\n",
      "Fwd Packet Length Max         1.0\n",
      "Fwd Packet Length Min         1.0\n",
      "Fwd Packet Length Mean        1.0\n",
      "Fwd Packet Length Std         1.0\n",
      "Bwd Packet Length Max         1.0\n",
      "dtype: float64\n",
      "Bwd Packet Length Min     1.0\n",
      "Bwd Packet Length Mean    1.0\n",
      "Bwd Packet Length Std     1.0\n",
      "Flow Bytes/s              1.0\n",
      "Flow Packets/s            1.0\n",
      "Flow IAT Mean             1.0\n",
      "Flow IAT Std              1.0\n",
      "Flow IAT Max              1.0\n",
      "Flow IAT Min              1.0\n",
      "Fwd IAT Total             1.0\n",
      "Fwd IAT Mean              1.0\n",
      "Fwd IAT Std               1.0\n",
      "Fwd IAT Max               1.0\n",
      "Fwd IAT Min               1.0\n",
      "Bwd IAT Total             1.0\n",
      "Bwd IAT Mean              1.0\n",
      "Bwd IAT Std               1.0\n",
      "Bwd IAT Max               1.0\n",
      "Bwd IAT Min               1.0\n",
      "Fwd Header Length         1.0\n",
      "dtype: float64\n",
      "Bwd Header Length         1.0\n",
      "Fwd Packets/s             1.0\n",
      "Bwd Packets/s             1.0\n",
      "Packet Length Min         1.0\n",
      "Packet Length Max         1.0\n",
      "Packet Length Mean        1.0\n",
      "Packet Length Std         1.0\n",
      "Packet Length Variance    1.0\n",
      "RST Flag Count            1.0\n",
      "PSH Flag Count            1.0\n",
      "ACK Flag Count            1.0\n",
      "URG Flag Count            1.0\n",
      "Average Packet Size       1.0\n",
      "Fwd Segment Size Avg      1.0\n",
      "Bwd Segment Size Avg      1.0\n",
      "Subflow Fwd Packets       1.0\n",
      "Subflow Fwd Bytes         1.0\n",
      "FWD Init Win Bytes        1.0\n",
      "Bwd Init Win Bytes        1.0\n",
      "Fwd Act Data Pkts         1.0\n",
      "Fwd Seg Size Min          1.0\n",
      "Active Mean               1.0\n",
      "Active Std                1.0\n",
      "Active Max                1.0\n",
      "Active Min                1.0\n",
      "Idle Mean                 1.0\n",
      "Idle Std                  1.0\n",
      "Idle Max                  1.0\n",
      "Idle Min                  1.0\n",
      "dtype: float64\n",
      "Series([], dtype: float64)\n"
     ]
    }
   ],
   "source": [
    "sd1 = x_train.std(ddof=1)\n",
    "print(sd1[0:10])\n",
    "print(sd1[10:30])\n",
    "print(sd1[30:60])\n",
    "print(sd1[60:70])"
   ]
  },
  {
   "cell_type": "code",
   "execution_count": 21,
   "id": "aca1de02",
   "metadata": {},
   "outputs": [
    {
     "data": {
      "text/plain": [
       "Flow Duration                 0\n",
       "Total Fwd Packet              0\n",
       "Total Bwd packets             0\n",
       "Total Length of Fwd Packet    0\n",
       "Total Length of Bwd Packet    0\n",
       "Fwd Packet Length Max         0\n",
       "Fwd Packet Length Min         0\n",
       "Fwd Packet Length Mean        0\n",
       "Fwd Packet Length Std         0\n",
       "Bwd Packet Length Max         0\n",
       "Bwd Packet Length Min         0\n",
       "Bwd Packet Length Mean        0\n",
       "Bwd Packet Length Std         0\n",
       "Flow Bytes/s                  0\n",
       "Flow Packets/s                0\n",
       "Flow IAT Mean                 0\n",
       "Flow IAT Std                  0\n",
       "Flow IAT Max                  0\n",
       "Flow IAT Min                  0\n",
       "Fwd IAT Total                 0\n",
       "Fwd IAT Mean                  0\n",
       "Fwd IAT Std                   0\n",
       "Fwd IAT Max                   0\n",
       "Fwd IAT Min                   0\n",
       "Bwd IAT Total                 0\n",
       "Bwd IAT Mean                  0\n",
       "Bwd IAT Std                   0\n",
       "Bwd IAT Max                   0\n",
       "Bwd IAT Min                   0\n",
       "Fwd Header Length             0\n",
       "Bwd Header Length             0\n",
       "Fwd Packets/s                 0\n",
       "Bwd Packets/s                 0\n",
       "Packet Length Min             0\n",
       "Packet Length Max             0\n",
       "Packet Length Mean            0\n",
       "Packet Length Std             0\n",
       "Packet Length Variance        0\n",
       "RST Flag Count                0\n",
       "PSH Flag Count                0\n",
       "ACK Flag Count                0\n",
       "URG Flag Count                0\n",
       "Average Packet Size           0\n",
       "Fwd Segment Size Avg          0\n",
       "Bwd Segment Size Avg          0\n",
       "Subflow Fwd Packets           0\n",
       "Subflow Fwd Bytes             0\n",
       "FWD Init Win Bytes            0\n",
       "Bwd Init Win Bytes            0\n",
       "Fwd Act Data Pkts             0\n",
       "Fwd Seg Size Min              0\n",
       "Active Mean                   0\n",
       "Active Std                    0\n",
       "Active Max                    0\n",
       "Active Min                    0\n",
       "Idle Mean                     0\n",
       "Idle Std                      0\n",
       "Idle Max                      0\n",
       "Idle Min                      0\n",
       "dtype: int64"
      ]
     },
     "execution_count": 21,
     "metadata": {},
     "output_type": "execute_result"
    }
   ],
   "source": [
    "crr1=x_test.corr()\n",
    "crr1.isnull().sum()"
   ]
  },
  {
   "cell_type": "code",
   "execution_count": null,
   "id": "6e4649c0",
   "metadata": {},
   "outputs": [],
   "source": [
    "# applying ML Models "
   ]
  },
  {
   "cell_type": "code",
   "execution_count": 22,
   "id": "e825eca7",
   "metadata": {},
   "outputs": [
    {
     "name": "stdout",
     "output_type": "stream",
     "text": [
      "Accuracy = 0.4250285062713797\n",
      "Accuracy: 1.000 (0.000)\n",
      "              precision    recall  f1-score   support\n",
      "\n",
      "           0       0.43      1.00      0.60     16402\n",
      "           1       0.00      0.00      0.00     22186\n",
      "\n",
      "    accuracy                           0.43     38588\n",
      "   macro avg       0.21      0.50      0.30     38588\n",
      "weighted avg       0.18      0.43      0.25     38588\n",
      "\n",
      "0:00:08.769023\n"
     ]
    }
   ],
   "source": [
    "from lightgbm import LGBMClassifier\n",
    "from sklearn.datasets import make_classification\n",
    "from sklearn.model_selection import cross_val_score\n",
    "#from sklearn.model_selection import RepeatedStratifiedKFold\n",
    "import datetime\n",
    "from sklearn.model_selection import KFold\n",
    "first_time = datetime.datetime.now()\n",
    "model = LGBMClassifier()\n",
    "model.fit(x_train, y_train)\n",
    "import sklearn.metrics as metrics\n",
    "cv = KFold(n_splits=10, random_state=1, shuffle=True)\n",
    "n_scores = cross_val_score(model, x_test, y_test, scoring='accuracy', cv=cv, n_jobs=-1)\n",
    "y_pred = model.predict(x_test)\n",
    "print(\"Accuracy =\", metrics.accuracy_score(y_test, y_pred))\n",
    " # report performance\n",
    "from numpy import mean\n",
    "from numpy import std\n",
    "print('Accuracy: %.3f (%.3f)' % (mean(n_scores), std(n_scores)))\n",
    "from sklearn.metrics import classification_report\n",
    "print(classification_report(y_test, y_pred))\n",
    "later_time = datetime.datetime.now()\n",
    "difference = later_time - first_time\n",
    "print(difference)"
   ]
  },
  {
   "cell_type": "code",
   "execution_count": null,
   "id": "6da49cb3",
   "metadata": {},
   "outputs": [],
   "source": [
    "x_train.info()"
   ]
  },
  {
   "cell_type": "code",
   "execution_count": 23,
   "id": "a85296a4",
   "metadata": {},
   "outputs": [
    {
     "name": "stderr",
     "output_type": "stream",
     "text": [
      "D:\\SOFTWARES\\Anaconda\\lib\\site-packages\\xgboost\\sklearn.py:888: UserWarning: The use of label encoder in XGBClassifier is deprecated and will be removed in a future release. To remove this warning, do the following: 1) Pass option use_label_encoder=False when constructing XGBClassifier object; and 2) Encode your labels (y) as integers starting with 0, i.e. 0, 1, 2, ..., [num_class - 1].\n",
      "  warnings.warn(label_encoder_deprecation_msg, UserWarning)\n"
     ]
    },
    {
     "name": "stdout",
     "output_type": "stream",
     "text": [
      "[00:01:47] WARNING: ..\\src\\learner.cc:1061: Starting in XGBoost 1.3.0, the default evaluation metric used with the objective 'binary:logistic' was changed from 'error' to 'logloss'. Explicitly set eval_metric if you'd like to restore the old behavior.\n",
      "Accuracy = 0.4250285062713797\n",
      "Accuracy: 1.000 (0.000)\n",
      "              precision    recall  f1-score   support\n",
      "\n",
      "           0       0.43      1.00      0.60     16402\n",
      "           1       0.00      0.00      0.00     22186\n",
      "\n",
      "    accuracy                           0.43     38588\n",
      "   macro avg       0.21      0.50      0.30     38588\n",
      "weighted avg       0.18      0.43      0.25     38588\n",
      "\n",
      "0:01:08.739268\n"
     ]
    }
   ],
   "source": [
    "from xgboost import XGBClassifier\n",
    "from sklearn.model_selection import train_test_split\n",
    "from sklearn.metrics import accuracy_score\n",
    "from sklearn.datasets import make_classification\n",
    "from sklearn.model_selection import cross_val_score\n",
    "from sklearn.model_selection import RepeatedStratifiedKFold\n",
    "import datetime\n",
    "import sklearn.metrics as metrics\n",
    "\n",
    "first_time = datetime.datetime.now()\n",
    "# fit model no training data\n",
    "model = XGBClassifier()\n",
    "model.fit(x_train,y_train)\n",
    "y_pred = model.predict(x_test)\n",
    "print(\"Accuracy =\", metrics.accuracy_score(y_test,y_pred))\n",
    "\n",
    "cv = RepeatedStratifiedKFold(n_splits=10, n_repeats=3, random_state=1)\n",
    "n_scores = cross_val_score(model, x_test, y_test, scoring='accuracy', cv=cv, n_jobs=-1)\n",
    "from numpy import mean\n",
    "from numpy import std\n",
    "print('Accuracy: %.3f (%.3f)' % (mean(n_scores), std(n_scores)))\n",
    "from sklearn.metrics import classification_report\n",
    "print(classification_report(y_test,y_pred))\n",
    "later_time = datetime.datetime.now()\n",
    "difference = later_time -  first_time\n",
    "print(difference)"
   ]
  },
  {
   "cell_type": "code",
   "execution_count": null,
   "id": "e42618bd",
   "metadata": {},
   "outputs": [],
   "source": [
    "# Deep Forest"
   ]
  },
  {
   "cell_type": "code",
   "execution_count": 24,
   "id": "4e3bade5",
   "metadata": {},
   "outputs": [],
   "source": [
    "import numpy\n",
    "x_train=x_train.values\n",
    "y_train=y_train.values\n",
    "x_test=x_test.values\n",
    "y_test=y_test.values"
   ]
  },
  {
   "cell_type": "code",
   "execution_count": 25,
   "id": "e09714f1",
   "metadata": {},
   "outputs": [],
   "source": [
    "from sklearn.model_selection import train_test_split\n",
    "from sklearn.metrics import accuracy_score\n",
    "from sklearn.datasets import make_classification\n",
    "from sklearn.model_selection import cross_val_score\n",
    "from sklearn.model_selection import RepeatedStratifiedKFold\n",
    "import datetime\n",
    "import sklearn.metrics as metrics\n",
    "\n",
    "\n",
    "from deepforest import CascadeForestClassifier\n",
    "from sklearn.metrics import classification_report, confusion_matrix"
   ]
  },
  {
   "cell_type": "code",
   "execution_count": 26,
   "id": "2e18e460",
   "metadata": {},
   "outputs": [
    {
     "name": "stdout",
     "output_type": "stream",
     "text": [
      "[2021-11-21 17:41:02.687] Start to fit the model:\n",
      "[2021-11-21 17:41:02.688] Fitting cascade layer = 0 \n",
      "[2021-11-21 17:41:53.508] layer = 0  | Val Acc = 99.988 % | Elapsed = 50.819 s\n",
      "[2021-11-21 17:41:53.664] Fitting cascade layer = 1 \n",
      "[2021-11-21 17:42:27.047] layer = 1  | Val Acc = 99.990 % | Elapsed = 33.383 s\n",
      "[2021-11-21 17:42:27.174] Fitting cascade layer = 2 \n",
      "[2021-11-21 17:42:59.940] layer = 2  | Val Acc = 99.989 % | Elapsed = 32.766 s\n",
      "[2021-11-21 17:42:59.940] Early stopping counter: 1 out of 2\n",
      "[2021-11-21 17:43:00.075] Fitting cascade layer = 3 \n",
      "[2021-11-21 17:43:34.706] layer = 3  | Val Acc = 99.989 % | Elapsed = 34.632 s\n",
      "[2021-11-21 17:43:34.706] Early stopping counter: 2 out of 2\n",
      "[2021-11-21 17:43:34.706] Handling early stopping\n",
      "[2021-11-21 17:43:34.710] The optimal number of layers: 2\n",
      "[2021-11-21 17:43:34.718] Start to evalute the model:\n",
      "[2021-11-21 17:43:34.845] Evaluating cascade layer = 0 \n",
      "[2021-11-21 17:43:35.957] Evaluating cascade layer = 1 \n",
      "\n",
      "Testing Accuracy: 42.560 %\n",
      "Accuracy: 1.000 (0.000)\n",
      "              precision    recall  f1-score   support\n",
      "\n",
      "           0       0.43      1.00      0.60     16402\n",
      "           1       1.00      0.00      0.00     22186\n",
      "\n",
      "    accuracy                           0.43     38588\n",
      "   macro avg       0.71      0.50      0.30     38588\n",
      "weighted avg       0.76      0.43      0.25     38588\n",
      "\n",
      "0:05:29.768446\n"
     ]
    }
   ],
   "source": [
    "first_time = datetime.datetime.now()\n",
    "model = CascadeForestClassifier( )\n",
    "model.fit(x_train, y_train)\n",
    "y_pred = model.predict(x_test)\n",
    "acc = accuracy_score(y_test,  y_pred) * 100\n",
    "print(\"\\nTesting Accuracy: {:.3f} %\".format(acc))\n",
    "\n",
    "cv = RepeatedStratifiedKFold(n_splits=10, n_repeats=3, random_state=1)\n",
    "n_scores = cross_val_score(model, x_test, y_test, scoring='accuracy', cv=cv, n_jobs=-1)\n",
    "from numpy import mean\n",
    "from numpy import std\n",
    "print('Accuracy: %.3f (%.3f)' % (mean(n_scores), std(n_scores)))\n",
    "\n",
    "c_r = classification_report(y_test, y_pred)\n",
    "print(c_r)\n",
    "\n",
    "later_time = datetime.datetime.now()\n",
    "difference = later_time - first_time\n",
    "print(difference)"
   ]
  },
  {
   "cell_type": "code",
   "execution_count": 27,
   "id": "b5872818",
   "metadata": {},
   "outputs": [
    {
     "name": "stdout",
     "output_type": "stream",
     "text": [
      "              precision    recall  f1-score   support\n",
      "\n",
      "           0       0.43      1.00      0.60     16402\n",
      "           1       1.00      0.00      0.00     22186\n",
      "\n",
      "    accuracy                           0.43     38588\n",
      "   macro avg       0.71      0.50      0.30     38588\n",
      "weighted avg       0.76      0.43      0.25     38588\n",
      "\n",
      "[[16402     0]\n",
      " [22165    21]]\n"
     ]
    }
   ],
   "source": [
    "c_r = classification_report(y_test, y_pred)\n",
    "c_m = confusion_matrix(y_test, y_pred)\n",
    "print(c_r)\n",
    "print(c_m)"
   ]
  },
  {
   "cell_type": "code",
   "execution_count": null,
   "id": "629a29b2",
   "metadata": {},
   "outputs": [],
   "source": [
    "# dependent and independent varriable for CNN"
   ]
  },
  {
   "cell_type": "code",
   "execution_count": null,
   "id": "0ae0bd17",
   "metadata": {},
   "outputs": [],
   "source": [
    "X_train = train_ddos1.iloc[:, (train_ddos1.columns!='Label')]\n",
    "y_train = train_ddos1.iloc[:,-1]"
   ]
  },
  {
   "cell_type": "code",
   "execution_count": null,
   "id": "e1da545c",
   "metadata": {},
   "outputs": [],
   "source": [
    "X_test= test_ddos.iloc[:, (test_ddos.columns!='Label')]\n",
    "y_test= test_ddos.iloc[:,-1]"
   ]
  },
  {
   "cell_type": "code",
   "execution_count": null,
   "id": "23a9f441",
   "metadata": {},
   "outputs": [],
   "source": [
    "X_train = (X_train-X_train.mean())/X_train.std()"
   ]
  },
  {
   "cell_type": "code",
   "execution_count": null,
   "id": "7470b7e6",
   "metadata": {},
   "outputs": [],
   "source": [
    "X_test = (X_test-X_test.mean())/X_test.std()"
   ]
  },
  {
   "cell_type": "code",
   "execution_count": null,
   "id": "f886a54b",
   "metadata": {},
   "outputs": [],
   "source": [
    "from sklearn.preprocessing import LabelEncoder\n",
    "from keras.models import Sequential\n",
    "from keras.layers import Dense, Dropout, Activation, Lambda, Flatten\n",
    "from keras.layers import Convolution1D, Dense, Dropout, MaxPooling1D, LSTM\n",
    "from sklearn.model_selection import train_test_split\n",
    "from sklearn.preprocessing import Normalizer\n",
    "from keras import callbacks\n",
    "from keras.callbacks import CSVLogger\n",
    "from tensorflow.keras.utils import to_categorical\n",
    "#from keras.utils import to_categorical\n",
    "from keras.callbacks import ModelCheckpoint \n",
    "import numpy as np\n",
    "#loading dataset\n",
    "#import pandas as pd"
   ]
  },
  {
   "cell_type": "code",
   "execution_count": null,
   "id": "c614ef0a",
   "metadata": {},
   "outputs": [],
   "source": [
    "normalized_df=(x-x.mean())/x.std()"
   ]
  },
  {
   "cell_type": "code",
   "execution_count": null,
   "id": "254d1b54",
   "metadata": {},
   "outputs": [],
   "source": [
    "y.nunique()"
   ]
  },
  {
   "cell_type": "code",
   "execution_count": null,
   "id": "d94c8ee0",
   "metadata": {},
   "outputs": [],
   "source": [
    "y_test.nunique()"
   ]
  },
  {
   "cell_type": "code",
   "execution_count": null,
   "id": "3c50d90a",
   "metadata": {},
   "outputs": [],
   "source": [
    "y_train.nunique()"
   ]
  },
  {
   "cell_type": "code",
   "execution_count": null,
   "id": "96c4d6f1",
   "metadata": {},
   "outputs": [],
   "source": [
    "y_test = pd.get_dummies(y_test)\n",
    "y_test.head()"
   ]
  },
  {
   "cell_type": "code",
   "execution_count": null,
   "id": "3e22d06c",
   "metadata": {},
   "outputs": [],
   "source": [
    "y_train = pd.get_dummies(y_train)\n",
    "y_train.head()"
   ]
  },
  {
   "cell_type": "code",
   "execution_count": null,
   "id": "e542ceee",
   "metadata": {},
   "outputs": [],
   "source": [
    "y_train = np.array(y_train)\n",
    "y_test = np.array(y_test)\n",
    "X_train = np.array(X_train)\n",
    "X_test = np.array(X_test)\n",
    "X_train = np.reshape(X_train, (X_train.shape[0],X_train.shape[1],1))\n",
    "X_test = np.reshape(X_test, (X_test.shape[0],X_test.shape[1],1))"
   ]
  },
  {
   "cell_type": "code",
   "execution_count": null,
   "id": "aed89488",
   "metadata": {},
   "outputs": [],
   "source": [
    "from sklearn.decomposition import PCA as sklearnPCA\n",
    "sklearn_pca = sklearnPCA(n_components=20)\n",
    "\n",
    "\n",
    "X_sklearn_train = sklearn_pca.fit_transform(X_train)\n",
    "X_sklearn_test = sklearn_pca.fit_transform(X_test)"
   ]
  },
  {
   "cell_type": "code",
   "execution_count": null,
   "id": "dfef1e9c",
   "metadata": {},
   "outputs": [],
   "source": [
    "print('xtrain={}, ytrain={}, xtest={}, ytest={}'.format(X_skleartrain.shape,y_train.shape,X_sklearn_test.shape,y_test.shape))"
   ]
  },
  {
   "cell_type": "code",
   "execution_count": null,
   "id": "b19fc464",
   "metadata": {},
   "outputs": [],
   "source": [
    "from keras import optimizers\n",
    "sgd = optimizers.SGD(lr=0.009, decay=1e-6, momentum=0.9, nesterov=True)"
   ]
  },
  {
   "cell_type": "code",
   "execution_count": null,
   "id": "c3b549b1",
   "metadata": {},
   "outputs": [],
   "source": [
    "model = Sequential()\n",
    "model.add(Convolution1D(57, 1, activation=\"relu\", input_shape=(57,1)))\n",
    "model.add(Convolution1D(28, 1, activation=\"relu\"))\n",
    "#model.add(MaxPooling1D(pool_size=2))\n",
    "#model.add(Convolution1D(128, 3, activation=\"relu\"))\n",
    "#model.add(Convolution1D(128, 3, activation=\"relu\"))\n",
    "model.add(MaxPooling1D(pool_size=2))\n",
    "#model.add(Dropout(rate=0.3))\n",
    "model.add(Flatten())\n",
    "#model.add(Dense(30, activation=\"softmax\"))\n",
    "#model.add(Dense(10, activation=\"softmax\"))\n",
    "model.add(Dense(1))"
   ]
  },
  {
   "cell_type": "code",
   "execution_count": null,
   "id": "318b9b43",
   "metadata": {},
   "outputs": [],
   "source": [
    "model.compile(loss=\"mean_absolute_error\", optimizer=\"SGD\", metrics=['accuracy'])"
   ]
  },
  {
   "cell_type": "code",
   "execution_count": null,
   "id": "2fd6696f",
   "metadata": {},
   "outputs": [],
   "source": [
    "model.fit(X_sklean_train, y_train, epochs=20, batch_size=10, validation_data=(X_sklearn_test, y_test))"
   ]
  },
  {
   "cell_type": "code",
   "execution_count": null,
   "id": "0f5c548e",
   "metadata": {},
   "outputs": [],
   "source": [
    "y_pred = model.predict(X_sklearn_test)\n",
    "a = (y_pred > 0.5)\n",
    "b = (y_test > 0.5) \n",
    "b=np.argmax(y_test, axis=1)\n",
    "a=np.argmax(y_pred, axis=1)"
   ]
  },
  {
   "cell_type": "code",
   "execution_count": null,
   "id": "581d9a65",
   "metadata": {},
   "outputs": [],
   "source": [
    "from sklearn import metrics\n",
    "from sklearn.metrics import accuracy_score\n",
    "from sklearn.metrics import f1_score\n",
    "\n",
    "print('Convolution Neural Network')\n",
    "\n",
    "print('Accuracy: %f' % (accuracy_score(a, b)*100))\n",
    "print(\"Confusion Matrix =\\n\", metrics.confusion_matrix(b, a, labels=None, \n",
    "                                              sample_weight=None))\n",
    "print(\"Recall =\", metrics.recall_score(b, a, labels=None, \n",
    "                                             pos_label=1, average='weighted', \n",
    "                                             sample_weight=None))\n",
    "print(\"Classification Report =\\n\", metrics.classification_report(b, a, \n",
    "                                                                 labels=None, \n",
    "                                                                 target_names=None, sample_weight=None, \n",
    "                                                                 digits=2, \n",
    "                                                                 output_dict=False))\n",
    "\n",
    "print(\"F1 Score = \",f1_score(a, b, average='macro'))"
   ]
  },
  {
   "cell_type": "code",
   "execution_count": null,
   "id": "e0f08050",
   "metadata": {},
   "outputs": [],
   "source": [
    "cnt_types =  train_ddos1['Label'].value_counts()\n",
    "print(cnt_types) "
   ]
  },
  {
   "cell_type": "code",
   "execution_count": null,
   "id": "277993d2",
   "metadata": {},
   "outputs": [],
   "source": [
    "# feature selection"
   ]
  },
  {
   "cell_type": "code",
   "execution_count": 4,
   "id": "96d3aa71",
   "metadata": {},
   "outputs": [],
   "source": [
    "import numpy as np"
   ]
  },
  {
   "cell_type": "code",
   "execution_count": 5,
   "id": "ccd8a4a0",
   "metadata": {},
   "outputs": [],
   "source": [
    "X_train = train_ddos1.iloc[:, (train_ddos1.columns!='Label')]\n",
    "y_train = train_ddos1.iloc[:,-1]"
   ]
  },
  {
   "cell_type": "code",
   "execution_count": 6,
   "id": "fb110fe6",
   "metadata": {},
   "outputs": [],
   "source": [
    "X_test = test_ddos.iloc[:, (test_ddos.columns!='Label')]\n",
    "y_test = test_ddos.iloc[:,-1]"
   ]
  },
  {
   "cell_type": "code",
   "execution_count": 7,
   "id": "c62c62cf",
   "metadata": {},
   "outputs": [],
   "source": [
    "X_train = (X_train-X_train.mean())/X_train.std()"
   ]
  },
  {
   "cell_type": "code",
   "execution_count": 8,
   "id": "1a3bbbbc",
   "metadata": {},
   "outputs": [],
   "source": [
    "X_test = (X_test-X_test.mean())/X_test.std()"
   ]
  },
  {
   "cell_type": "code",
   "execution_count": 9,
   "id": "b76eeed2",
   "metadata": {},
   "outputs": [
    {
     "data": {
      "text/plain": [
       "(141514, 59)"
      ]
     },
     "execution_count": 9,
     "metadata": {},
     "output_type": "execute_result"
    }
   ],
   "source": [
    "X_train.shape"
   ]
  },
  {
   "cell_type": "code",
   "execution_count": 10,
   "id": "438a1d6e",
   "metadata": {},
   "outputs": [
    {
     "data": {
      "text/plain": [
       "(38588, 59)"
      ]
     },
     "execution_count": 10,
     "metadata": {},
     "output_type": "execute_result"
    }
   ],
   "source": [
    "X_test.shape"
   ]
  },
  {
   "cell_type": "code",
   "execution_count": 11,
   "id": "64c1ee2c",
   "metadata": {},
   "outputs": [
    {
     "data": {
      "text/plain": [
       "Flow Duration                 0\n",
       "Total Fwd Packet              0\n",
       "Total Bwd packets             0\n",
       "Total Length of Fwd Packet    0\n",
       "Total Length of Bwd Packet    0\n",
       "Fwd Packet Length Max         0\n",
       "Fwd Packet Length Min         0\n",
       "Fwd Packet Length Mean        0\n",
       "Fwd Packet Length Std         0\n",
       "Bwd Packet Length Max         0\n",
       "Bwd Packet Length Min         0\n",
       "Bwd Packet Length Mean        0\n",
       "Bwd Packet Length Std         0\n",
       "Flow Bytes/s                  0\n",
       "Flow Packets/s                0\n",
       "Flow IAT Mean                 0\n",
       "Flow IAT Std                  0\n",
       "Flow IAT Max                  0\n",
       "Flow IAT Min                  0\n",
       "Fwd IAT Total                 0\n",
       "Fwd IAT Mean                  0\n",
       "Fwd IAT Std                   0\n",
       "Fwd IAT Max                   0\n",
       "Fwd IAT Min                   0\n",
       "Bwd IAT Total                 0\n",
       "Bwd IAT Mean                  0\n",
       "Bwd IAT Std                   0\n",
       "Bwd IAT Max                   0\n",
       "Bwd IAT Min                   0\n",
       "Fwd Header Length             0\n",
       "Bwd Header Length             0\n",
       "Fwd Packets/s                 0\n",
       "Bwd Packets/s                 0\n",
       "Packet Length Min             0\n",
       "Packet Length Max             0\n",
       "Packet Length Mean            0\n",
       "Packet Length Std             0\n",
       "Packet Length Variance        0\n",
       "RST Flag Count                0\n",
       "PSH Flag Count                0\n",
       "ACK Flag Count                0\n",
       "URG Flag Count                0\n",
       "Average Packet Size           0\n",
       "Fwd Segment Size Avg          0\n",
       "Bwd Segment Size Avg          0\n",
       "Subflow Fwd Packets           0\n",
       "Subflow Fwd Bytes             0\n",
       "FWD Init Win Bytes            0\n",
       "Bwd Init Win Bytes            0\n",
       "Fwd Act Data Pkts             0\n",
       "Fwd Seg Size Min              0\n",
       "Active Mean                   0\n",
       "Active Std                    0\n",
       "Active Max                    0\n",
       "Active Min                    0\n",
       "Idle Mean                     0\n",
       "Idle Std                      0\n",
       "Idle Max                      0\n",
       "Idle Min                      0\n",
       "dtype: int64"
      ]
     },
     "execution_count": 11,
     "metadata": {},
     "output_type": "execute_result"
    }
   ],
   "source": [
    "crr1=X_train.corr()\n",
    "crr1.isnull().sum()"
   ]
  },
  {
   "cell_type": "code",
   "execution_count": 12,
   "id": "8ebc7d4b",
   "metadata": {},
   "outputs": [
    {
     "data": {
      "text/plain": [
       "Flow Duration                 0\n",
       "Total Fwd Packet              0\n",
       "Total Bwd packets             0\n",
       "Total Length of Fwd Packet    0\n",
       "Total Length of Bwd Packet    0\n",
       "Fwd Packet Length Max         0\n",
       "Fwd Packet Length Min         0\n",
       "Fwd Packet Length Mean        0\n",
       "Fwd Packet Length Std         0\n",
       "Bwd Packet Length Max         0\n",
       "Bwd Packet Length Min         0\n",
       "Bwd Packet Length Mean        0\n",
       "Bwd Packet Length Std         0\n",
       "Flow Bytes/s                  0\n",
       "Flow Packets/s                0\n",
       "Flow IAT Mean                 0\n",
       "Flow IAT Std                  0\n",
       "Flow IAT Max                  0\n",
       "Flow IAT Min                  0\n",
       "Fwd IAT Total                 0\n",
       "Fwd IAT Mean                  0\n",
       "Fwd IAT Std                   0\n",
       "Fwd IAT Max                   0\n",
       "Fwd IAT Min                   0\n",
       "Bwd IAT Total                 0\n",
       "Bwd IAT Mean                  0\n",
       "Bwd IAT Std                   0\n",
       "Bwd IAT Max                   0\n",
       "Bwd IAT Min                   0\n",
       "Fwd Header Length             0\n",
       "Bwd Header Length             0\n",
       "Fwd Packets/s                 0\n",
       "Bwd Packets/s                 0\n",
       "Packet Length Min             0\n",
       "Packet Length Max             0\n",
       "Packet Length Mean            0\n",
       "Packet Length Std             0\n",
       "Packet Length Variance        0\n",
       "RST Flag Count                0\n",
       "PSH Flag Count                0\n",
       "ACK Flag Count                0\n",
       "URG Flag Count                0\n",
       "Average Packet Size           0\n",
       "Fwd Segment Size Avg          0\n",
       "Bwd Segment Size Avg          0\n",
       "Subflow Fwd Packets           0\n",
       "Subflow Fwd Bytes             0\n",
       "FWD Init Win Bytes            0\n",
       "Bwd Init Win Bytes            0\n",
       "Fwd Act Data Pkts             0\n",
       "Fwd Seg Size Min              0\n",
       "Active Mean                   0\n",
       "Active Std                    0\n",
       "Active Max                    0\n",
       "Active Min                    0\n",
       "Idle Mean                     0\n",
       "Idle Std                      0\n",
       "Idle Max                      0\n",
       "Idle Min                      0\n",
       "dtype: int64"
      ]
     },
     "execution_count": 12,
     "metadata": {},
     "output_type": "execute_result"
    }
   ],
   "source": [
    "crr1=X_test.corr()\n",
    "crr1.isnull().sum()"
   ]
  },
  {
   "cell_type": "code",
   "execution_count": 13,
   "id": "2e7308b0",
   "metadata": {},
   "outputs": [
    {
     "name": "stdout",
     "output_type": "stream",
     "text": [
      "Flow Duration                 1.0\n",
      "Total Fwd Packet              1.0\n",
      "Total Bwd packets             1.0\n",
      "Total Length of Fwd Packet    1.0\n",
      "Total Length of Bwd Packet    1.0\n",
      "Fwd Packet Length Max         1.0\n",
      "Fwd Packet Length Min         1.0\n",
      "Fwd Packet Length Mean        1.0\n",
      "Fwd Packet Length Std         1.0\n",
      "Bwd Packet Length Max         1.0\n",
      "Bwd Packet Length Min         1.0\n",
      "Bwd Packet Length Mean        1.0\n",
      "Bwd Packet Length Std         1.0\n",
      "Flow Bytes/s                  1.0\n",
      "Flow Packets/s                1.0\n",
      "Flow IAT Mean                 1.0\n",
      "Flow IAT Std                  1.0\n",
      "Flow IAT Max                  1.0\n",
      "Flow IAT Min                  1.0\n",
      "Fwd IAT Total                 1.0\n",
      "Fwd IAT Mean                  1.0\n",
      "Fwd IAT Std                   1.0\n",
      "Fwd IAT Max                   1.0\n",
      "Fwd IAT Min                   1.0\n",
      "Bwd IAT Total                 1.0\n",
      "Bwd IAT Mean                  1.0\n",
      "Bwd IAT Std                   1.0\n",
      "Bwd IAT Max                   1.0\n",
      "Bwd IAT Min                   1.0\n",
      "Fwd Header Length             1.0\n",
      "Bwd Header Length             1.0\n",
      "Fwd Packets/s                 1.0\n",
      "Bwd Packets/s                 1.0\n",
      "Packet Length Min             1.0\n",
      "Packet Length Max             1.0\n",
      "Packet Length Mean            1.0\n",
      "Packet Length Std             1.0\n",
      "Packet Length Variance        1.0\n",
      "RST Flag Count                1.0\n",
      "PSH Flag Count                1.0\n",
      "ACK Flag Count                1.0\n",
      "URG Flag Count                1.0\n",
      "Average Packet Size           1.0\n",
      "Fwd Segment Size Avg          1.0\n",
      "Bwd Segment Size Avg          1.0\n",
      "Subflow Fwd Packets           1.0\n",
      "Subflow Fwd Bytes             1.0\n",
      "FWD Init Win Bytes            1.0\n",
      "Bwd Init Win Bytes            1.0\n",
      "Fwd Act Data Pkts             1.0\n",
      "Fwd Seg Size Min              1.0\n",
      "Active Mean                   1.0\n",
      "Active Std                    1.0\n",
      "Active Max                    1.0\n",
      "Active Min                    1.0\n",
      "Idle Mean                     1.0\n",
      "Idle Std                      1.0\n",
      "Idle Max                      1.0\n",
      "Idle Min                      1.0\n",
      "dtype: float64\n"
     ]
    }
   ],
   "source": [
    "sd1 = X_train.std()\n",
    "print(sd1)"
   ]
  },
  {
   "cell_type": "code",
   "execution_count": 14,
   "id": "e7a16a94",
   "metadata": {},
   "outputs": [
    {
     "name": "stdout",
     "output_type": "stream",
     "text": [
      "Flow Duration                 1.0\n",
      "Total Fwd Packet              1.0\n",
      "Total Bwd packets             1.0\n",
      "Total Length of Fwd Packet    1.0\n",
      "Total Length of Bwd Packet    1.0\n",
      "Fwd Packet Length Max         1.0\n",
      "Fwd Packet Length Min         1.0\n",
      "Fwd Packet Length Mean        1.0\n",
      "Fwd Packet Length Std         1.0\n",
      "Bwd Packet Length Max         1.0\n",
      "Bwd Packet Length Min         1.0\n",
      "Bwd Packet Length Mean        1.0\n",
      "Bwd Packet Length Std         1.0\n",
      "Flow Bytes/s                  1.0\n",
      "Flow Packets/s                1.0\n",
      "Flow IAT Mean                 1.0\n",
      "Flow IAT Std                  1.0\n",
      "Flow IAT Max                  1.0\n",
      "Flow IAT Min                  1.0\n",
      "Fwd IAT Total                 1.0\n",
      "Fwd IAT Mean                  1.0\n",
      "Fwd IAT Std                   1.0\n",
      "Fwd IAT Max                   1.0\n",
      "Fwd IAT Min                   1.0\n",
      "Bwd IAT Total                 1.0\n",
      "Bwd IAT Mean                  1.0\n",
      "Bwd IAT Std                   1.0\n",
      "Bwd IAT Max                   1.0\n",
      "Bwd IAT Min                   1.0\n",
      "Fwd Header Length             1.0\n",
      "Bwd Header Length             1.0\n",
      "Fwd Packets/s                 1.0\n",
      "Bwd Packets/s                 1.0\n",
      "Packet Length Min             1.0\n",
      "Packet Length Max             1.0\n",
      "Packet Length Mean            1.0\n",
      "Packet Length Std             1.0\n",
      "Packet Length Variance        1.0\n",
      "RST Flag Count                1.0\n",
      "PSH Flag Count                1.0\n",
      "ACK Flag Count                1.0\n",
      "URG Flag Count                1.0\n",
      "Average Packet Size           1.0\n",
      "Fwd Segment Size Avg          1.0\n",
      "Bwd Segment Size Avg          1.0\n",
      "Subflow Fwd Packets           1.0\n",
      "Subflow Fwd Bytes             1.0\n",
      "FWD Init Win Bytes            1.0\n",
      "Bwd Init Win Bytes            1.0\n",
      "Fwd Act Data Pkts             1.0\n",
      "Fwd Seg Size Min              1.0\n",
      "Active Mean                   1.0\n",
      "Active Std                    1.0\n",
      "Active Max                    1.0\n",
      "Active Min                    1.0\n",
      "Idle Mean                     1.0\n",
      "Idle Std                      1.0\n",
      "Idle Max                      1.0\n",
      "Idle Min                      1.0\n",
      "dtype: float64\n"
     ]
    }
   ],
   "source": [
    "sd2 = X_test.std()\n",
    "print(sd2)"
   ]
  },
  {
   "cell_type": "code",
   "execution_count": null,
   "id": "3a1d34f8",
   "metadata": {},
   "outputs": [],
   "source": [
    "# Applying ANOVA feature selection for numeric input and categorical output"
   ]
  },
  {
   "cell_type": "code",
   "execution_count": 15,
   "id": "68a45992",
   "metadata": {},
   "outputs": [
    {
     "name": "stdout",
     "output_type": "stream",
     "text": [
      "X_selected_test.shape =  (38588, 20)\n",
      "X_selected_train.shape =  (141514, 20)\n"
     ]
    }
   ],
   "source": [
    "from sklearn.datasets import make_classification\n",
    "from sklearn.feature_selection import SelectKBest\n",
    "from sklearn.feature_selection import f_classif\n",
    "# define feature selection\n",
    "#fs = SelectKBest(score_func=f_classif)\n",
    "fs = SelectKBest(score_func=f_classif, k=20)\n",
    "# apply feature selection\n",
    "X_selected_test = fs.fit_transform(X_test, y_test)\n",
    "X_selected_train = fs.fit_transform(X_train, y_train)\n",
    "print(\"X_selected_test.shape = \",X_selected_test.shape)\n",
    "print(\"X_selected_train.shape = \",X_selected_train.shape)"
   ]
  },
  {
   "cell_type": "code",
   "execution_count": 16,
   "id": "64a22d60",
   "metadata": {},
   "outputs": [
    {
     "name": "stdout",
     "output_type": "stream",
     "text": [
      "Accuracy: 1.000 (0.000)\n",
      "Accuracy = 0.002721053177153519\n",
      "              precision    recall  f1-score   support\n",
      "\n",
      "           0       0.00      0.01      0.01     16402\n",
      "           1       0.00      0.00      0.00     22186\n",
      "\n",
      "    accuracy                           0.00     38588\n",
      "   macro avg       0.00      0.00      0.00     38588\n",
      "weighted avg       0.00      0.00      0.00     38588\n",
      "\n",
      "0:00:08\n"
     ]
    }
   ],
   "source": [
    "from lightgbm import LGBMClassifier\n",
    "from sklearn.datasets import make_classification\n",
    "from sklearn.model_selection import cross_val_score\n",
    "from sklearn.model_selection import RepeatedStratifiedKFold\n",
    "import datetime\n",
    "a = datetime.datetime.now().replace(microsecond=0)\n",
    "model = LGBMClassifier()\n",
    "model.fit(X_selected_train, y_train)\n",
    "cv = RepeatedStratifiedKFold(n_splits=10, n_repeats=3, random_state=1)\n",
    "n_scores = cross_val_score(model, X_selected_test, y_test, scoring='accuracy', cv=cv, n_jobs=-1)\n",
    "# report performance\n",
    "from numpy import mean\n",
    "from numpy import std\n",
    "print('Accuracy: %.3f (%.3f)' % (mean(n_scores), std(n_scores)))\n",
    "import sklearn.metrics as metrics\n",
    "y_pred = model.predict(X_selected_test)\n",
    "print(\"Accuracy =\", metrics.accuracy_score(y_test, y_pred))\n",
    "from sklearn.metrics import classification_report\n",
    "print(classification_report(y_test, y_pred))\n",
    "b = datetime.datetime.now().replace(microsecond=0)\n",
    "print(b-a)"
   ]
  },
  {
   "cell_type": "code",
   "execution_count": 17,
   "id": "1073df92",
   "metadata": {},
   "outputs": [
    {
     "name": "stderr",
     "output_type": "stream",
     "text": [
      "D:\\SOFTWARES\\Anaconda\\lib\\site-packages\\xgboost\\sklearn.py:888: UserWarning: The use of label encoder in XGBClassifier is deprecated and will be removed in a future release. To remove this warning, do the following: 1) Pass option use_label_encoder=False when constructing XGBClassifier object; and 2) Encode your labels (y) as integers starting with 0, i.e. 0, 1, 2, ..., [num_class - 1].\n",
      "  warnings.warn(label_encoder_deprecation_msg, UserWarning)\n"
     ]
    },
    {
     "name": "stdout",
     "output_type": "stream",
     "text": [
      "[00:12:49] WARNING: ..\\src\\learner.cc:1061: Starting in XGBoost 1.3.0, the default evaluation metric used with the objective 'binary:logistic' was changed from 'error' to 'logloss'. Explicitly set eval_metric if you'd like to restore the old behavior.\n",
      "Accuracy = 0.002746967969316886\n",
      "Accuracy: 1.000 (0.000)\n",
      "              precision    recall  f1-score   support\n",
      "\n",
      "           0       0.00      0.01      0.01     16402\n",
      "           1       0.00      0.00      0.00     22186\n",
      "\n",
      "    accuracy                           0.00     38588\n",
      "   macro avg       0.00      0.00      0.00     38588\n",
      "weighted avg       0.00      0.00      0.00     38588\n",
      "\n",
      "0:00:27.996996\n"
     ]
    }
   ],
   "source": [
    "from xgboost import XGBClassifier\n",
    "from sklearn.model_selection import train_test_split\n",
    "from sklearn.metrics import accuracy_score\n",
    "from sklearn.datasets import make_classification\n",
    "from sklearn.model_selection import cross_val_score\n",
    "from sklearn.model_selection import RepeatedStratifiedKFold\n",
    "import datetime\n",
    "import sklearn.metrics as metrics\n",
    "\n",
    "first_time = datetime.datetime.now()\n",
    "# fit model no training data\n",
    "model = XGBClassifier()\n",
    "model.fit(X_selected_train, y_train)\n",
    "y_pred = model.predict(X_selected_test)\n",
    "print(\"Accuracy =\", metrics.accuracy_score(y_test, y_pred))\n",
    "\n",
    "cv = RepeatedStratifiedKFold(n_splits=10, n_repeats=3, random_state=1)\n",
    "n_scores = cross_val_score(model, X_selected_test, y_test, scoring='accuracy', cv=cv, n_jobs=-1)\n",
    "from numpy import mean\n",
    "from numpy import std\n",
    "print('Accuracy: %.3f (%.3f)' % (mean(n_scores), std(n_scores)))\n",
    "from sklearn.metrics import classification_report\n",
    "print(classification_report(y_test, y_pred))\n",
    "later_time = datetime.datetime.now()\n",
    "difference = later_time -  first_time\n",
    "print(difference)"
   ]
  },
  {
   "cell_type": "code",
   "execution_count": null,
   "id": "92dc3829",
   "metadata": {},
   "outputs": [],
   "source": [
    "# Using Anova Feature Selection with Deep Forest"
   ]
  },
  {
   "cell_type": "code",
   "execution_count": 16,
   "id": "01bac5c8",
   "metadata": {},
   "outputs": [],
   "source": [
    "import numpy as np"
   ]
  },
  {
   "cell_type": "code",
   "execution_count": 17,
   "id": "c2583a22",
   "metadata": {},
   "outputs": [],
   "source": [
    "x_train= train_ddos1.iloc[:, (train_ddos1.columns!='Label')]\n",
    "y_train= train_ddos1.iloc[:,(train_ddos1.columns=='Label')]"
   ]
  },
  {
   "cell_type": "code",
   "execution_count": 18,
   "id": "e62d8198",
   "metadata": {},
   "outputs": [],
   "source": [
    "x_test= test_ddos.iloc[:, (test_ddos.columns!='Label')]\n",
    "y_test= test_ddos.iloc[:,(test_ddos.columns=='Label')]"
   ]
  },
  {
   "cell_type": "code",
   "execution_count": 9,
   "id": "a5956b15",
   "metadata": {},
   "outputs": [],
   "source": [
    "x_train = (x_train-x_train.mean())/x_train.std()"
   ]
  },
  {
   "cell_type": "code",
   "execution_count": 10,
   "id": "3f75f221",
   "metadata": {},
   "outputs": [],
   "source": [
    "x_test = (x_test-x_test.mean())/x_test.std()"
   ]
  },
  {
   "cell_type": "code",
   "execution_count": 11,
   "id": "17852e6a",
   "metadata": {},
   "outputs": [],
   "source": [
    "x_train=x_train.values\n",
    "x_test=x_test.values\n",
    "y_train=y_train.values\n",
    "y_test=y_test.values"
   ]
  },
  {
   "cell_type": "code",
   "execution_count": null,
   "id": "3063fc1a",
   "metadata": {},
   "outputs": [],
   "source": [
    "# Applying Anova for Deep Forest"
   ]
  },
  {
   "cell_type": "code",
   "execution_count": 12,
   "id": "48f9db94",
   "metadata": {},
   "outputs": [
    {
     "name": "stderr",
     "output_type": "stream",
     "text": [
      "D:\\SOFTWARES\\Anaconda\\lib\\site-packages\\sklearn\\utils\\validation.py:63: DataConversionWarning: A column-vector y was passed when a 1d array was expected. Please change the shape of y to (n_samples, ), for example using ravel().\n",
      "  return f(*args, **kwargs)\n"
     ]
    },
    {
     "name": "stdout",
     "output_type": "stream",
     "text": [
      "X_selected_test.shape =  (38588, 20)\n",
      "X_selected_train.shape =  (141514, 20)\n"
     ]
    },
    {
     "name": "stderr",
     "output_type": "stream",
     "text": [
      "D:\\SOFTWARES\\Anaconda\\lib\\site-packages\\sklearn\\utils\\validation.py:63: DataConversionWarning: A column-vector y was passed when a 1d array was expected. Please change the shape of y to (n_samples, ), for example using ravel().\n",
      "  return f(*args, **kwargs)\n"
     ]
    }
   ],
   "source": [
    "from sklearn.datasets import make_classification\n",
    "from sklearn.feature_selection import SelectKBest\n",
    "from sklearn.feature_selection import f_classif\n",
    "# define feature selection\n",
    "fs = SelectKBest(score_func=f_classif, k=20)\n",
    "# apply feature selection\n",
    "X_selected_train = fs.fit_transform(x_train, y_train)\n",
    "X_selected_test = fs.fit_transform(x_test, y_test)\n",
    "print(\"X_selected_test.shape = \",X_selected_test.shape)\n",
    "print(\"X_selected_train.shape = \",X_selected_train.shape)"
   ]
  },
  {
   "cell_type": "code",
   "execution_count": null,
   "id": "9fd78b52",
   "metadata": {},
   "outputs": [],
   "source": [
    "# Deep Forest"
   ]
  },
  {
   "cell_type": "code",
   "execution_count": 13,
   "id": "5f04ece8",
   "metadata": {},
   "outputs": [],
   "source": [
    "from sklearn.model_selection import train_test_split\n",
    "from sklearn.metrics import accuracy_score\n",
    "from sklearn.datasets import make_classification\n",
    "from sklearn.model_selection import cross_val_score\n",
    "from sklearn.model_selection import RepeatedStratifiedKFold\n",
    "import datetime\n",
    "import sklearn.metrics as metrics\n",
    "\n",
    "\n",
    "from deepforest import CascadeForestClassifier\n",
    "from sklearn.metrics import classification_report, confusion_matrix"
   ]
  },
  {
   "cell_type": "code",
   "execution_count": 14,
   "id": "d9987bc4",
   "metadata": {},
   "outputs": [
    {
     "name": "stderr",
     "output_type": "stream",
     "text": [
      "D:\\SOFTWARES\\Anaconda\\lib\\site-packages\\sklearn\\utils\\validation.py:63: DataConversionWarning: A column-vector y was passed when a 1d array was expected. Please change the shape of y to (n_samples, ), for example using ravel().\n",
      "  return f(*args, **kwargs)\n"
     ]
    },
    {
     "name": "stdout",
     "output_type": "stream",
     "text": [
      "[2021-11-21 18:47:19.006] Start to fit the model:\n",
      "[2021-11-21 18:47:19.007] Fitting cascade layer = 0 \n",
      "[2021-11-21 18:47:56.796] layer = 0  | Val Acc = 99.980 % | Elapsed = 37.789 s\n",
      "[2021-11-21 18:47:56.949] Fitting cascade layer = 1 \n",
      "[2021-11-21 18:48:23.320] layer = 1  | Val Acc = 99.991 % | Elapsed = 26.369 s\n",
      "[2021-11-21 18:48:23.451] Fitting cascade layer = 2 \n",
      "[2021-11-21 18:48:48.706] layer = 2  | Val Acc = 99.992 % | Elapsed = 25.254 s\n",
      "[2021-11-21 18:48:48.834] Fitting cascade layer = 3 \n",
      "[2021-11-21 18:49:14.103] layer = 3  | Val Acc = 99.992 % | Elapsed = 25.269 s\n",
      "[2021-11-21 18:49:14.103] Early stopping counter: 1 out of 2\n",
      "[2021-11-21 18:49:14.225] Fitting cascade layer = 4 \n",
      "[2021-11-21 18:49:40.673] layer = 4  | Val Acc = 99.991 % | Elapsed = 26.448 s\n",
      "[2021-11-21 18:49:40.674] Early stopping counter: 2 out of 2\n",
      "[2021-11-21 18:49:40.674] Handling early stopping\n",
      "[2021-11-21 18:49:40.677] The optimal number of layers: 3\n",
      "[2021-11-21 18:49:40.684] Start to evalute the model:\n",
      "[2021-11-21 18:49:40.730] Evaluating cascade layer = 0 \n",
      "[2021-11-21 18:49:41.760] Evaluating cascade layer = 1 \n",
      "[2021-11-21 18:49:42.690] Evaluating cascade layer = 2 \n",
      "\n",
      "Testing Accuracy: 13.880 %\n",
      "Accuracy: 1.000 (0.000)\n",
      "              precision    recall  f1-score   support\n",
      "\n",
      "           0       0.01      0.01      0.01     16402\n",
      "           1       0.24      0.24      0.24     22186\n",
      "\n",
      "    accuracy                           0.14     38588\n",
      "   macro avg       0.12      0.12      0.12     38588\n",
      "weighted avg       0.14      0.14      0.14     38588\n",
      "\n",
      "0:04:24.306944\n"
     ]
    }
   ],
   "source": [
    "first_time = datetime.datetime.now()\n",
    "model = CascadeForestClassifier( )\n",
    "model.fit(X_selected_train, y_train)\n",
    "y_pred = model.predict(X_selected_test)\n",
    "acc = accuracy_score(y_test,  y_pred) * 100\n",
    "print(\"\\nTesting Accuracy: {:.3f} %\".format(acc))\n",
    "\n",
    "cv = RepeatedStratifiedKFold(n_splits=10, n_repeats=3, random_state=1)\n",
    "n_scores = cross_val_score(model, X_selected_test, y_test, scoring='accuracy', cv=cv, n_jobs=-1)\n",
    "from numpy import mean\n",
    "from numpy import std\n",
    "print('Accuracy: %.3f (%.3f)' % (mean(n_scores), std(n_scores)))\n",
    "from sklearn.metrics import classification_report\n",
    "print(classification_report(y_test, y_pred))\n",
    "later_time = datetime.datetime.now()\n",
    "difference = later_time -  first_time\n",
    "print(difference)"
   ]
  },
  {
   "cell_type": "code",
   "execution_count": null,
   "id": "b252fe02",
   "metadata": {},
   "outputs": [],
   "source": [
    "# Confussion Matrix Report"
   ]
  },
  {
   "cell_type": "code",
   "execution_count": null,
   "id": "dad02dcd",
   "metadata": {},
   "outputs": [],
   "source": [
    "c_r = classification_report(y_test, y_pred)\n",
    "c_m = confusion_matrix(y_test, y_pred)\n",
    "print(c_r)\n",
    "print(c_m)"
   ]
  },
  {
   "cell_type": "code",
   "execution_count": null,
   "id": "08260942",
   "metadata": {},
   "outputs": [],
   "source": [
    "# Applying ANOVA feature selection with CNN"
   ]
  },
  {
   "cell_type": "code",
   "execution_count": null,
   "id": "7d9d5e5d",
   "metadata": {},
   "outputs": [],
   "source": [
    "# dependent and independent varriable for CNN"
   ]
  },
  {
   "cell_type": "code",
   "execution_count": null,
   "id": "b6caae4b",
   "metadata": {},
   "outputs": [],
   "source": [
    "X_train = train_ddos1.iloc[:, (train_ddos1.columns!='Label')]\n",
    "y_train = train_ddos1.iloc[:,-1]"
   ]
  },
  {
   "cell_type": "code",
   "execution_count": null,
   "id": "591e0d79",
   "metadata": {},
   "outputs": [],
   "source": [
    "X_test= test_ddos.iloc[:, (test_ddos.columns!='Label')]\n",
    "y_test= test_ddos.iloc[:,-1]"
   ]
  },
  {
   "cell_type": "code",
   "execution_count": null,
   "id": "79a0f108",
   "metadata": {},
   "outputs": [],
   "source": [
    "X_train = (X_train-X_train.mean())/X_train.std()"
   ]
  },
  {
   "cell_type": "code",
   "execution_count": null,
   "id": "53dd1331",
   "metadata": {},
   "outputs": [],
   "source": [
    "X_test = (X_test-X_test.mean())/X_test.std()"
   ]
  },
  {
   "cell_type": "code",
   "execution_count": null,
   "id": "b96b8b5a",
   "metadata": {},
   "outputs": [],
   "source": [
    "# ANOVA Feature Selection"
   ]
  },
  {
   "cell_type": "code",
   "execution_count": null,
   "id": "de618187",
   "metadata": {},
   "outputs": [],
   "source": [
    "from sklearn.datasets import make_classification\n",
    "from sklearn.feature_selection import SelectKBest\n",
    "from sklearn.feature_selection import f_classif\n",
    "# define feature selection\n",
    "fs = SelectKBest(score_func=f_classif, k=20)\n",
    "# apply feature selection\n",
    "X_selected_train = fs.fit_transform(X_train, y_train)\n",
    "X_selected_test = fs.fit_transform(X_test, y_test)\n",
    "print(\"X_selected_test.shape = \",X_selected_test.shape)\n",
    "print(\"X_selected_train.shape = \",X_selected_train.shape)"
   ]
  },
  {
   "cell_type": "code",
   "execution_count": null,
   "id": "c6cf2ed0",
   "metadata": {},
   "outputs": [],
   "source": [
    "# using PCA for feature selection"
   ]
  },
  {
   "cell_type": "code",
   "execution_count": 4,
   "id": "afd3831c",
   "metadata": {},
   "outputs": [],
   "source": [
    "import numpy as np"
   ]
  },
  {
   "cell_type": "code",
   "execution_count": 5,
   "id": "9f7418e8",
   "metadata": {},
   "outputs": [],
   "source": [
    "x_train= train_ddos1.iloc[:, (train_ddos1.columns!='Label')]\n",
    "y_train= train_ddos1.iloc[:,-1]"
   ]
  },
  {
   "cell_type": "code",
   "execution_count": 6,
   "id": "c6d36072",
   "metadata": {},
   "outputs": [],
   "source": [
    "x_test= test_ddos.iloc[:, (test_ddos.columns!='Label')]\n",
    "y_test= test_ddos.iloc[:,-1]"
   ]
  },
  {
   "cell_type": "code",
   "execution_count": 7,
   "id": "9389337f",
   "metadata": {},
   "outputs": [],
   "source": [
    "x_train = (x_train-x_train.mean())/x_train.std()"
   ]
  },
  {
   "cell_type": "code",
   "execution_count": 8,
   "id": "19e14723",
   "metadata": {},
   "outputs": [],
   "source": [
    "x_test = (x_test-x_test.mean())/x_test.std()"
   ]
  },
  {
   "cell_type": "code",
   "execution_count": 9,
   "id": "ca2ca9db",
   "metadata": {},
   "outputs": [],
   "source": [
    "from sklearn.decomposition import PCA as sklearnPCA\n",
    "sklearn_pca = sklearnPCA(n_components=20)\n",
    "\n",
    "\n",
    "X_sklearn_train = sklearn_pca.fit_transform(x_train)\n",
    "X_sklearn_test = sklearn_pca.fit_transform(x_test)"
   ]
  },
  {
   "cell_type": "code",
   "execution_count": 10,
   "id": "98ed9dca",
   "metadata": {},
   "outputs": [
    {
     "name": "stdout",
     "output_type": "stream",
     "text": [
      "X_sklearn_train =  (141514, 20)\n",
      "X_sklearn_test =  (38588, 20)\n"
     ]
    }
   ],
   "source": [
    "print(\"X_sklearn_train = \",X_sklearn_train.shape)\n",
    "print(\"X_sklearn_test = \",X_sklearn_test.shape)"
   ]
  },
  {
   "cell_type": "code",
   "execution_count": null,
   "id": "a999d07f",
   "metadata": {},
   "outputs": [],
   "source": [
    "# applying lwgb for selected feature"
   ]
  },
  {
   "cell_type": "code",
   "execution_count": 11,
   "id": "291462d5",
   "metadata": {},
   "outputs": [
    {
     "name": "stdout",
     "output_type": "stream",
     "text": [
      "Accuracy: 1.000 (0.000)\n",
      "Accuracy = 0.13291696900590858\n",
      "              precision    recall  f1-score   support\n",
      "\n",
      "           0       0.17      0.27      0.21     16402\n",
      "           1       0.05      0.03      0.04     22186\n",
      "\n",
      "    accuracy                           0.13     38588\n",
      "   macro avg       0.11      0.15      0.12     38588\n",
      "weighted avg       0.10      0.13      0.11     38588\n",
      "\n",
      "0:00:10\n"
     ]
    }
   ],
   "source": [
    "from lightgbm import LGBMClassifier\n",
    "from sklearn.datasets import make_classification\n",
    "from sklearn.model_selection import cross_val_score\n",
    "from sklearn.model_selection import RepeatedStratifiedKFold\n",
    "import datetime\n",
    "a = datetime.datetime.now().replace(microsecond=0)\n",
    "model = LGBMClassifier()\n",
    "model.fit(X_sklearn_train, y_train)\n",
    "cv = RepeatedStratifiedKFold(n_splits=10, n_repeats=3, random_state=1)\n",
    "n_scores = cross_val_score(model, X_sklearn_test, y_test, scoring='accuracy', cv=cv, n_jobs=-1)\n",
    "# report performance\n",
    "from numpy import mean\n",
    "from numpy import std\n",
    "print('Accuracy: %.3f (%.3f)' % (mean(n_scores), std(n_scores)))\n",
    "import sklearn.metrics as metrics\n",
    "y_pred = model.predict(X_sklearn_test)\n",
    "print(\"Accuracy =\", metrics.accuracy_score(y_test, y_pred))\n",
    "from sklearn.metrics import classification_report\n",
    "print(classification_report(y_test, y_pred))\n",
    "b = datetime.datetime.now().replace(microsecond=0)\n",
    "print(b-a)"
   ]
  },
  {
   "cell_type": "code",
   "execution_count": null,
   "id": "97b1ba9c",
   "metadata": {},
   "outputs": [],
   "source": [
    "# applying xgboost for selected feature"
   ]
  },
  {
   "cell_type": "code",
   "execution_count": 12,
   "id": "d6a15ba2",
   "metadata": {},
   "outputs": [
    {
     "name": "stderr",
     "output_type": "stream",
     "text": [
      "D:\\SOFTWARES\\Anaconda\\lib\\site-packages\\xgboost\\sklearn.py:888: UserWarning: The use of label encoder in XGBClassifier is deprecated and will be removed in a future release. To remove this warning, do the following: 1) Pass option use_label_encoder=False when constructing XGBClassifier object; and 2) Encode your labels (y) as integers starting with 0, i.e. 0, 1, 2, ..., [num_class - 1].\n",
      "  warnings.warn(label_encoder_deprecation_msg, UserWarning)\n"
     ]
    },
    {
     "name": "stdout",
     "output_type": "stream",
     "text": [
      "[00:26:15] WARNING: ..\\src\\learner.cc:1061: Starting in XGBoost 1.3.0, the default evaluation metric used with the objective 'binary:logistic' was changed from 'error' to 'logloss'. Explicitly set eval_metric if you'd like to restore the old behavior.\n",
      "Accuracy = 0.07945475277288276\n",
      "Accuracy: 1.000 (0.000)\n",
      "              precision    recall  f1-score   support\n",
      "\n",
      "           0       0.12      0.18      0.14     16402\n",
      "           1       0.00      0.00      0.00     22186\n",
      "\n",
      "    accuracy                           0.08     38588\n",
      "   macro avg       0.06      0.09      0.07     38588\n",
      "weighted avg       0.05      0.08      0.06     38588\n",
      "\n",
      "0:01:03.138161\n"
     ]
    }
   ],
   "source": [
    "from xgboost import XGBClassifier\n",
    "from sklearn.model_selection import train_test_split\n",
    "from sklearn.metrics import accuracy_score\n",
    "from sklearn.datasets import make_classification\n",
    "from sklearn.model_selection import cross_val_score\n",
    "from sklearn.model_selection import RepeatedStratifiedKFold\n",
    "import datetime\n",
    "import sklearn.metrics as metrics\n",
    "\n",
    "first_time = datetime.datetime.now()\n",
    "# fit model no training data\n",
    "model = XGBClassifier()\n",
    "model.fit(X_sklearn_train, y_train)\n",
    "y_pred = model.predict(X_sklearn_test)\n",
    "print(\"Accuracy =\", metrics.accuracy_score(y_test, y_pred))\n",
    "\n",
    "cv = RepeatedStratifiedKFold(n_splits=10, n_repeats=3, random_state=1)\n",
    "n_scores = cross_val_score(model, X_sklearn_test, y_test, scoring='accuracy', cv=cv, n_jobs=-1)\n",
    "from numpy import mean\n",
    "from numpy import std\n",
    "print('Accuracy: %.3f (%.3f)' % (mean(n_scores), std(n_scores)))\n",
    "from sklearn.metrics import classification_report\n",
    "print(classification_report(y_test, y_pred))\n",
    "later_time = datetime.datetime.now()\n",
    "difference = later_time -  first_time\n",
    "print(difference)"
   ]
  },
  {
   "cell_type": "code",
   "execution_count": null,
   "id": "5a0cf81d",
   "metadata": {},
   "outputs": [],
   "source": [
    "# applying pca for Deep Forest"
   ]
  },
  {
   "cell_type": "code",
   "execution_count": 4,
   "id": "427cdb32",
   "metadata": {},
   "outputs": [],
   "source": [
    "x_train= train_ddos1.iloc[:, (train_ddos1.columns!='Label')]\n",
    "y_train= train_ddos1.iloc[:,(train_ddos1.columns=='Label')]"
   ]
  },
  {
   "cell_type": "code",
   "execution_count": 5,
   "id": "d606049a",
   "metadata": {},
   "outputs": [],
   "source": [
    "x_test= test_ddos.iloc[:, (test_ddos.columns!='Label')]\n",
    "y_test= test_ddos.iloc[:,(test_ddos.columns=='Label')]"
   ]
  },
  {
   "cell_type": "code",
   "execution_count": 6,
   "id": "2aaeda12",
   "metadata": {},
   "outputs": [],
   "source": [
    "x_train = (x_train-x_train.mean())/x_train.std()"
   ]
  },
  {
   "cell_type": "code",
   "execution_count": 7,
   "id": "0569d927",
   "metadata": {},
   "outputs": [],
   "source": [
    "x_test = (x_test-x_test.mean())/x_test.std()"
   ]
  },
  {
   "cell_type": "code",
   "execution_count": 8,
   "id": "f8c6a56d",
   "metadata": {},
   "outputs": [],
   "source": [
    "x_test=x_test.values\n",
    "y_test=y_test.values\n",
    "x_train=x_train.values\n",
    "y_train=y_train.values"
   ]
  },
  {
   "cell_type": "code",
   "execution_count": 9,
   "id": "8f9d3e7b",
   "metadata": {},
   "outputs": [],
   "source": [
    "import numpy as np"
   ]
  },
  {
   "cell_type": "code",
   "execution_count": null,
   "id": "324e43f5",
   "metadata": {},
   "outputs": [],
   "source": [
    "# applying PCA feature selection"
   ]
  },
  {
   "cell_type": "code",
   "execution_count": 10,
   "id": "a6b0c2ba",
   "metadata": {},
   "outputs": [],
   "source": [
    "from sklearn.decomposition import PCA as sklearnPCA\n",
    "sklearn_pca = sklearnPCA(n_components=20)\n",
    "\n",
    "\n",
    "X_sklearn_train = sklearn_pca.fit_transform(x_train)\n",
    "X_sklearn_test = sklearn_pca.fit_transform(x_test)"
   ]
  },
  {
   "cell_type": "code",
   "execution_count": 11,
   "id": "a3ccde68",
   "metadata": {},
   "outputs": [
    {
     "name": "stdout",
     "output_type": "stream",
     "text": [
      "X_sklearn_train  (141514, 20)\n",
      "X_sklearn_test   (38588, 20)\n"
     ]
    }
   ],
   "source": [
    "print(\"X_sklearn_train \",X_sklearn_train.shape)\n",
    "print(\"X_sklearn_test  \",X_sklearn_test.shape)"
   ]
  },
  {
   "cell_type": "code",
   "execution_count": null,
   "id": "42b084a2",
   "metadata": {},
   "outputs": [],
   "source": [
    "# applying Deep Forest"
   ]
  },
  {
   "cell_type": "code",
   "execution_count": 12,
   "id": "6b98e1b7",
   "metadata": {},
   "outputs": [],
   "source": [
    "from sklearn.model_selection import train_test_split\n",
    "from sklearn.metrics import accuracy_score\n",
    "from sklearn.datasets import make_classification\n",
    "from sklearn.model_selection import cross_val_score\n",
    "from sklearn.model_selection import RepeatedStratifiedKFold\n",
    "import datetime\n",
    "import sklearn.metrics as metrics\n",
    "\n",
    "\n",
    "from deepforest import CascadeForestClassifier\n",
    "from sklearn.metrics import classification_report, confusion_matrix"
   ]
  },
  {
   "cell_type": "code",
   "execution_count": 13,
   "id": "2f418cb5",
   "metadata": {},
   "outputs": [
    {
     "name": "stderr",
     "output_type": "stream",
     "text": [
      "D:\\SOFTWARES\\Anaconda\\lib\\site-packages\\sklearn\\utils\\validation.py:63: DataConversionWarning: A column-vector y was passed when a 1d array was expected. Please change the shape of y to (n_samples, ), for example using ravel().\n",
      "  return f(*args, **kwargs)\n"
     ]
    },
    {
     "name": "stdout",
     "output_type": "stream",
     "text": [
      "[2021-11-29 04:25:11.308] Start to fit the model:\n",
      "[2021-11-29 04:25:11.309] Fitting cascade layer = 0 \n",
      "[2021-11-29 04:26:00.239] layer = 0  | Val Acc = 99.982 % | Elapsed = 48.931 s\n",
      "[2021-11-29 04:26:00.401] Fitting cascade layer = 1 \n",
      "[2021-11-29 04:26:30.894] layer = 1  | Val Acc = 99.987 % | Elapsed = 30.493 s\n",
      "[2021-11-29 04:26:31.021] Fitting cascade layer = 2 \n",
      "[2021-11-29 04:27:00.606] layer = 2  | Val Acc = 99.987 % | Elapsed = 29.585 s\n",
      "[2021-11-29 04:27:00.607] Early stopping counter: 1 out of 2\n",
      "[2021-11-29 04:27:00.734] Fitting cascade layer = 3 \n",
      "[2021-11-29 04:27:30.803] layer = 3  | Val Acc = 99.987 % | Elapsed = 30.069 s\n",
      "[2021-11-29 04:27:30.803] Early stopping counter: 2 out of 2\n",
      "[2021-11-29 04:27:30.803] Handling early stopping\n",
      "[2021-11-29 04:27:30.807] The optimal number of layers: 2\n",
      "[2021-11-29 04:27:30.813] Start to evalute the model:\n",
      "[2021-11-29 04:27:30.878] Evaluating cascade layer = 0 \n",
      "[2021-11-29 04:27:32.355] Evaluating cascade layer = 1 \n",
      "\n",
      "Testing Accuracy: 11.571 %\n",
      "              precision    recall  f1-score   support\n",
      "\n",
      "           0       0.15      0.24      0.19     16402\n",
      "           1       0.04      0.02      0.03     22186\n",
      "\n",
      "    accuracy                           0.12     38588\n",
      "   macro avg       0.10      0.13      0.11     38588\n",
      "weighted avg       0.09      0.12      0.10     38588\n",
      "\n",
      "0:02:23.262044\n"
     ]
    }
   ],
   "source": [
    "first_time = datetime.datetime.now()\n",
    "model = CascadeForestClassifier( )\n",
    "model.fit(X_sklearn_train, y_train)\n",
    "y_pred = model.predict(X_sklearn_test)\n",
    "acc = accuracy_score(y_test,  y_pred) * 100\n",
    "print(\"\\nTesting Accuracy: {:.3f} %\".format(acc))\n",
    "\n",
    "#cv = RepeatedStratifiedKFold(n_splits=10, n_repeats=3, random_state=1)\n",
    "#n_scores = cross_val_score(model, X_sklearn_test, y_test, scoring='accuracy', cv=cv, n_jobs=-1)\n",
    "\n",
    "#from numpy import mean\n",
    "#from numpy import std\n",
    "#print('Accuracy: %.3f (%.3f)' % (mean(n_scores), std(n_scores)))\n",
    "from sklearn.metrics import classification_report\n",
    "print(classification_report(y_test, y_pred))\n",
    "later_time = datetime.datetime.now()\n",
    "difference = later_time -  first_time\n",
    "print(difference)"
   ]
  },
  {
   "cell_type": "code",
   "execution_count": 14,
   "id": "d56264c7",
   "metadata": {},
   "outputs": [
    {
     "name": "stdout",
     "output_type": "stream",
     "text": [
      "Accuracy: 1.000 (0.000)\n"
     ]
    }
   ],
   "source": [
    "\n",
    "cv = RepeatedStratifiedKFold(n_splits=10, n_repeats=3, random_state=1)\n",
    "n_scores = cross_val_score(model, X_sklearn_test, y_test, scoring='accuracy', cv=cv, n_jobs=-1)\n",
    "\n",
    "from numpy import mean\n",
    "from numpy import std\n",
    "print('Accuracy: %.3f (%.3f)' % (mean(n_scores), std(n_scores)))"
   ]
  },
  {
   "cell_type": "code",
   "execution_count": null,
   "id": "f540b6a7",
   "metadata": {},
   "outputs": [],
   "source": [
    "# HeatMaps"
   ]
  },
  {
   "cell_type": "code",
   "execution_count": null,
   "id": "384ae952",
   "metadata": {},
   "outputs": [],
   "source": [
    "# x_train"
   ]
  },
  {
   "cell_type": "code",
   "execution_count": 9,
   "id": "5beeefe6",
   "metadata": {},
   "outputs": [
    {
     "data": {
      "image/png": "[encoded data removed]",
      "text/plain": [
       "<Figure size 1440x1440 with 2 Axes>"
      ]
     },
     "metadata": {
      "needs_background": "light"
     },
     "output_type": "display_data"
    }
   ],
   "source": [
    "import matplotlib.pyplot as plt\n",
    "import seaborn as sns\n",
    "corrmat = x_train.corr()\n",
    "top_corr_features = corrmat.index\n",
    "plt.figure(figsize=(20,20))\n",
    "#plot heat map\n",
    "g=sns.heatmap(x_train[top_corr_features].corr(),annot=False,cmap=\"RdYlGn\")"
   ]
  },
  {
   "cell_type": "code",
   "execution_count": null,
   "id": "e16168a4",
   "metadata": {},
   "outputs": [],
   "source": [
    "#x_test"
   ]
  },
  {
   "cell_type": "code",
   "execution_count": 10,
   "id": "36bbd3f1",
   "metadata": {},
   "outputs": [
    {
     "data": {
      "image/png": "[encoded data removed]",
      "text/plain": [
       "<Figure size 1440x1440 with 2 Axes>"
      ]
     },
     "metadata": {
      "needs_background": "light"
     },
     "output_type": "display_data"
    }
   ],
   "source": [
    "import matplotlib.pyplot as plt\n",
    "import seaborn as sns\n",
    "corrmat = x_test.corr()\n",
    "top_corr_features = corrmat.index\n",
    "plt.figure(figsize=(20,20))\n",
    "#plot heat map\n",
    "g=sns.heatmap(x_test[top_corr_features].corr(),annot=False,cmap=\"RdYlGn\")"
   ]
  }
 ],
 "metadata": {
  "kernelspec": {
   "display_name": "Python 3",
   "language": "python",
   "name": "python3"
  },
  "language_info": {
   "codemirror_mode": {
    "name": "ipython",
    "version": 3
   },
   "file_extension": ".py",
   "mimetype": "text/x-python",
   "name": "python",
   "nbconvert_exporter": "python",
   "pygments_lexer": "ipython3",
   "version": "3.8.8"
  }
 },
 "nbformat": 4,
 "nbformat_minor": 5
}
